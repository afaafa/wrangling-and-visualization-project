{
  "cells": [
    {
      "cell_type": "markdown",
      "metadata": {
        "id": "view-in-github",
        "colab_type": "text"
      },
      "source": [
        "<a href=\"https://colab.research.google.com/github/afaafa/wrangling-and-visualization-project/blob/main/ebay_car_sales.ipynb\" target=\"_parent\"><img src=\"https://colab.research.google.com/assets/colab-badge.svg\" alt=\"Open In Colab\"/></a>"
      ]
    },
    {
      "cell_type": "code",
      "execution_count": 1,
      "metadata": {
        "id": "mh12gSs9rsCc"
      },
      "outputs": [],
      "source": [
        "# import library yang dibutuhkan\n",
        "import pandas as pd\n",
        "import numpy as np\n",
        "import matplotlib.pyplot as plt\n",
        "import seaborn as sns\n",
        "from datetime import datetime\n",
        "from sklearn.preprocessing import OneHotEncoder, StandardScaler\n",
        "\n",
        "\n",
        "\n",
        "# import library untuk ignore future warning\n",
        "import warnings\n",
        "warnings.simplefilter(action='ignore', category=FutureWarning)"
      ]
    },
    {
      "cell_type": "code",
      "execution_count": 2,
      "metadata": {
        "colab": {
          "base_uri": "https://localhost:8080/",
          "height": 400
        },
        "id": "8OF5vWtnsVEj",
        "outputId": "cc2e9a69-9c08-42ed-fd14-9233ff6bd553"
      },
      "outputs": [
        {
          "output_type": "execute_result",
          "data": {
            "text/plain": [
              "           dateCrawled                            name  seller offerType  \\\n",
              "0  2016-03-24 11:52:17                      Golf_3_1.6  privat   Angebot   \n",
              "1  2016-03-24 10:58:45            A5_Sportback_2.7_Tdi  privat   Angebot   \n",
              "2  2016-03-14 12:52:21  Jeep_Grand_Cherokee_\"Overland\"  privat   Angebot   \n",
              "3  2016-03-17 16:54:04              GOLF_4_1_4__3TÜRER  privat   Angebot   \n",
              "4  2016-03-31 17:25:20  Skoda_Fabia_1.4_TDI_PD_Classic  privat   Angebot   \n",
              "\n",
              "   price abtest vehicleType  yearOfRegistration    gearbox  powerPS  model  \\\n",
              "0    480   test         NaN                1993    manuell        0   golf   \n",
              "1  18300   test       coupe                2011    manuell      190    NaN   \n",
              "2   9800   test         suv                2004  automatik      163  grand   \n",
              "3   1500   test  kleinwagen                2001    manuell       75   golf   \n",
              "4   3600   test  kleinwagen                2008    manuell       69  fabia   \n",
              "\n",
              "   kilometer  monthOfRegistration fuelType       brand notRepairedDamage  \\\n",
              "0     150000                    0   benzin  volkswagen               NaN   \n",
              "1     125000                    5   diesel        audi                ja   \n",
              "2     125000                    8   diesel        jeep               NaN   \n",
              "3     150000                    6   benzin  volkswagen              nein   \n",
              "4      90000                    7   diesel       skoda              nein   \n",
              "\n",
              "           dateCreated  nrOfPictures  postalCode             lastSeen  \n",
              "0  2016-03-24 00:00:00             0       70435  2016-04-07 03:16:57  \n",
              "1  2016-03-24 00:00:00             0       66954  2016-04-07 01:46:50  \n",
              "2  2016-03-14 00:00:00             0       90480  2016-04-05 12:47:46  \n",
              "3  2016-03-17 00:00:00             0       91074  2016-03-17 17:40:17  \n",
              "4  2016-03-31 00:00:00             0       60437  2016-04-06 10:17:21  "
            ],
            "text/html": [
              "\n",
              "  <div id=\"df-47daa428-d3e9-4b74-9ffc-65871c669b68\" class=\"colab-df-container\">\n",
              "    <div>\n",
              "<style scoped>\n",
              "    .dataframe tbody tr th:only-of-type {\n",
              "        vertical-align: middle;\n",
              "    }\n",
              "\n",
              "    .dataframe tbody tr th {\n",
              "        vertical-align: top;\n",
              "    }\n",
              "\n",
              "    .dataframe thead th {\n",
              "        text-align: right;\n",
              "    }\n",
              "</style>\n",
              "<table border=\"1\" class=\"dataframe\">\n",
              "  <thead>\n",
              "    <tr style=\"text-align: right;\">\n",
              "      <th></th>\n",
              "      <th>dateCrawled</th>\n",
              "      <th>name</th>\n",
              "      <th>seller</th>\n",
              "      <th>offerType</th>\n",
              "      <th>price</th>\n",
              "      <th>abtest</th>\n",
              "      <th>vehicleType</th>\n",
              "      <th>yearOfRegistration</th>\n",
              "      <th>gearbox</th>\n",
              "      <th>powerPS</th>\n",
              "      <th>model</th>\n",
              "      <th>kilometer</th>\n",
              "      <th>monthOfRegistration</th>\n",
              "      <th>fuelType</th>\n",
              "      <th>brand</th>\n",
              "      <th>notRepairedDamage</th>\n",
              "      <th>dateCreated</th>\n",
              "      <th>nrOfPictures</th>\n",
              "      <th>postalCode</th>\n",
              "      <th>lastSeen</th>\n",
              "    </tr>\n",
              "  </thead>\n",
              "  <tbody>\n",
              "    <tr>\n",
              "      <th>0</th>\n",
              "      <td>2016-03-24 11:52:17</td>\n",
              "      <td>Golf_3_1.6</td>\n",
              "      <td>privat</td>\n",
              "      <td>Angebot</td>\n",
              "      <td>480</td>\n",
              "      <td>test</td>\n",
              "      <td>NaN</td>\n",
              "      <td>1993</td>\n",
              "      <td>manuell</td>\n",
              "      <td>0</td>\n",
              "      <td>golf</td>\n",
              "      <td>150000</td>\n",
              "      <td>0</td>\n",
              "      <td>benzin</td>\n",
              "      <td>volkswagen</td>\n",
              "      <td>NaN</td>\n",
              "      <td>2016-03-24 00:00:00</td>\n",
              "      <td>0</td>\n",
              "      <td>70435</td>\n",
              "      <td>2016-04-07 03:16:57</td>\n",
              "    </tr>\n",
              "    <tr>\n",
              "      <th>1</th>\n",
              "      <td>2016-03-24 10:58:45</td>\n",
              "      <td>A5_Sportback_2.7_Tdi</td>\n",
              "      <td>privat</td>\n",
              "      <td>Angebot</td>\n",
              "      <td>18300</td>\n",
              "      <td>test</td>\n",
              "      <td>coupe</td>\n",
              "      <td>2011</td>\n",
              "      <td>manuell</td>\n",
              "      <td>190</td>\n",
              "      <td>NaN</td>\n",
              "      <td>125000</td>\n",
              "      <td>5</td>\n",
              "      <td>diesel</td>\n",
              "      <td>audi</td>\n",
              "      <td>ja</td>\n",
              "      <td>2016-03-24 00:00:00</td>\n",
              "      <td>0</td>\n",
              "      <td>66954</td>\n",
              "      <td>2016-04-07 01:46:50</td>\n",
              "    </tr>\n",
              "    <tr>\n",
              "      <th>2</th>\n",
              "      <td>2016-03-14 12:52:21</td>\n",
              "      <td>Jeep_Grand_Cherokee_\"Overland\"</td>\n",
              "      <td>privat</td>\n",
              "      <td>Angebot</td>\n",
              "      <td>9800</td>\n",
              "      <td>test</td>\n",
              "      <td>suv</td>\n",
              "      <td>2004</td>\n",
              "      <td>automatik</td>\n",
              "      <td>163</td>\n",
              "      <td>grand</td>\n",
              "      <td>125000</td>\n",
              "      <td>8</td>\n",
              "      <td>diesel</td>\n",
              "      <td>jeep</td>\n",
              "      <td>NaN</td>\n",
              "      <td>2016-03-14 00:00:00</td>\n",
              "      <td>0</td>\n",
              "      <td>90480</td>\n",
              "      <td>2016-04-05 12:47:46</td>\n",
              "    </tr>\n",
              "    <tr>\n",
              "      <th>3</th>\n",
              "      <td>2016-03-17 16:54:04</td>\n",
              "      <td>GOLF_4_1_4__3TÜRER</td>\n",
              "      <td>privat</td>\n",
              "      <td>Angebot</td>\n",
              "      <td>1500</td>\n",
              "      <td>test</td>\n",
              "      <td>kleinwagen</td>\n",
              "      <td>2001</td>\n",
              "      <td>manuell</td>\n",
              "      <td>75</td>\n",
              "      <td>golf</td>\n",
              "      <td>150000</td>\n",
              "      <td>6</td>\n",
              "      <td>benzin</td>\n",
              "      <td>volkswagen</td>\n",
              "      <td>nein</td>\n",
              "      <td>2016-03-17 00:00:00</td>\n",
              "      <td>0</td>\n",
              "      <td>91074</td>\n",
              "      <td>2016-03-17 17:40:17</td>\n",
              "    </tr>\n",
              "    <tr>\n",
              "      <th>4</th>\n",
              "      <td>2016-03-31 17:25:20</td>\n",
              "      <td>Skoda_Fabia_1.4_TDI_PD_Classic</td>\n",
              "      <td>privat</td>\n",
              "      <td>Angebot</td>\n",
              "      <td>3600</td>\n",
              "      <td>test</td>\n",
              "      <td>kleinwagen</td>\n",
              "      <td>2008</td>\n",
              "      <td>manuell</td>\n",
              "      <td>69</td>\n",
              "      <td>fabia</td>\n",
              "      <td>90000</td>\n",
              "      <td>7</td>\n",
              "      <td>diesel</td>\n",
              "      <td>skoda</td>\n",
              "      <td>nein</td>\n",
              "      <td>2016-03-31 00:00:00</td>\n",
              "      <td>0</td>\n",
              "      <td>60437</td>\n",
              "      <td>2016-04-06 10:17:21</td>\n",
              "    </tr>\n",
              "  </tbody>\n",
              "</table>\n",
              "</div>\n",
              "    <div class=\"colab-df-buttons\">\n",
              "\n",
              "  <div class=\"colab-df-container\">\n",
              "    <button class=\"colab-df-convert\" onclick=\"convertToInteractive('df-47daa428-d3e9-4b74-9ffc-65871c669b68')\"\n",
              "            title=\"Convert this dataframe to an interactive table.\"\n",
              "            style=\"display:none;\">\n",
              "\n",
              "  <svg xmlns=\"http://www.w3.org/2000/svg\" height=\"24px\" viewBox=\"0 -960 960 960\">\n",
              "    <path d=\"M120-120v-720h720v720H120Zm60-500h600v-160H180v160Zm220 220h160v-160H400v160Zm0 220h160v-160H400v160ZM180-400h160v-160H180v160Zm440 0h160v-160H620v160ZM180-180h160v-160H180v160Zm440 0h160v-160H620v160Z\"/>\n",
              "  </svg>\n",
              "    </button>\n",
              "\n",
              "  <style>\n",
              "    .colab-df-container {\n",
              "      display:flex;\n",
              "      gap: 12px;\n",
              "    }\n",
              "\n",
              "    .colab-df-convert {\n",
              "      background-color: #E8F0FE;\n",
              "      border: none;\n",
              "      border-radius: 50%;\n",
              "      cursor: pointer;\n",
              "      display: none;\n",
              "      fill: #1967D2;\n",
              "      height: 32px;\n",
              "      padding: 0 0 0 0;\n",
              "      width: 32px;\n",
              "    }\n",
              "\n",
              "    .colab-df-convert:hover {\n",
              "      background-color: #E2EBFA;\n",
              "      box-shadow: 0px 1px 2px rgba(60, 64, 67, 0.3), 0px 1px 3px 1px rgba(60, 64, 67, 0.15);\n",
              "      fill: #174EA6;\n",
              "    }\n",
              "\n",
              "    .colab-df-buttons div {\n",
              "      margin-bottom: 4px;\n",
              "    }\n",
              "\n",
              "    [theme=dark] .colab-df-convert {\n",
              "      background-color: #3B4455;\n",
              "      fill: #D2E3FC;\n",
              "    }\n",
              "\n",
              "    [theme=dark] .colab-df-convert:hover {\n",
              "      background-color: #434B5C;\n",
              "      box-shadow: 0px 1px 3px 1px rgba(0, 0, 0, 0.15);\n",
              "      filter: drop-shadow(0px 1px 2px rgba(0, 0, 0, 0.3));\n",
              "      fill: #FFFFFF;\n",
              "    }\n",
              "  </style>\n",
              "\n",
              "    <script>\n",
              "      const buttonEl =\n",
              "        document.querySelector('#df-47daa428-d3e9-4b74-9ffc-65871c669b68 button.colab-df-convert');\n",
              "      buttonEl.style.display =\n",
              "        google.colab.kernel.accessAllowed ? 'block' : 'none';\n",
              "\n",
              "      async function convertToInteractive(key) {\n",
              "        const element = document.querySelector('#df-47daa428-d3e9-4b74-9ffc-65871c669b68');\n",
              "        const dataTable =\n",
              "          await google.colab.kernel.invokeFunction('convertToInteractive',\n",
              "                                                    [key], {});\n",
              "        if (!dataTable) return;\n",
              "\n",
              "        const docLinkHtml = 'Like what you see? Visit the ' +\n",
              "          '<a target=\"_blank\" href=https://colab.research.google.com/notebooks/data_table.ipynb>data table notebook</a>'\n",
              "          + ' to learn more about interactive tables.';\n",
              "        element.innerHTML = '';\n",
              "        dataTable['output_type'] = 'display_data';\n",
              "        await google.colab.output.renderOutput(dataTable, element);\n",
              "        const docLink = document.createElement('div');\n",
              "        docLink.innerHTML = docLinkHtml;\n",
              "        element.appendChild(docLink);\n",
              "      }\n",
              "    </script>\n",
              "  </div>\n",
              "\n",
              "\n",
              "<div id=\"df-fcfc0f79-ecc0-4cd4-b904-d4af01ee7f52\">\n",
              "  <button class=\"colab-df-quickchart\" onclick=\"quickchart('df-fcfc0f79-ecc0-4cd4-b904-d4af01ee7f52')\"\n",
              "            title=\"Suggest charts\"\n",
              "            style=\"display:none;\">\n",
              "\n",
              "<svg xmlns=\"http://www.w3.org/2000/svg\" height=\"24px\"viewBox=\"0 0 24 24\"\n",
              "     width=\"24px\">\n",
              "    <g>\n",
              "        <path d=\"M19 3H5c-1.1 0-2 .9-2 2v14c0 1.1.9 2 2 2h14c1.1 0 2-.9 2-2V5c0-1.1-.9-2-2-2zM9 17H7v-7h2v7zm4 0h-2V7h2v10zm4 0h-2v-4h2v4z\"/>\n",
              "    </g>\n",
              "</svg>\n",
              "  </button>\n",
              "\n",
              "<style>\n",
              "  .colab-df-quickchart {\n",
              "      --bg-color: #E8F0FE;\n",
              "      --fill-color: #1967D2;\n",
              "      --hover-bg-color: #E2EBFA;\n",
              "      --hover-fill-color: #174EA6;\n",
              "      --disabled-fill-color: #AAA;\n",
              "      --disabled-bg-color: #DDD;\n",
              "  }\n",
              "\n",
              "  [theme=dark] .colab-df-quickchart {\n",
              "      --bg-color: #3B4455;\n",
              "      --fill-color: #D2E3FC;\n",
              "      --hover-bg-color: #434B5C;\n",
              "      --hover-fill-color: #FFFFFF;\n",
              "      --disabled-bg-color: #3B4455;\n",
              "      --disabled-fill-color: #666;\n",
              "  }\n",
              "\n",
              "  .colab-df-quickchart {\n",
              "    background-color: var(--bg-color);\n",
              "    border: none;\n",
              "    border-radius: 50%;\n",
              "    cursor: pointer;\n",
              "    display: none;\n",
              "    fill: var(--fill-color);\n",
              "    height: 32px;\n",
              "    padding: 0;\n",
              "    width: 32px;\n",
              "  }\n",
              "\n",
              "  .colab-df-quickchart:hover {\n",
              "    background-color: var(--hover-bg-color);\n",
              "    box-shadow: 0 1px 2px rgba(60, 64, 67, 0.3), 0 1px 3px 1px rgba(60, 64, 67, 0.15);\n",
              "    fill: var(--button-hover-fill-color);\n",
              "  }\n",
              "\n",
              "  .colab-df-quickchart-complete:disabled,\n",
              "  .colab-df-quickchart-complete:disabled:hover {\n",
              "    background-color: var(--disabled-bg-color);\n",
              "    fill: var(--disabled-fill-color);\n",
              "    box-shadow: none;\n",
              "  }\n",
              "\n",
              "  .colab-df-spinner {\n",
              "    border: 2px solid var(--fill-color);\n",
              "    border-color: transparent;\n",
              "    border-bottom-color: var(--fill-color);\n",
              "    animation:\n",
              "      spin 1s steps(1) infinite;\n",
              "  }\n",
              "\n",
              "  @keyframes spin {\n",
              "    0% {\n",
              "      border-color: transparent;\n",
              "      border-bottom-color: var(--fill-color);\n",
              "      border-left-color: var(--fill-color);\n",
              "    }\n",
              "    20% {\n",
              "      border-color: transparent;\n",
              "      border-left-color: var(--fill-color);\n",
              "      border-top-color: var(--fill-color);\n",
              "    }\n",
              "    30% {\n",
              "      border-color: transparent;\n",
              "      border-left-color: var(--fill-color);\n",
              "      border-top-color: var(--fill-color);\n",
              "      border-right-color: var(--fill-color);\n",
              "    }\n",
              "    40% {\n",
              "      border-color: transparent;\n",
              "      border-right-color: var(--fill-color);\n",
              "      border-top-color: var(--fill-color);\n",
              "    }\n",
              "    60% {\n",
              "      border-color: transparent;\n",
              "      border-right-color: var(--fill-color);\n",
              "    }\n",
              "    80% {\n",
              "      border-color: transparent;\n",
              "      border-right-color: var(--fill-color);\n",
              "      border-bottom-color: var(--fill-color);\n",
              "    }\n",
              "    90% {\n",
              "      border-color: transparent;\n",
              "      border-bottom-color: var(--fill-color);\n",
              "    }\n",
              "  }\n",
              "</style>\n",
              "\n",
              "  <script>\n",
              "    async function quickchart(key) {\n",
              "      const quickchartButtonEl =\n",
              "        document.querySelector('#' + key + ' button');\n",
              "      quickchartButtonEl.disabled = true;  // To prevent multiple clicks.\n",
              "      quickchartButtonEl.classList.add('colab-df-spinner');\n",
              "      try {\n",
              "        const charts = await google.colab.kernel.invokeFunction(\n",
              "            'suggestCharts', [key], {});\n",
              "      } catch (error) {\n",
              "        console.error('Error during call to suggestCharts:', error);\n",
              "      }\n",
              "      quickchartButtonEl.classList.remove('colab-df-spinner');\n",
              "      quickchartButtonEl.classList.add('colab-df-quickchart-complete');\n",
              "    }\n",
              "    (() => {\n",
              "      let quickchartButtonEl =\n",
              "        document.querySelector('#df-fcfc0f79-ecc0-4cd4-b904-d4af01ee7f52 button');\n",
              "      quickchartButtonEl.style.display =\n",
              "        google.colab.kernel.accessAllowed ? 'block' : 'none';\n",
              "    })();\n",
              "  </script>\n",
              "</div>\n",
              "    </div>\n",
              "  </div>\n"
            ],
            "application/vnd.google.colaboratory.intrinsic+json": {
              "type": "dataframe",
              "variable_name": "autos"
            }
          },
          "metadata": {},
          "execution_count": 2
        }
      ],
      "source": [
        "# Path data\n",
        "path_data = \"autos.csv\"\n",
        "\n",
        "# read data dari file\n",
        "autos = pd.read_csv(path_data, encoding='latin-1')\n",
        "\n",
        "# Menampilkan 5 data teratas\n",
        "autos.head()"
      ]
    },
    {
      "cell_type": "markdown",
      "metadata": {
        "id": "1YNdAtxRknPV"
      },
      "source": [
        "# Eksploration of Data & Preprocessing\n",
        "\n",
        "Outline:\n",
        "* Check data type and match with definition given by data source\n",
        "* Check missing value and handle it\n",
        "* Check Duplicated and handle it\n",
        "* Check Inkonsistensi Data and handle it\n",
        "* Check outlier and handle it"
      ]
    },
    {
      "cell_type": "markdown",
      "metadata": {
        "id": "v5_ZnkdY447R"
      },
      "source": [
        "## Check Data Type"
      ]
    },
    {
      "cell_type": "code",
      "execution_count": 3,
      "metadata": {
        "colab": {
          "base_uri": "https://localhost:8080/"
        },
        "id": "F1sD-AlFk38h",
        "outputId": "407eeb8c-0c18-4f39-a280-3f1dda9cc9e6"
      },
      "outputs": [
        {
          "output_type": "stream",
          "name": "stdout",
          "text": [
            "<class 'pandas.core.frame.DataFrame'>\n",
            "RangeIndex: 371528 entries, 0 to 371527\n",
            "Data columns (total 20 columns):\n",
            " #   Column               Non-Null Count   Dtype \n",
            "---  ------               --------------   ----- \n",
            " 0   dateCrawled          371528 non-null  object\n",
            " 1   name                 371528 non-null  object\n",
            " 2   seller               371528 non-null  object\n",
            " 3   offerType            371528 non-null  object\n",
            " 4   price                371528 non-null  int64 \n",
            " 5   abtest               371528 non-null  object\n",
            " 6   vehicleType          333659 non-null  object\n",
            " 7   yearOfRegistration   371528 non-null  int64 \n",
            " 8   gearbox              351319 non-null  object\n",
            " 9   powerPS              371528 non-null  int64 \n",
            " 10  model                351044 non-null  object\n",
            " 11  kilometer            371528 non-null  int64 \n",
            " 12  monthOfRegistration  371528 non-null  int64 \n",
            " 13  fuelType             338142 non-null  object\n",
            " 14  brand                371528 non-null  object\n",
            " 15  notRepairedDamage    299468 non-null  object\n",
            " 16  dateCreated          371528 non-null  object\n",
            " 17  nrOfPictures         371528 non-null  int64 \n",
            " 18  postalCode           371528 non-null  int64 \n",
            " 19  lastSeen             371528 non-null  object\n",
            "dtypes: int64(7), object(13)\n",
            "memory usage: 56.7+ MB\n"
          ]
        }
      ],
      "source": [
        "# Cek tipe data dari data autos\n",
        "autos.info()"
      ]
    },
    {
      "cell_type": "markdown",
      "metadata": {
        "id": "G3N7i3Xd5Mv0"
      },
      "source": [
        "1. Data berisi 20 kolom, dan ditemukan bahwa ada 13 kolom bertipe object, dan 7 kolom bertipe integer\n",
        "2. Penamaan kolom menggunakan camelCase, hal tersebut tidak sesuai dengan aturan penamaan di Python\n",
        "3. Ada beberapa kolom yang memiliki null value"
      ]
    },
    {
      "cell_type": "markdown",
      "metadata": {
        "id": "GIPPA8jErmuJ"
      },
      "source": [
        "kita akan mengubah nama kolom menjadi lebih mudah dibaca sehingga memudahkan dalam proses wrangling, nama kolom menggunkan format snake-case supaya lebih konsisten"
      ]
    },
    {
      "cell_type": "code",
      "execution_count": 4,
      "metadata": {
        "colab": {
          "base_uri": "https://localhost:8080/"
        },
        "id": "v-9BYpUKskk2",
        "outputId": "13ee5283-a920-4ce4-e607-64f49a398a68"
      },
      "outputs": [
        {
          "output_type": "execute_result",
          "data": {
            "text/plain": [
              "Index(['dateCrawled', 'name', 'seller', 'offerType', 'price', 'abtest',\n",
              "       'vehicleType', 'yearOfRegistration', 'gearbox', 'powerPS', 'model',\n",
              "       'kilometer', 'monthOfRegistration', 'fuelType', 'brand',\n",
              "       'notRepairedDamage', 'dateCreated', 'nrOfPictures', 'postalCode',\n",
              "       'lastSeen'],\n",
              "      dtype='object')"
            ]
          },
          "metadata": {},
          "execution_count": 4
        }
      ],
      "source": [
        "#cek nama kolom\n",
        "autos.columns"
      ]
    },
    {
      "cell_type": "code",
      "execution_count": 6,
      "metadata": {
        "colab": {
          "base_uri": "https://localhost:8080/",
          "height": 202
        },
        "id": "2Ymg0QtgswAM",
        "outputId": "ac6de03f-e327-45d9-83e7-420d7722ab07"
      },
      "outputs": [
        {
          "output_type": "execute_result",
          "data": {
            "text/plain": [
              "          date_crawled                  name  seller offer_type  price abtest  \\\n",
              "0  2016-03-24 11:52:17            Golf_3_1.6  privat    Angebot    480   test   \n",
              "1  2016-03-24 10:58:45  A5_Sportback_2.7_Tdi  privat    Angebot  18300   test   \n",
              "\n",
              "  vehicle_type  registration_year  gearbox  power_ps model  kilometer  \\\n",
              "0          NaN               1993  manuell         0  golf     150000   \n",
              "1        coupe               2011  manuell       190   NaN     125000   \n",
              "\n",
              "   registration_month fuel_type       brand unrepaired_damage  \\\n",
              "0                   0    benzin  volkswagen               NaN   \n",
              "1                   5    diesel        audi                ja   \n",
              "\n",
              "            ad_created  nr_of_picture  postal_code            last_seen  \n",
              "0  2016-03-24 00:00:00              0        70435  2016-04-07 03:16:57  \n",
              "1  2016-03-24 00:00:00              0        66954  2016-04-07 01:46:50  "
            ],
            "text/html": [
              "\n",
              "  <div id=\"df-fbb339cf-29e1-429d-929e-d90a6b720520\" class=\"colab-df-container\">\n",
              "    <div>\n",
              "<style scoped>\n",
              "    .dataframe tbody tr th:only-of-type {\n",
              "        vertical-align: middle;\n",
              "    }\n",
              "\n",
              "    .dataframe tbody tr th {\n",
              "        vertical-align: top;\n",
              "    }\n",
              "\n",
              "    .dataframe thead th {\n",
              "        text-align: right;\n",
              "    }\n",
              "</style>\n",
              "<table border=\"1\" class=\"dataframe\">\n",
              "  <thead>\n",
              "    <tr style=\"text-align: right;\">\n",
              "      <th></th>\n",
              "      <th>date_crawled</th>\n",
              "      <th>name</th>\n",
              "      <th>seller</th>\n",
              "      <th>offer_type</th>\n",
              "      <th>price</th>\n",
              "      <th>abtest</th>\n",
              "      <th>vehicle_type</th>\n",
              "      <th>registration_year</th>\n",
              "      <th>gearbox</th>\n",
              "      <th>power_ps</th>\n",
              "      <th>model</th>\n",
              "      <th>kilometer</th>\n",
              "      <th>registration_month</th>\n",
              "      <th>fuel_type</th>\n",
              "      <th>brand</th>\n",
              "      <th>unrepaired_damage</th>\n",
              "      <th>ad_created</th>\n",
              "      <th>nr_of_picture</th>\n",
              "      <th>postal_code</th>\n",
              "      <th>last_seen</th>\n",
              "    </tr>\n",
              "  </thead>\n",
              "  <tbody>\n",
              "    <tr>\n",
              "      <th>0</th>\n",
              "      <td>2016-03-24 11:52:17</td>\n",
              "      <td>Golf_3_1.6</td>\n",
              "      <td>privat</td>\n",
              "      <td>Angebot</td>\n",
              "      <td>480</td>\n",
              "      <td>test</td>\n",
              "      <td>NaN</td>\n",
              "      <td>1993</td>\n",
              "      <td>manuell</td>\n",
              "      <td>0</td>\n",
              "      <td>golf</td>\n",
              "      <td>150000</td>\n",
              "      <td>0</td>\n",
              "      <td>benzin</td>\n",
              "      <td>volkswagen</td>\n",
              "      <td>NaN</td>\n",
              "      <td>2016-03-24 00:00:00</td>\n",
              "      <td>0</td>\n",
              "      <td>70435</td>\n",
              "      <td>2016-04-07 03:16:57</td>\n",
              "    </tr>\n",
              "    <tr>\n",
              "      <th>1</th>\n",
              "      <td>2016-03-24 10:58:45</td>\n",
              "      <td>A5_Sportback_2.7_Tdi</td>\n",
              "      <td>privat</td>\n",
              "      <td>Angebot</td>\n",
              "      <td>18300</td>\n",
              "      <td>test</td>\n",
              "      <td>coupe</td>\n",
              "      <td>2011</td>\n",
              "      <td>manuell</td>\n",
              "      <td>190</td>\n",
              "      <td>NaN</td>\n",
              "      <td>125000</td>\n",
              "      <td>5</td>\n",
              "      <td>diesel</td>\n",
              "      <td>audi</td>\n",
              "      <td>ja</td>\n",
              "      <td>2016-03-24 00:00:00</td>\n",
              "      <td>0</td>\n",
              "      <td>66954</td>\n",
              "      <td>2016-04-07 01:46:50</td>\n",
              "    </tr>\n",
              "  </tbody>\n",
              "</table>\n",
              "</div>\n",
              "    <div class=\"colab-df-buttons\">\n",
              "\n",
              "  <div class=\"colab-df-container\">\n",
              "    <button class=\"colab-df-convert\" onclick=\"convertToInteractive('df-fbb339cf-29e1-429d-929e-d90a6b720520')\"\n",
              "            title=\"Convert this dataframe to an interactive table.\"\n",
              "            style=\"display:none;\">\n",
              "\n",
              "  <svg xmlns=\"http://www.w3.org/2000/svg\" height=\"24px\" viewBox=\"0 -960 960 960\">\n",
              "    <path d=\"M120-120v-720h720v720H120Zm60-500h600v-160H180v160Zm220 220h160v-160H400v160Zm0 220h160v-160H400v160ZM180-400h160v-160H180v160Zm440 0h160v-160H620v160ZM180-180h160v-160H180v160Zm440 0h160v-160H620v160Z\"/>\n",
              "  </svg>\n",
              "    </button>\n",
              "\n",
              "  <style>\n",
              "    .colab-df-container {\n",
              "      display:flex;\n",
              "      gap: 12px;\n",
              "    }\n",
              "\n",
              "    .colab-df-convert {\n",
              "      background-color: #E8F0FE;\n",
              "      border: none;\n",
              "      border-radius: 50%;\n",
              "      cursor: pointer;\n",
              "      display: none;\n",
              "      fill: #1967D2;\n",
              "      height: 32px;\n",
              "      padding: 0 0 0 0;\n",
              "      width: 32px;\n",
              "    }\n",
              "\n",
              "    .colab-df-convert:hover {\n",
              "      background-color: #E2EBFA;\n",
              "      box-shadow: 0px 1px 2px rgba(60, 64, 67, 0.3), 0px 1px 3px 1px rgba(60, 64, 67, 0.15);\n",
              "      fill: #174EA6;\n",
              "    }\n",
              "\n",
              "    .colab-df-buttons div {\n",
              "      margin-bottom: 4px;\n",
              "    }\n",
              "\n",
              "    [theme=dark] .colab-df-convert {\n",
              "      background-color: #3B4455;\n",
              "      fill: #D2E3FC;\n",
              "    }\n",
              "\n",
              "    [theme=dark] .colab-df-convert:hover {\n",
              "      background-color: #434B5C;\n",
              "      box-shadow: 0px 1px 3px 1px rgba(0, 0, 0, 0.15);\n",
              "      filter: drop-shadow(0px 1px 2px rgba(0, 0, 0, 0.3));\n",
              "      fill: #FFFFFF;\n",
              "    }\n",
              "  </style>\n",
              "\n",
              "    <script>\n",
              "      const buttonEl =\n",
              "        document.querySelector('#df-fbb339cf-29e1-429d-929e-d90a6b720520 button.colab-df-convert');\n",
              "      buttonEl.style.display =\n",
              "        google.colab.kernel.accessAllowed ? 'block' : 'none';\n",
              "\n",
              "      async function convertToInteractive(key) {\n",
              "        const element = document.querySelector('#df-fbb339cf-29e1-429d-929e-d90a6b720520');\n",
              "        const dataTable =\n",
              "          await google.colab.kernel.invokeFunction('convertToInteractive',\n",
              "                                                    [key], {});\n",
              "        if (!dataTable) return;\n",
              "\n",
              "        const docLinkHtml = 'Like what you see? Visit the ' +\n",
              "          '<a target=\"_blank\" href=https://colab.research.google.com/notebooks/data_table.ipynb>data table notebook</a>'\n",
              "          + ' to learn more about interactive tables.';\n",
              "        element.innerHTML = '';\n",
              "        dataTable['output_type'] = 'display_data';\n",
              "        await google.colab.output.renderOutput(dataTable, element);\n",
              "        const docLink = document.createElement('div');\n",
              "        docLink.innerHTML = docLinkHtml;\n",
              "        element.appendChild(docLink);\n",
              "      }\n",
              "    </script>\n",
              "  </div>\n",
              "\n",
              "\n",
              "<div id=\"df-e759d2a1-1f63-4414-95cc-2432879da600\">\n",
              "  <button class=\"colab-df-quickchart\" onclick=\"quickchart('df-e759d2a1-1f63-4414-95cc-2432879da600')\"\n",
              "            title=\"Suggest charts\"\n",
              "            style=\"display:none;\">\n",
              "\n",
              "<svg xmlns=\"http://www.w3.org/2000/svg\" height=\"24px\"viewBox=\"0 0 24 24\"\n",
              "     width=\"24px\">\n",
              "    <g>\n",
              "        <path d=\"M19 3H5c-1.1 0-2 .9-2 2v14c0 1.1.9 2 2 2h14c1.1 0 2-.9 2-2V5c0-1.1-.9-2-2-2zM9 17H7v-7h2v7zm4 0h-2V7h2v10zm4 0h-2v-4h2v4z\"/>\n",
              "    </g>\n",
              "</svg>\n",
              "  </button>\n",
              "\n",
              "<style>\n",
              "  .colab-df-quickchart {\n",
              "      --bg-color: #E8F0FE;\n",
              "      --fill-color: #1967D2;\n",
              "      --hover-bg-color: #E2EBFA;\n",
              "      --hover-fill-color: #174EA6;\n",
              "      --disabled-fill-color: #AAA;\n",
              "      --disabled-bg-color: #DDD;\n",
              "  }\n",
              "\n",
              "  [theme=dark] .colab-df-quickchart {\n",
              "      --bg-color: #3B4455;\n",
              "      --fill-color: #D2E3FC;\n",
              "      --hover-bg-color: #434B5C;\n",
              "      --hover-fill-color: #FFFFFF;\n",
              "      --disabled-bg-color: #3B4455;\n",
              "      --disabled-fill-color: #666;\n",
              "  }\n",
              "\n",
              "  .colab-df-quickchart {\n",
              "    background-color: var(--bg-color);\n",
              "    border: none;\n",
              "    border-radius: 50%;\n",
              "    cursor: pointer;\n",
              "    display: none;\n",
              "    fill: var(--fill-color);\n",
              "    height: 32px;\n",
              "    padding: 0;\n",
              "    width: 32px;\n",
              "  }\n",
              "\n",
              "  .colab-df-quickchart:hover {\n",
              "    background-color: var(--hover-bg-color);\n",
              "    box-shadow: 0 1px 2px rgba(60, 64, 67, 0.3), 0 1px 3px 1px rgba(60, 64, 67, 0.15);\n",
              "    fill: var(--button-hover-fill-color);\n",
              "  }\n",
              "\n",
              "  .colab-df-quickchart-complete:disabled,\n",
              "  .colab-df-quickchart-complete:disabled:hover {\n",
              "    background-color: var(--disabled-bg-color);\n",
              "    fill: var(--disabled-fill-color);\n",
              "    box-shadow: none;\n",
              "  }\n",
              "\n",
              "  .colab-df-spinner {\n",
              "    border: 2px solid var(--fill-color);\n",
              "    border-color: transparent;\n",
              "    border-bottom-color: var(--fill-color);\n",
              "    animation:\n",
              "      spin 1s steps(1) infinite;\n",
              "  }\n",
              "\n",
              "  @keyframes spin {\n",
              "    0% {\n",
              "      border-color: transparent;\n",
              "      border-bottom-color: var(--fill-color);\n",
              "      border-left-color: var(--fill-color);\n",
              "    }\n",
              "    20% {\n",
              "      border-color: transparent;\n",
              "      border-left-color: var(--fill-color);\n",
              "      border-top-color: var(--fill-color);\n",
              "    }\n",
              "    30% {\n",
              "      border-color: transparent;\n",
              "      border-left-color: var(--fill-color);\n",
              "      border-top-color: var(--fill-color);\n",
              "      border-right-color: var(--fill-color);\n",
              "    }\n",
              "    40% {\n",
              "      border-color: transparent;\n",
              "      border-right-color: var(--fill-color);\n",
              "      border-top-color: var(--fill-color);\n",
              "    }\n",
              "    60% {\n",
              "      border-color: transparent;\n",
              "      border-right-color: var(--fill-color);\n",
              "    }\n",
              "    80% {\n",
              "      border-color: transparent;\n",
              "      border-right-color: var(--fill-color);\n",
              "      border-bottom-color: var(--fill-color);\n",
              "    }\n",
              "    90% {\n",
              "      border-color: transparent;\n",
              "      border-bottom-color: var(--fill-color);\n",
              "    }\n",
              "  }\n",
              "</style>\n",
              "\n",
              "  <script>\n",
              "    async function quickchart(key) {\n",
              "      const quickchartButtonEl =\n",
              "        document.querySelector('#' + key + ' button');\n",
              "      quickchartButtonEl.disabled = true;  // To prevent multiple clicks.\n",
              "      quickchartButtonEl.classList.add('colab-df-spinner');\n",
              "      try {\n",
              "        const charts = await google.colab.kernel.invokeFunction(\n",
              "            'suggestCharts', [key], {});\n",
              "      } catch (error) {\n",
              "        console.error('Error during call to suggestCharts:', error);\n",
              "      }\n",
              "      quickchartButtonEl.classList.remove('colab-df-spinner');\n",
              "      quickchartButtonEl.classList.add('colab-df-quickchart-complete');\n",
              "    }\n",
              "    (() => {\n",
              "      let quickchartButtonEl =\n",
              "        document.querySelector('#df-e759d2a1-1f63-4414-95cc-2432879da600 button');\n",
              "      quickchartButtonEl.style.display =\n",
              "        google.colab.kernel.accessAllowed ? 'block' : 'none';\n",
              "    })();\n",
              "  </script>\n",
              "</div>\n",
              "    </div>\n",
              "  </div>\n"
            ],
            "application/vnd.google.colaboratory.intrinsic+json": {
              "type": "dataframe",
              "variable_name": "autos"
            }
          },
          "metadata": {},
          "execution_count": 6
        }
      ],
      "source": [
        "# mengubah nama kolom yang menggunakan camelCase menjadi snake-case\n",
        "change_name_column = {'dateCrawled': 'date_crawled',\n",
        "                      'offerType': 'offer_type',\n",
        "                      'vehicleType': 'vehicle_type',\n",
        "                      'yearOfRegistration': 'registration_year',\n",
        "                      'powerPS': 'power_ps',\n",
        "                      'monthOfRegistration': 'registration_month',\n",
        "                      'fuelType': 'fuel_type',\n",
        "                      'notRepairedDamage': 'unrepaired_damage',\n",
        "                      'dateCreated': 'ad_created',\n",
        "                      'nrOfPictures': 'nr_of_picture',\n",
        "                      'postalCode': 'postal_code',\n",
        "                      'lastSeen': 'last_seen',\n",
        "                      }\n",
        "\n",
        "autos = autos.rename(columns = change_name_column)\n",
        "autos.head(2)"
      ]
    },
    {
      "cell_type": "markdown",
      "metadata": {
        "id": "pT_mq0WFXjeg"
      },
      "source": [
        "## Ekploration of Data\n",
        "#### Melihat statistik deskriptif semua kolom"
      ]
    },
    {
      "cell_type": "code",
      "execution_count": 7,
      "metadata": {
        "colab": {
          "base_uri": "https://localhost:8080/",
          "height": 449
        },
        "id": "q7xRpQrzWENr",
        "outputId": "34696a24-d6b7-4a89-a175-b1ff77f6aff3"
      },
      "outputs": [
        {
          "output_type": "execute_result",
          "data": {
            "text/plain": [
              "               date_crawled         name  seller offer_type         price  \\\n",
              "count                371528       371528  371528     371528  3.715280e+05   \n",
              "unique               280500       233531       2          2           NaN   \n",
              "top     2016-03-24 14:49:47  Ford_Fiesta  privat    Angebot           NaN   \n",
              "freq                      7          657  371525     371516           NaN   \n",
              "mean                    NaN          NaN     NaN        NaN  1.729514e+04   \n",
              "std                     NaN          NaN     NaN        NaN  3.587954e+06   \n",
              "min                     NaN          NaN     NaN        NaN  0.000000e+00   \n",
              "25%                     NaN          NaN     NaN        NaN  1.150000e+03   \n",
              "50%                     NaN          NaN     NaN        NaN  2.950000e+03   \n",
              "75%                     NaN          NaN     NaN        NaN  7.200000e+03   \n",
              "max                     NaN          NaN     NaN        NaN  2.147484e+09   \n",
              "\n",
              "        abtest vehicle_type  registration_year  gearbox       power_ps  \\\n",
              "count   371528       333659      371528.000000   351319  371528.000000   \n",
              "unique       2            8                NaN        2            NaN   \n",
              "top       test    limousine                NaN  manuell            NaN   \n",
              "freq    192585        95894                NaN   274214            NaN   \n",
              "mean       NaN          NaN        2004.577997      NaN     115.549477   \n",
              "std        NaN          NaN          92.866598      NaN     192.139578   \n",
              "min        NaN          NaN        1000.000000      NaN       0.000000   \n",
              "25%        NaN          NaN        1999.000000      NaN      70.000000   \n",
              "50%        NaN          NaN        2003.000000      NaN     105.000000   \n",
              "75%        NaN          NaN        2008.000000      NaN     150.000000   \n",
              "max        NaN          NaN        9999.000000      NaN   20000.000000   \n",
              "\n",
              "         model      kilometer  registration_month fuel_type       brand  \\\n",
              "count   351044  371528.000000       371528.000000    338142      371528   \n",
              "unique     251            NaN                 NaN         7          40   \n",
              "top       golf            NaN                 NaN    benzin  volkswagen   \n",
              "freq     30070            NaN                 NaN    223857       79640   \n",
              "mean       NaN  125618.688228            5.734445       NaN         NaN   \n",
              "std        NaN   40112.337051            3.712412       NaN         NaN   \n",
              "min        NaN    5000.000000            0.000000       NaN         NaN   \n",
              "25%        NaN  125000.000000            3.000000       NaN         NaN   \n",
              "50%        NaN  150000.000000            6.000000       NaN         NaN   \n",
              "75%        NaN  150000.000000            9.000000       NaN         NaN   \n",
              "max        NaN  150000.000000           12.000000       NaN         NaN   \n",
              "\n",
              "       unrepaired_damage           ad_created  nr_of_picture   postal_code  \\\n",
              "count             299468               371528       371528.0  371528.00000   \n",
              "unique                 2                  114            NaN           NaN   \n",
              "top                 nein  2016-04-03 00:00:00            NaN           NaN   \n",
              "freq              263182                14450            NaN           NaN   \n",
              "mean                 NaN                  NaN            0.0   50820.66764   \n",
              "std                  NaN                  NaN            0.0   25799.08247   \n",
              "min                  NaN                  NaN            0.0    1067.00000   \n",
              "25%                  NaN                  NaN            0.0   30459.00000   \n",
              "50%                  NaN                  NaN            0.0   49610.00000   \n",
              "75%                  NaN                  NaN            0.0   71546.00000   \n",
              "max                  NaN                  NaN            0.0   99998.00000   \n",
              "\n",
              "                  last_seen  \n",
              "count                371528  \n",
              "unique               182806  \n",
              "top     2016-04-07 06:45:59  \n",
              "freq                     17  \n",
              "mean                    NaN  \n",
              "std                     NaN  \n",
              "min                     NaN  \n",
              "25%                     NaN  \n",
              "50%                     NaN  \n",
              "75%                     NaN  \n",
              "max                     NaN  "
            ],
            "text/html": [
              "\n",
              "  <div id=\"df-ffc3daa0-1099-495c-a950-995a02220f75\" class=\"colab-df-container\">\n",
              "    <div>\n",
              "<style scoped>\n",
              "    .dataframe tbody tr th:only-of-type {\n",
              "        vertical-align: middle;\n",
              "    }\n",
              "\n",
              "    .dataframe tbody tr th {\n",
              "        vertical-align: top;\n",
              "    }\n",
              "\n",
              "    .dataframe thead th {\n",
              "        text-align: right;\n",
              "    }\n",
              "</style>\n",
              "<table border=\"1\" class=\"dataframe\">\n",
              "  <thead>\n",
              "    <tr style=\"text-align: right;\">\n",
              "      <th></th>\n",
              "      <th>date_crawled</th>\n",
              "      <th>name</th>\n",
              "      <th>seller</th>\n",
              "      <th>offer_type</th>\n",
              "      <th>price</th>\n",
              "      <th>abtest</th>\n",
              "      <th>vehicle_type</th>\n",
              "      <th>registration_year</th>\n",
              "      <th>gearbox</th>\n",
              "      <th>power_ps</th>\n",
              "      <th>model</th>\n",
              "      <th>kilometer</th>\n",
              "      <th>registration_month</th>\n",
              "      <th>fuel_type</th>\n",
              "      <th>brand</th>\n",
              "      <th>unrepaired_damage</th>\n",
              "      <th>ad_created</th>\n",
              "      <th>nr_of_picture</th>\n",
              "      <th>postal_code</th>\n",
              "      <th>last_seen</th>\n",
              "    </tr>\n",
              "  </thead>\n",
              "  <tbody>\n",
              "    <tr>\n",
              "      <th>count</th>\n",
              "      <td>371528</td>\n",
              "      <td>371528</td>\n",
              "      <td>371528</td>\n",
              "      <td>371528</td>\n",
              "      <td>3.715280e+05</td>\n",
              "      <td>371528</td>\n",
              "      <td>333659</td>\n",
              "      <td>371528.000000</td>\n",
              "      <td>351319</td>\n",
              "      <td>371528.000000</td>\n",
              "      <td>351044</td>\n",
              "      <td>371528.000000</td>\n",
              "      <td>371528.000000</td>\n",
              "      <td>338142</td>\n",
              "      <td>371528</td>\n",
              "      <td>299468</td>\n",
              "      <td>371528</td>\n",
              "      <td>371528.0</td>\n",
              "      <td>371528.00000</td>\n",
              "      <td>371528</td>\n",
              "    </tr>\n",
              "    <tr>\n",
              "      <th>unique</th>\n",
              "      <td>280500</td>\n",
              "      <td>233531</td>\n",
              "      <td>2</td>\n",
              "      <td>2</td>\n",
              "      <td>NaN</td>\n",
              "      <td>2</td>\n",
              "      <td>8</td>\n",
              "      <td>NaN</td>\n",
              "      <td>2</td>\n",
              "      <td>NaN</td>\n",
              "      <td>251</td>\n",
              "      <td>NaN</td>\n",
              "      <td>NaN</td>\n",
              "      <td>7</td>\n",
              "      <td>40</td>\n",
              "      <td>2</td>\n",
              "      <td>114</td>\n",
              "      <td>NaN</td>\n",
              "      <td>NaN</td>\n",
              "      <td>182806</td>\n",
              "    </tr>\n",
              "    <tr>\n",
              "      <th>top</th>\n",
              "      <td>2016-03-24 14:49:47</td>\n",
              "      <td>Ford_Fiesta</td>\n",
              "      <td>privat</td>\n",
              "      <td>Angebot</td>\n",
              "      <td>NaN</td>\n",
              "      <td>test</td>\n",
              "      <td>limousine</td>\n",
              "      <td>NaN</td>\n",
              "      <td>manuell</td>\n",
              "      <td>NaN</td>\n",
              "      <td>golf</td>\n",
              "      <td>NaN</td>\n",
              "      <td>NaN</td>\n",
              "      <td>benzin</td>\n",
              "      <td>volkswagen</td>\n",
              "      <td>nein</td>\n",
              "      <td>2016-04-03 00:00:00</td>\n",
              "      <td>NaN</td>\n",
              "      <td>NaN</td>\n",
              "      <td>2016-04-07 06:45:59</td>\n",
              "    </tr>\n",
              "    <tr>\n",
              "      <th>freq</th>\n",
              "      <td>7</td>\n",
              "      <td>657</td>\n",
              "      <td>371525</td>\n",
              "      <td>371516</td>\n",
              "      <td>NaN</td>\n",
              "      <td>192585</td>\n",
              "      <td>95894</td>\n",
              "      <td>NaN</td>\n",
              "      <td>274214</td>\n",
              "      <td>NaN</td>\n",
              "      <td>30070</td>\n",
              "      <td>NaN</td>\n",
              "      <td>NaN</td>\n",
              "      <td>223857</td>\n",
              "      <td>79640</td>\n",
              "      <td>263182</td>\n",
              "      <td>14450</td>\n",
              "      <td>NaN</td>\n",
              "      <td>NaN</td>\n",
              "      <td>17</td>\n",
              "    </tr>\n",
              "    <tr>\n",
              "      <th>mean</th>\n",
              "      <td>NaN</td>\n",
              "      <td>NaN</td>\n",
              "      <td>NaN</td>\n",
              "      <td>NaN</td>\n",
              "      <td>1.729514e+04</td>\n",
              "      <td>NaN</td>\n",
              "      <td>NaN</td>\n",
              "      <td>2004.577997</td>\n",
              "      <td>NaN</td>\n",
              "      <td>115.549477</td>\n",
              "      <td>NaN</td>\n",
              "      <td>125618.688228</td>\n",
              "      <td>5.734445</td>\n",
              "      <td>NaN</td>\n",
              "      <td>NaN</td>\n",
              "      <td>NaN</td>\n",
              "      <td>NaN</td>\n",
              "      <td>0.0</td>\n",
              "      <td>50820.66764</td>\n",
              "      <td>NaN</td>\n",
              "    </tr>\n",
              "    <tr>\n",
              "      <th>std</th>\n",
              "      <td>NaN</td>\n",
              "      <td>NaN</td>\n",
              "      <td>NaN</td>\n",
              "      <td>NaN</td>\n",
              "      <td>3.587954e+06</td>\n",
              "      <td>NaN</td>\n",
              "      <td>NaN</td>\n",
              "      <td>92.866598</td>\n",
              "      <td>NaN</td>\n",
              "      <td>192.139578</td>\n",
              "      <td>NaN</td>\n",
              "      <td>40112.337051</td>\n",
              "      <td>3.712412</td>\n",
              "      <td>NaN</td>\n",
              "      <td>NaN</td>\n",
              "      <td>NaN</td>\n",
              "      <td>NaN</td>\n",
              "      <td>0.0</td>\n",
              "      <td>25799.08247</td>\n",
              "      <td>NaN</td>\n",
              "    </tr>\n",
              "    <tr>\n",
              "      <th>min</th>\n",
              "      <td>NaN</td>\n",
              "      <td>NaN</td>\n",
              "      <td>NaN</td>\n",
              "      <td>NaN</td>\n",
              "      <td>0.000000e+00</td>\n",
              "      <td>NaN</td>\n",
              "      <td>NaN</td>\n",
              "      <td>1000.000000</td>\n",
              "      <td>NaN</td>\n",
              "      <td>0.000000</td>\n",
              "      <td>NaN</td>\n",
              "      <td>5000.000000</td>\n",
              "      <td>0.000000</td>\n",
              "      <td>NaN</td>\n",
              "      <td>NaN</td>\n",
              "      <td>NaN</td>\n",
              "      <td>NaN</td>\n",
              "      <td>0.0</td>\n",
              "      <td>1067.00000</td>\n",
              "      <td>NaN</td>\n",
              "    </tr>\n",
              "    <tr>\n",
              "      <th>25%</th>\n",
              "      <td>NaN</td>\n",
              "      <td>NaN</td>\n",
              "      <td>NaN</td>\n",
              "      <td>NaN</td>\n",
              "      <td>1.150000e+03</td>\n",
              "      <td>NaN</td>\n",
              "      <td>NaN</td>\n",
              "      <td>1999.000000</td>\n",
              "      <td>NaN</td>\n",
              "      <td>70.000000</td>\n",
              "      <td>NaN</td>\n",
              "      <td>125000.000000</td>\n",
              "      <td>3.000000</td>\n",
              "      <td>NaN</td>\n",
              "      <td>NaN</td>\n",
              "      <td>NaN</td>\n",
              "      <td>NaN</td>\n",
              "      <td>0.0</td>\n",
              "      <td>30459.00000</td>\n",
              "      <td>NaN</td>\n",
              "    </tr>\n",
              "    <tr>\n",
              "      <th>50%</th>\n",
              "      <td>NaN</td>\n",
              "      <td>NaN</td>\n",
              "      <td>NaN</td>\n",
              "      <td>NaN</td>\n",
              "      <td>2.950000e+03</td>\n",
              "      <td>NaN</td>\n",
              "      <td>NaN</td>\n",
              "      <td>2003.000000</td>\n",
              "      <td>NaN</td>\n",
              "      <td>105.000000</td>\n",
              "      <td>NaN</td>\n",
              "      <td>150000.000000</td>\n",
              "      <td>6.000000</td>\n",
              "      <td>NaN</td>\n",
              "      <td>NaN</td>\n",
              "      <td>NaN</td>\n",
              "      <td>NaN</td>\n",
              "      <td>0.0</td>\n",
              "      <td>49610.00000</td>\n",
              "      <td>NaN</td>\n",
              "    </tr>\n",
              "    <tr>\n",
              "      <th>75%</th>\n",
              "      <td>NaN</td>\n",
              "      <td>NaN</td>\n",
              "      <td>NaN</td>\n",
              "      <td>NaN</td>\n",
              "      <td>7.200000e+03</td>\n",
              "      <td>NaN</td>\n",
              "      <td>NaN</td>\n",
              "      <td>2008.000000</td>\n",
              "      <td>NaN</td>\n",
              "      <td>150.000000</td>\n",
              "      <td>NaN</td>\n",
              "      <td>150000.000000</td>\n",
              "      <td>9.000000</td>\n",
              "      <td>NaN</td>\n",
              "      <td>NaN</td>\n",
              "      <td>NaN</td>\n",
              "      <td>NaN</td>\n",
              "      <td>0.0</td>\n",
              "      <td>71546.00000</td>\n",
              "      <td>NaN</td>\n",
              "    </tr>\n",
              "    <tr>\n",
              "      <th>max</th>\n",
              "      <td>NaN</td>\n",
              "      <td>NaN</td>\n",
              "      <td>NaN</td>\n",
              "      <td>NaN</td>\n",
              "      <td>2.147484e+09</td>\n",
              "      <td>NaN</td>\n",
              "      <td>NaN</td>\n",
              "      <td>9999.000000</td>\n",
              "      <td>NaN</td>\n",
              "      <td>20000.000000</td>\n",
              "      <td>NaN</td>\n",
              "      <td>150000.000000</td>\n",
              "      <td>12.000000</td>\n",
              "      <td>NaN</td>\n",
              "      <td>NaN</td>\n",
              "      <td>NaN</td>\n",
              "      <td>NaN</td>\n",
              "      <td>0.0</td>\n",
              "      <td>99998.00000</td>\n",
              "      <td>NaN</td>\n",
              "    </tr>\n",
              "  </tbody>\n",
              "</table>\n",
              "</div>\n",
              "    <div class=\"colab-df-buttons\">\n",
              "\n",
              "  <div class=\"colab-df-container\">\n",
              "    <button class=\"colab-df-convert\" onclick=\"convertToInteractive('df-ffc3daa0-1099-495c-a950-995a02220f75')\"\n",
              "            title=\"Convert this dataframe to an interactive table.\"\n",
              "            style=\"display:none;\">\n",
              "\n",
              "  <svg xmlns=\"http://www.w3.org/2000/svg\" height=\"24px\" viewBox=\"0 -960 960 960\">\n",
              "    <path d=\"M120-120v-720h720v720H120Zm60-500h600v-160H180v160Zm220 220h160v-160H400v160Zm0 220h160v-160H400v160ZM180-400h160v-160H180v160Zm440 0h160v-160H620v160ZM180-180h160v-160H180v160Zm440 0h160v-160H620v160Z\"/>\n",
              "  </svg>\n",
              "    </button>\n",
              "\n",
              "  <style>\n",
              "    .colab-df-container {\n",
              "      display:flex;\n",
              "      gap: 12px;\n",
              "    }\n",
              "\n",
              "    .colab-df-convert {\n",
              "      background-color: #E8F0FE;\n",
              "      border: none;\n",
              "      border-radius: 50%;\n",
              "      cursor: pointer;\n",
              "      display: none;\n",
              "      fill: #1967D2;\n",
              "      height: 32px;\n",
              "      padding: 0 0 0 0;\n",
              "      width: 32px;\n",
              "    }\n",
              "\n",
              "    .colab-df-convert:hover {\n",
              "      background-color: #E2EBFA;\n",
              "      box-shadow: 0px 1px 2px rgba(60, 64, 67, 0.3), 0px 1px 3px 1px rgba(60, 64, 67, 0.15);\n",
              "      fill: #174EA6;\n",
              "    }\n",
              "\n",
              "    .colab-df-buttons div {\n",
              "      margin-bottom: 4px;\n",
              "    }\n",
              "\n",
              "    [theme=dark] .colab-df-convert {\n",
              "      background-color: #3B4455;\n",
              "      fill: #D2E3FC;\n",
              "    }\n",
              "\n",
              "    [theme=dark] .colab-df-convert:hover {\n",
              "      background-color: #434B5C;\n",
              "      box-shadow: 0px 1px 3px 1px rgba(0, 0, 0, 0.15);\n",
              "      filter: drop-shadow(0px 1px 2px rgba(0, 0, 0, 0.3));\n",
              "      fill: #FFFFFF;\n",
              "    }\n",
              "  </style>\n",
              "\n",
              "    <script>\n",
              "      const buttonEl =\n",
              "        document.querySelector('#df-ffc3daa0-1099-495c-a950-995a02220f75 button.colab-df-convert');\n",
              "      buttonEl.style.display =\n",
              "        google.colab.kernel.accessAllowed ? 'block' : 'none';\n",
              "\n",
              "      async function convertToInteractive(key) {\n",
              "        const element = document.querySelector('#df-ffc3daa0-1099-495c-a950-995a02220f75');\n",
              "        const dataTable =\n",
              "          await google.colab.kernel.invokeFunction('convertToInteractive',\n",
              "                                                    [key], {});\n",
              "        if (!dataTable) return;\n",
              "\n",
              "        const docLinkHtml = 'Like what you see? Visit the ' +\n",
              "          '<a target=\"_blank\" href=https://colab.research.google.com/notebooks/data_table.ipynb>data table notebook</a>'\n",
              "          + ' to learn more about interactive tables.';\n",
              "        element.innerHTML = '';\n",
              "        dataTable['output_type'] = 'display_data';\n",
              "        await google.colab.output.renderOutput(dataTable, element);\n",
              "        const docLink = document.createElement('div');\n",
              "        docLink.innerHTML = docLinkHtml;\n",
              "        element.appendChild(docLink);\n",
              "      }\n",
              "    </script>\n",
              "  </div>\n",
              "\n",
              "\n",
              "<div id=\"df-5ae68b46-9bbb-4940-b40f-d330a8c04dbf\">\n",
              "  <button class=\"colab-df-quickchart\" onclick=\"quickchart('df-5ae68b46-9bbb-4940-b40f-d330a8c04dbf')\"\n",
              "            title=\"Suggest charts\"\n",
              "            style=\"display:none;\">\n",
              "\n",
              "<svg xmlns=\"http://www.w3.org/2000/svg\" height=\"24px\"viewBox=\"0 0 24 24\"\n",
              "     width=\"24px\">\n",
              "    <g>\n",
              "        <path d=\"M19 3H5c-1.1 0-2 .9-2 2v14c0 1.1.9 2 2 2h14c1.1 0 2-.9 2-2V5c0-1.1-.9-2-2-2zM9 17H7v-7h2v7zm4 0h-2V7h2v10zm4 0h-2v-4h2v4z\"/>\n",
              "    </g>\n",
              "</svg>\n",
              "  </button>\n",
              "\n",
              "<style>\n",
              "  .colab-df-quickchart {\n",
              "      --bg-color: #E8F0FE;\n",
              "      --fill-color: #1967D2;\n",
              "      --hover-bg-color: #E2EBFA;\n",
              "      --hover-fill-color: #174EA6;\n",
              "      --disabled-fill-color: #AAA;\n",
              "      --disabled-bg-color: #DDD;\n",
              "  }\n",
              "\n",
              "  [theme=dark] .colab-df-quickchart {\n",
              "      --bg-color: #3B4455;\n",
              "      --fill-color: #D2E3FC;\n",
              "      --hover-bg-color: #434B5C;\n",
              "      --hover-fill-color: #FFFFFF;\n",
              "      --disabled-bg-color: #3B4455;\n",
              "      --disabled-fill-color: #666;\n",
              "  }\n",
              "\n",
              "  .colab-df-quickchart {\n",
              "    background-color: var(--bg-color);\n",
              "    border: none;\n",
              "    border-radius: 50%;\n",
              "    cursor: pointer;\n",
              "    display: none;\n",
              "    fill: var(--fill-color);\n",
              "    height: 32px;\n",
              "    padding: 0;\n",
              "    width: 32px;\n",
              "  }\n",
              "\n",
              "  .colab-df-quickchart:hover {\n",
              "    background-color: var(--hover-bg-color);\n",
              "    box-shadow: 0 1px 2px rgba(60, 64, 67, 0.3), 0 1px 3px 1px rgba(60, 64, 67, 0.15);\n",
              "    fill: var(--button-hover-fill-color);\n",
              "  }\n",
              "\n",
              "  .colab-df-quickchart-complete:disabled,\n",
              "  .colab-df-quickchart-complete:disabled:hover {\n",
              "    background-color: var(--disabled-bg-color);\n",
              "    fill: var(--disabled-fill-color);\n",
              "    box-shadow: none;\n",
              "  }\n",
              "\n",
              "  .colab-df-spinner {\n",
              "    border: 2px solid var(--fill-color);\n",
              "    border-color: transparent;\n",
              "    border-bottom-color: var(--fill-color);\n",
              "    animation:\n",
              "      spin 1s steps(1) infinite;\n",
              "  }\n",
              "\n",
              "  @keyframes spin {\n",
              "    0% {\n",
              "      border-color: transparent;\n",
              "      border-bottom-color: var(--fill-color);\n",
              "      border-left-color: var(--fill-color);\n",
              "    }\n",
              "    20% {\n",
              "      border-color: transparent;\n",
              "      border-left-color: var(--fill-color);\n",
              "      border-top-color: var(--fill-color);\n",
              "    }\n",
              "    30% {\n",
              "      border-color: transparent;\n",
              "      border-left-color: var(--fill-color);\n",
              "      border-top-color: var(--fill-color);\n",
              "      border-right-color: var(--fill-color);\n",
              "    }\n",
              "    40% {\n",
              "      border-color: transparent;\n",
              "      border-right-color: var(--fill-color);\n",
              "      border-top-color: var(--fill-color);\n",
              "    }\n",
              "    60% {\n",
              "      border-color: transparent;\n",
              "      border-right-color: var(--fill-color);\n",
              "    }\n",
              "    80% {\n",
              "      border-color: transparent;\n",
              "      border-right-color: var(--fill-color);\n",
              "      border-bottom-color: var(--fill-color);\n",
              "    }\n",
              "    90% {\n",
              "      border-color: transparent;\n",
              "      border-bottom-color: var(--fill-color);\n",
              "    }\n",
              "  }\n",
              "</style>\n",
              "\n",
              "  <script>\n",
              "    async function quickchart(key) {\n",
              "      const quickchartButtonEl =\n",
              "        document.querySelector('#' + key + ' button');\n",
              "      quickchartButtonEl.disabled = true;  // To prevent multiple clicks.\n",
              "      quickchartButtonEl.classList.add('colab-df-spinner');\n",
              "      try {\n",
              "        const charts = await google.colab.kernel.invokeFunction(\n",
              "            'suggestCharts', [key], {});\n",
              "      } catch (error) {\n",
              "        console.error('Error during call to suggestCharts:', error);\n",
              "      }\n",
              "      quickchartButtonEl.classList.remove('colab-df-spinner');\n",
              "      quickchartButtonEl.classList.add('colab-df-quickchart-complete');\n",
              "    }\n",
              "    (() => {\n",
              "      let quickchartButtonEl =\n",
              "        document.querySelector('#df-5ae68b46-9bbb-4940-b40f-d330a8c04dbf button');\n",
              "      quickchartButtonEl.style.display =\n",
              "        google.colab.kernel.accessAllowed ? 'block' : 'none';\n",
              "    })();\n",
              "  </script>\n",
              "</div>\n",
              "    </div>\n",
              "  </div>\n"
            ],
            "application/vnd.google.colaboratory.intrinsic+json": {
              "type": "dataframe",
              "summary": "{\n  \"name\": \"autos\",\n  \"rows\": 11,\n  \"fields\": [\n    {\n      \"column\": \"date_crawled\",\n      \"properties\": {\n        \"dtype\": \"date\",\n        \"min\": \"1970-01-01 00:00:00.000000007\",\n        \"max\": \"2016-03-24 14:49:47\",\n        \"num_unique_values\": 4,\n        \"samples\": [\n          280500,\n          \"7\",\n          \"371528\"\n        ],\n        \"semantic_type\": \"\",\n        \"description\": \"\"\n      }\n    },\n    {\n      \"column\": \"name\",\n      \"properties\": {\n        \"dtype\": \"category\",\n        \"num_unique_values\": 4,\n        \"samples\": [\n          233531,\n          \"657\",\n          \"371528\"\n        ],\n        \"semantic_type\": \"\",\n        \"description\": \"\"\n      }\n    },\n    {\n      \"column\": \"seller\",\n      \"properties\": {\n        \"dtype\": \"category\",\n        \"num_unique_values\": 4,\n        \"samples\": [\n          2,\n          \"371525\",\n          \"371528\"\n        ],\n        \"semantic_type\": \"\",\n        \"description\": \"\"\n      }\n    },\n    {\n      \"column\": \"offer_type\",\n      \"properties\": {\n        \"dtype\": \"category\",\n        \"num_unique_values\": 4,\n        \"samples\": [\n          2,\n          \"371516\",\n          \"371528\"\n        ],\n        \"semantic_type\": \"\",\n        \"description\": \"\"\n      }\n    },\n    {\n      \"column\": \"price\",\n      \"properties\": {\n        \"dtype\": \"number\",\n        \"std\": 759049706.9741933,\n        \"min\": 0.0,\n        \"max\": 2147483647.0,\n        \"num_unique_values\": 8,\n        \"samples\": [\n          17295.14186548524,\n          2950.0,\n          371528.0\n        ],\n        \"semantic_type\": \"\",\n        \"description\": \"\"\n      }\n    },\n    {\n      \"column\": \"abtest\",\n      \"properties\": {\n        \"dtype\": \"category\",\n        \"num_unique_values\": 4,\n        \"samples\": [\n          2,\n          \"192585\",\n          \"371528\"\n        ],\n        \"semantic_type\": \"\",\n        \"description\": \"\"\n      }\n    },\n    {\n      \"column\": \"vehicle_type\",\n      \"properties\": {\n        \"dtype\": \"category\",\n        \"num_unique_values\": 4,\n        \"samples\": [\n          8,\n          \"95894\",\n          \"333659\"\n        ],\n        \"semantic_type\": \"\",\n        \"description\": \"\"\n      }\n    },\n    {\n      \"column\": \"registration_year\",\n      \"properties\": {\n        \"dtype\": \"number\",\n        \"std\": 130425.50865379216,\n        \"min\": 92.86659759165106,\n        \"max\": 371528.0,\n        \"num_unique_values\": 8,\n        \"samples\": [\n          2004.5779968131608,\n          2003.0,\n          371528.0\n        ],\n        \"semantic_type\": \"\",\n        \"description\": \"\"\n      }\n    },\n    {\n      \"column\": \"gearbox\",\n      \"properties\": {\n        \"dtype\": \"category\",\n        \"num_unique_values\": 4,\n        \"samples\": [\n          2,\n          \"274214\",\n          \"351319\"\n        ],\n        \"semantic_type\": \"\",\n        \"description\": \"\"\n      }\n    },\n    {\n      \"column\": \"power_ps\",\n      \"properties\": {\n        \"dtype\": \"number\",\n        \"std\": 130498.70974912868,\n        \"min\": 0.0,\n        \"max\": 371528.0,\n        \"num_unique_values\": 8,\n        \"samples\": [\n          115.54947675545316,\n          105.0,\n          371528.0\n        ],\n        \"semantic_type\": \"\",\n        \"description\": \"\"\n      }\n    },\n    {\n      \"column\": \"model\",\n      \"properties\": {\n        \"dtype\": \"category\",\n        \"num_unique_values\": 4,\n        \"samples\": [\n          251,\n          \"30070\",\n          \"351044\"\n        ],\n        \"semantic_type\": \"\",\n        \"description\": \"\"\n      }\n    },\n    {\n      \"column\": \"kilometer\",\n      \"properties\": {\n        \"dtype\": \"number\",\n        \"std\": 108587.45192170315,\n        \"min\": 5000.0,\n        \"max\": 371528.0,\n        \"num_unique_values\": 6,\n        \"samples\": [\n          371528.0,\n          125618.68822807433,\n          150000.0\n        ],\n        \"semantic_type\": \"\",\n        \"description\": \"\"\n      }\n    },\n    {\n      \"column\": \"registration_month\",\n      \"properties\": {\n        \"dtype\": \"number\",\n        \"std\": 131352.99178447484,\n        \"min\": 0.0,\n        \"max\": 371528.0,\n        \"num_unique_values\": 8,\n        \"samples\": [\n          5.73444531771495,\n          6.0,\n          371528.0\n        ],\n        \"semantic_type\": \"\",\n        \"description\": \"\"\n      }\n    },\n    {\n      \"column\": \"fuel_type\",\n      \"properties\": {\n        \"dtype\": \"category\",\n        \"num_unique_values\": 4,\n        \"samples\": [\n          7,\n          \"223857\",\n          \"338142\"\n        ],\n        \"semantic_type\": \"\",\n        \"description\": \"\"\n      }\n    },\n    {\n      \"column\": \"brand\",\n      \"properties\": {\n        \"dtype\": \"category\",\n        \"num_unique_values\": 4,\n        \"samples\": [\n          40,\n          \"79640\",\n          \"371528\"\n        ],\n        \"semantic_type\": \"\",\n        \"description\": \"\"\n      }\n    },\n    {\n      \"column\": \"unrepaired_damage\",\n      \"properties\": {\n        \"dtype\": \"category\",\n        \"num_unique_values\": 4,\n        \"samples\": [\n          2,\n          \"263182\",\n          \"299468\"\n        ],\n        \"semantic_type\": \"\",\n        \"description\": \"\"\n      }\n    },\n    {\n      \"column\": \"ad_created\",\n      \"properties\": {\n        \"dtype\": \"date\",\n        \"min\": \"1970-01-01 00:00:00.000000114\",\n        \"max\": \"2016-04-03 00:00:00\",\n        \"num_unique_values\": 4,\n        \"samples\": [\n          114,\n          \"14450\",\n          \"371528\"\n        ],\n        \"semantic_type\": \"\",\n        \"description\": \"\"\n      }\n    },\n    {\n      \"column\": \"nr_of_picture\",\n      \"properties\": {\n        \"dtype\": \"number\",\n        \"std\": 131354.9841003378,\n        \"min\": 0.0,\n        \"max\": 371528.0,\n        \"num_unique_values\": 2,\n        \"samples\": [\n          0.0,\n          371528.0\n        ],\n        \"semantic_type\": \"\",\n        \"description\": \"\"\n      }\n    },\n    {\n      \"column\": \"postal_code\",\n      \"properties\": {\n        \"dtype\": \"number\",\n        \"std\": 118559.76020202678,\n        \"min\": 1067.0,\n        \"max\": 371528.0,\n        \"num_unique_values\": 8,\n        \"samples\": [\n          50820.667640124026,\n          49610.0\n        ],\n        \"semantic_type\": \"\",\n        \"description\": \"\"\n      }\n    },\n    {\n      \"column\": \"last_seen\",\n      \"properties\": {\n        \"dtype\": \"date\",\n        \"min\": \"1970-01-01 00:00:00.000000017\",\n        \"max\": \"2016-04-07 06:45:59\",\n        \"num_unique_values\": 4,\n        \"samples\": [\n          182806,\n          \"17\"\n        ],\n        \"semantic_type\": \"\",\n        \"description\": \"\"\n      }\n    }\n  ]\n}"
            }
          },
          "metadata": {},
          "execution_count": 7
        }
      ],
      "source": [
        "# melihat statistik deskiptif semua kolom\n",
        "autos.describe(include='all')"
      ]
    },
    {
      "cell_type": "markdown",
      "metadata": {
        "id": "SGSlIvUbu1QT"
      },
      "source": [
        "1. kolom yang paling banyak memiliki NaN nilai:\n",
        "- seller, offer_type, vehicle_type, brand\n",
        "\n",
        "2. Kolom yang memiliki nilai kosong:\n",
        "- nr_of_picture\n",
        "\n",
        "3. kolom yang membutuhkan penyelidikan lebih lanjut:\n",
        "- registration_year: memiliki nilai min dan max yang tidak realistis\n",
        "- price : memiliki nilai min dan max harga yang tidak realistis\n"
      ]
    },
    {
      "cell_type": "code",
      "execution_count": 8,
      "metadata": {
        "colab": {
          "base_uri": "https://localhost:8080/"
        },
        "id": "en9Ge95YPEqV",
        "outputId": "ba599601-95b5-44b9-9207-5e58e19adc6a"
      },
      "outputs": [
        {
          "output_type": "stream",
          "name": "stdout",
          "text": [
            "<class 'pandas.core.frame.DataFrame'>\n",
            "RangeIndex: 371528 entries, 0 to 371527\n",
            "Data columns (total 20 columns):\n",
            " #   Column              Non-Null Count   Dtype \n",
            "---  ------              --------------   ----- \n",
            " 0   date_crawled        371528 non-null  object\n",
            " 1   name                371528 non-null  object\n",
            " 2   seller              371528 non-null  object\n",
            " 3   offer_type          371528 non-null  object\n",
            " 4   price               371528 non-null  int64 \n",
            " 5   abtest              371528 non-null  object\n",
            " 6   vehicle_type        333659 non-null  object\n",
            " 7   registration_year   371528 non-null  int64 \n",
            " 8   gearbox             351319 non-null  object\n",
            " 9   power_ps            371528 non-null  int64 \n",
            " 10  model               351044 non-null  object\n",
            " 11  kilometer           371528 non-null  int64 \n",
            " 12  registration_month  371528 non-null  int64 \n",
            " 13  fuel_type           338142 non-null  object\n",
            " 14  brand               371528 non-null  object\n",
            " 15  unrepaired_damage   299468 non-null  object\n",
            " 16  ad_created          371528 non-null  object\n",
            " 17  nr_of_picture       371528 non-null  int64 \n",
            " 18  postal_code         371528 non-null  int64 \n",
            " 19  last_seen           371528 non-null  object\n",
            "dtypes: int64(7), object(13)\n",
            "memory usage: 56.7+ MB\n"
          ]
        }
      ],
      "source": [
        "# info dataset\n",
        "autos.info()"
      ]
    },
    {
      "cell_type": "markdown",
      "metadata": {
        "id": "3KrK7O-T_0ac"
      },
      "source": [
        "kita drop dulu kolom nr_of_picture karena semua data bernilai 0 dan juga tidak dibutuhkan dalam proses analisis"
      ]
    },
    {
      "cell_type": "code",
      "execution_count": 9,
      "metadata": {
        "id": "WQNSKv7T_yOn"
      },
      "outputs": [],
      "source": [
        "# hapus kolom nr_of_picture\n",
        "del autos['nr_of_picture']"
      ]
    },
    {
      "cell_type": "markdown",
      "metadata": {
        "id": "f2EsXBMwA-TZ"
      },
      "source": [
        "mengubah tipe data dari date_crawled dari object menjadi datetime"
      ]
    },
    {
      "cell_type": "code",
      "execution_count": 10,
      "metadata": {
        "colab": {
          "base_uri": "https://localhost:8080/"
        },
        "id": "1Ch8auM4b622",
        "outputId": "8db471f0-c629-4a4b-9266-8e39909b23d4"
      },
      "outputs": [
        {
          "output_type": "execute_result",
          "data": {
            "text/plain": [
              "0        2016-03-24 11:52:17\n",
              "1        2016-03-24 10:58:45\n",
              "2        2016-03-14 12:52:21\n",
              "3        2016-03-17 16:54:04\n",
              "4        2016-03-31 17:25:20\n",
              "                 ...        \n",
              "371523   2016-03-14 17:48:27\n",
              "371524   2016-03-05 19:56:21\n",
              "371525   2016-03-19 18:57:12\n",
              "371526   2016-03-20 19:41:08\n",
              "371527   2016-03-07 19:39:19\n",
              "Name: date_crawled, Length: 371528, dtype: datetime64[ns]"
            ]
          },
          "metadata": {},
          "execution_count": 10
        }
      ],
      "source": [
        "# Convert kolom date_crawled\n",
        "autos.date_crawled = pd.to_datetime(autos.date_crawled, yearfirst=True)\n",
        "\n",
        "# Tampilkan data tanggal dan waktu setelah diconvert\n",
        "autos.date_crawled"
      ]
    },
    {
      "cell_type": "markdown",
      "metadata": {
        "id": "75TDEleYCG1z"
      },
      "source": [
        "mengubah tipe data dari last_seen dari object menjadi datetime"
      ]
    },
    {
      "cell_type": "code",
      "execution_count": 11,
      "metadata": {
        "colab": {
          "base_uri": "https://localhost:8080/"
        },
        "id": "DfiXIkAbCC5a",
        "outputId": "2ed24a12-01c1-48c9-dcce-99526aa0fe67"
      },
      "outputs": [
        {
          "output_type": "execute_result",
          "data": {
            "text/plain": [
              "0        2016-04-07 03:16:57\n",
              "1        2016-04-07 01:46:50\n",
              "2        2016-04-05 12:47:46\n",
              "3        2016-03-17 17:40:17\n",
              "4        2016-04-06 10:17:21\n",
              "                 ...        \n",
              "371523   2016-04-06 00:46:52\n",
              "371524   2016-03-11 18:17:12\n",
              "371525   2016-04-07 07:15:26\n",
              "371526   2016-03-24 12:45:21\n",
              "371527   2016-03-22 03:17:10\n",
              "Name: last_seen, Length: 371528, dtype: datetime64[ns]"
            ]
          },
          "metadata": {},
          "execution_count": 11
        }
      ],
      "source": [
        "# Convert kolom last_seen\n",
        "autos.last_seen = pd.to_datetime(autos.last_seen, yearfirst=True)\n",
        "\n",
        "# Tampilkan data tanggal dan waktu setelah diconvert\n",
        "autos.last_seen"
      ]
    },
    {
      "cell_type": "markdown",
      "metadata": {
        "id": "EYn2LuqhDF-C"
      },
      "source": [
        "mengubah tipe data dari ad_created dari object menjadi datetime"
      ]
    },
    {
      "cell_type": "code",
      "execution_count": 12,
      "metadata": {
        "colab": {
          "base_uri": "https://localhost:8080/"
        },
        "id": "ybAfxoTqfmWt",
        "outputId": "24919fae-99d4-4728-9a85-887be3833998"
      },
      "outputs": [
        {
          "output_type": "execute_result",
          "data": {
            "text/plain": [
              "0        2016-03-24\n",
              "1        2016-03-24\n",
              "2        2016-03-14\n",
              "3        2016-03-17\n",
              "4        2016-03-31\n",
              "            ...    \n",
              "371523   2016-03-14\n",
              "371524   2016-03-05\n",
              "371525   2016-03-19\n",
              "371526   2016-03-20\n",
              "371527   2016-03-07\n",
              "Name: ad_created, Length: 371528, dtype: datetime64[ns]"
            ]
          },
          "metadata": {},
          "execution_count": 12
        }
      ],
      "source": [
        "# Convert kolom ad_created\n",
        "autos.ad_created = pd.to_datetime(autos.ad_created, yearfirst=True)\n",
        "\n",
        "# Tampilkan data tanggal dan waktu setelah diconvert\n",
        "autos.ad_created"
      ]
    },
    {
      "cell_type": "code",
      "execution_count": 13,
      "metadata": {
        "colab": {
          "base_uri": "https://localhost:8080/"
        },
        "id": "ZTsSlYWIqNOn",
        "outputId": "6c4148cc-8453-43e2-9348-22a7c4fdb33f"
      },
      "outputs": [
        {
          "output_type": "stream",
          "name": "stdout",
          "text": [
            "<class 'pandas.core.frame.DataFrame'>\n",
            "RangeIndex: 371528 entries, 0 to 371527\n",
            "Data columns (total 19 columns):\n",
            " #   Column              Non-Null Count   Dtype         \n",
            "---  ------              --------------   -----         \n",
            " 0   date_crawled        371528 non-null  datetime64[ns]\n",
            " 1   name                371528 non-null  object        \n",
            " 2   seller              371528 non-null  object        \n",
            " 3   offer_type          371528 non-null  object        \n",
            " 4   price               371528 non-null  int64         \n",
            " 5   abtest              371528 non-null  object        \n",
            " 6   vehicle_type        333659 non-null  object        \n",
            " 7   registration_year   371528 non-null  int64         \n",
            " 8   gearbox             351319 non-null  object        \n",
            " 9   power_ps            371528 non-null  int64         \n",
            " 10  model               351044 non-null  object        \n",
            " 11  kilometer           371528 non-null  int64         \n",
            " 12  registration_month  371528 non-null  int64         \n",
            " 13  fuel_type           338142 non-null  object        \n",
            " 14  brand               371528 non-null  object        \n",
            " 15  unrepaired_damage   299468 non-null  object        \n",
            " 16  ad_created          371528 non-null  datetime64[ns]\n",
            " 17  postal_code         371528 non-null  int64         \n",
            " 18  last_seen           371528 non-null  datetime64[ns]\n",
            "dtypes: datetime64[ns](3), int64(6), object(10)\n",
            "memory usage: 53.9+ MB\n"
          ]
        }
      ],
      "source": [
        "# cek kembali tipe data tiap kolom\n",
        "autos.info()"
      ]
    },
    {
      "cell_type": "markdown",
      "metadata": {
        "id": "_sDwNvM1mPgY"
      },
      "source": [
        "## Cek Missing Value"
      ]
    },
    {
      "cell_type": "code",
      "execution_count": 14,
      "metadata": {
        "colab": {
          "base_uri": "https://localhost:8080/",
          "height": 645
        },
        "id": "n3R2YRIZiHJ8",
        "outputId": "623e3ed4-58e5-4cf9-f1b3-9bd99277c25d"
      },
      "outputs": [
        {
          "output_type": "execute_result",
          "data": {
            "text/plain": [
              "                    NaN_count  NaN_percentage\n",
              "unrepaired_damage       72060        0.193956\n",
              "vehicle_type            37869        0.101928\n",
              "fuel_type               33386        0.089861\n",
              "model                   20484        0.055134\n",
              "gearbox                 20209        0.054394\n",
              "name                        0        0.000000\n",
              "seller                      0        0.000000\n",
              "offer_type                  0        0.000000\n",
              "price                       0        0.000000\n",
              "abtest                      0        0.000000\n",
              "registration_year           0        0.000000\n",
              "brand                       0        0.000000\n",
              "power_ps                    0        0.000000\n",
              "registration_month          0        0.000000\n",
              "ad_created                  0        0.000000\n",
              "postal_code                 0        0.000000\n",
              "kilometer                   0        0.000000\n",
              "date_crawled                0        0.000000\n",
              "last_seen                   0        0.000000"
            ],
            "text/html": [
              "\n",
              "  <div id=\"df-7b1a39e6-7de9-41b6-8c33-4472fa187e7f\" class=\"colab-df-container\">\n",
              "    <div>\n",
              "<style scoped>\n",
              "    .dataframe tbody tr th:only-of-type {\n",
              "        vertical-align: middle;\n",
              "    }\n",
              "\n",
              "    .dataframe tbody tr th {\n",
              "        vertical-align: top;\n",
              "    }\n",
              "\n",
              "    .dataframe thead th {\n",
              "        text-align: right;\n",
              "    }\n",
              "</style>\n",
              "<table border=\"1\" class=\"dataframe\">\n",
              "  <thead>\n",
              "    <tr style=\"text-align: right;\">\n",
              "      <th></th>\n",
              "      <th>NaN_count</th>\n",
              "      <th>NaN_percentage</th>\n",
              "    </tr>\n",
              "  </thead>\n",
              "  <tbody>\n",
              "    <tr>\n",
              "      <th>unrepaired_damage</th>\n",
              "      <td>72060</td>\n",
              "      <td>0.193956</td>\n",
              "    </tr>\n",
              "    <tr>\n",
              "      <th>vehicle_type</th>\n",
              "      <td>37869</td>\n",
              "      <td>0.101928</td>\n",
              "    </tr>\n",
              "    <tr>\n",
              "      <th>fuel_type</th>\n",
              "      <td>33386</td>\n",
              "      <td>0.089861</td>\n",
              "    </tr>\n",
              "    <tr>\n",
              "      <th>model</th>\n",
              "      <td>20484</td>\n",
              "      <td>0.055134</td>\n",
              "    </tr>\n",
              "    <tr>\n",
              "      <th>gearbox</th>\n",
              "      <td>20209</td>\n",
              "      <td>0.054394</td>\n",
              "    </tr>\n",
              "    <tr>\n",
              "      <th>name</th>\n",
              "      <td>0</td>\n",
              "      <td>0.000000</td>\n",
              "    </tr>\n",
              "    <tr>\n",
              "      <th>seller</th>\n",
              "      <td>0</td>\n",
              "      <td>0.000000</td>\n",
              "    </tr>\n",
              "    <tr>\n",
              "      <th>offer_type</th>\n",
              "      <td>0</td>\n",
              "      <td>0.000000</td>\n",
              "    </tr>\n",
              "    <tr>\n",
              "      <th>price</th>\n",
              "      <td>0</td>\n",
              "      <td>0.000000</td>\n",
              "    </tr>\n",
              "    <tr>\n",
              "      <th>abtest</th>\n",
              "      <td>0</td>\n",
              "      <td>0.000000</td>\n",
              "    </tr>\n",
              "    <tr>\n",
              "      <th>registration_year</th>\n",
              "      <td>0</td>\n",
              "      <td>0.000000</td>\n",
              "    </tr>\n",
              "    <tr>\n",
              "      <th>brand</th>\n",
              "      <td>0</td>\n",
              "      <td>0.000000</td>\n",
              "    </tr>\n",
              "    <tr>\n",
              "      <th>power_ps</th>\n",
              "      <td>0</td>\n",
              "      <td>0.000000</td>\n",
              "    </tr>\n",
              "    <tr>\n",
              "      <th>registration_month</th>\n",
              "      <td>0</td>\n",
              "      <td>0.000000</td>\n",
              "    </tr>\n",
              "    <tr>\n",
              "      <th>ad_created</th>\n",
              "      <td>0</td>\n",
              "      <td>0.000000</td>\n",
              "    </tr>\n",
              "    <tr>\n",
              "      <th>postal_code</th>\n",
              "      <td>0</td>\n",
              "      <td>0.000000</td>\n",
              "    </tr>\n",
              "    <tr>\n",
              "      <th>kilometer</th>\n",
              "      <td>0</td>\n",
              "      <td>0.000000</td>\n",
              "    </tr>\n",
              "    <tr>\n",
              "      <th>date_crawled</th>\n",
              "      <td>0</td>\n",
              "      <td>0.000000</td>\n",
              "    </tr>\n",
              "    <tr>\n",
              "      <th>last_seen</th>\n",
              "      <td>0</td>\n",
              "      <td>0.000000</td>\n",
              "    </tr>\n",
              "  </tbody>\n",
              "</table>\n",
              "</div>\n",
              "    <div class=\"colab-df-buttons\">\n",
              "\n",
              "  <div class=\"colab-df-container\">\n",
              "    <button class=\"colab-df-convert\" onclick=\"convertToInteractive('df-7b1a39e6-7de9-41b6-8c33-4472fa187e7f')\"\n",
              "            title=\"Convert this dataframe to an interactive table.\"\n",
              "            style=\"display:none;\">\n",
              "\n",
              "  <svg xmlns=\"http://www.w3.org/2000/svg\" height=\"24px\" viewBox=\"0 -960 960 960\">\n",
              "    <path d=\"M120-120v-720h720v720H120Zm60-500h600v-160H180v160Zm220 220h160v-160H400v160Zm0 220h160v-160H400v160ZM180-400h160v-160H180v160Zm440 0h160v-160H620v160ZM180-180h160v-160H180v160Zm440 0h160v-160H620v160Z\"/>\n",
              "  </svg>\n",
              "    </button>\n",
              "\n",
              "  <style>\n",
              "    .colab-df-container {\n",
              "      display:flex;\n",
              "      gap: 12px;\n",
              "    }\n",
              "\n",
              "    .colab-df-convert {\n",
              "      background-color: #E8F0FE;\n",
              "      border: none;\n",
              "      border-radius: 50%;\n",
              "      cursor: pointer;\n",
              "      display: none;\n",
              "      fill: #1967D2;\n",
              "      height: 32px;\n",
              "      padding: 0 0 0 0;\n",
              "      width: 32px;\n",
              "    }\n",
              "\n",
              "    .colab-df-convert:hover {\n",
              "      background-color: #E2EBFA;\n",
              "      box-shadow: 0px 1px 2px rgba(60, 64, 67, 0.3), 0px 1px 3px 1px rgba(60, 64, 67, 0.15);\n",
              "      fill: #174EA6;\n",
              "    }\n",
              "\n",
              "    .colab-df-buttons div {\n",
              "      margin-bottom: 4px;\n",
              "    }\n",
              "\n",
              "    [theme=dark] .colab-df-convert {\n",
              "      background-color: #3B4455;\n",
              "      fill: #D2E3FC;\n",
              "    }\n",
              "\n",
              "    [theme=dark] .colab-df-convert:hover {\n",
              "      background-color: #434B5C;\n",
              "      box-shadow: 0px 1px 3px 1px rgba(0, 0, 0, 0.15);\n",
              "      filter: drop-shadow(0px 1px 2px rgba(0, 0, 0, 0.3));\n",
              "      fill: #FFFFFF;\n",
              "    }\n",
              "  </style>\n",
              "\n",
              "    <script>\n",
              "      const buttonEl =\n",
              "        document.querySelector('#df-7b1a39e6-7de9-41b6-8c33-4472fa187e7f button.colab-df-convert');\n",
              "      buttonEl.style.display =\n",
              "        google.colab.kernel.accessAllowed ? 'block' : 'none';\n",
              "\n",
              "      async function convertToInteractive(key) {\n",
              "        const element = document.querySelector('#df-7b1a39e6-7de9-41b6-8c33-4472fa187e7f');\n",
              "        const dataTable =\n",
              "          await google.colab.kernel.invokeFunction('convertToInteractive',\n",
              "                                                    [key], {});\n",
              "        if (!dataTable) return;\n",
              "\n",
              "        const docLinkHtml = 'Like what you see? Visit the ' +\n",
              "          '<a target=\"_blank\" href=https://colab.research.google.com/notebooks/data_table.ipynb>data table notebook</a>'\n",
              "          + ' to learn more about interactive tables.';\n",
              "        element.innerHTML = '';\n",
              "        dataTable['output_type'] = 'display_data';\n",
              "        await google.colab.output.renderOutput(dataTable, element);\n",
              "        const docLink = document.createElement('div');\n",
              "        docLink.innerHTML = docLinkHtml;\n",
              "        element.appendChild(docLink);\n",
              "      }\n",
              "    </script>\n",
              "  </div>\n",
              "\n",
              "\n",
              "<div id=\"df-001a3cf3-a5ed-41fa-a6a8-38048bea8933\">\n",
              "  <button class=\"colab-df-quickchart\" onclick=\"quickchart('df-001a3cf3-a5ed-41fa-a6a8-38048bea8933')\"\n",
              "            title=\"Suggest charts\"\n",
              "            style=\"display:none;\">\n",
              "\n",
              "<svg xmlns=\"http://www.w3.org/2000/svg\" height=\"24px\"viewBox=\"0 0 24 24\"\n",
              "     width=\"24px\">\n",
              "    <g>\n",
              "        <path d=\"M19 3H5c-1.1 0-2 .9-2 2v14c0 1.1.9 2 2 2h14c1.1 0 2-.9 2-2V5c0-1.1-.9-2-2-2zM9 17H7v-7h2v7zm4 0h-2V7h2v10zm4 0h-2v-4h2v4z\"/>\n",
              "    </g>\n",
              "</svg>\n",
              "  </button>\n",
              "\n",
              "<style>\n",
              "  .colab-df-quickchart {\n",
              "      --bg-color: #E8F0FE;\n",
              "      --fill-color: #1967D2;\n",
              "      --hover-bg-color: #E2EBFA;\n",
              "      --hover-fill-color: #174EA6;\n",
              "      --disabled-fill-color: #AAA;\n",
              "      --disabled-bg-color: #DDD;\n",
              "  }\n",
              "\n",
              "  [theme=dark] .colab-df-quickchart {\n",
              "      --bg-color: #3B4455;\n",
              "      --fill-color: #D2E3FC;\n",
              "      --hover-bg-color: #434B5C;\n",
              "      --hover-fill-color: #FFFFFF;\n",
              "      --disabled-bg-color: #3B4455;\n",
              "      --disabled-fill-color: #666;\n",
              "  }\n",
              "\n",
              "  .colab-df-quickchart {\n",
              "    background-color: var(--bg-color);\n",
              "    border: none;\n",
              "    border-radius: 50%;\n",
              "    cursor: pointer;\n",
              "    display: none;\n",
              "    fill: var(--fill-color);\n",
              "    height: 32px;\n",
              "    padding: 0;\n",
              "    width: 32px;\n",
              "  }\n",
              "\n",
              "  .colab-df-quickchart:hover {\n",
              "    background-color: var(--hover-bg-color);\n",
              "    box-shadow: 0 1px 2px rgba(60, 64, 67, 0.3), 0 1px 3px 1px rgba(60, 64, 67, 0.15);\n",
              "    fill: var(--button-hover-fill-color);\n",
              "  }\n",
              "\n",
              "  .colab-df-quickchart-complete:disabled,\n",
              "  .colab-df-quickchart-complete:disabled:hover {\n",
              "    background-color: var(--disabled-bg-color);\n",
              "    fill: var(--disabled-fill-color);\n",
              "    box-shadow: none;\n",
              "  }\n",
              "\n",
              "  .colab-df-spinner {\n",
              "    border: 2px solid var(--fill-color);\n",
              "    border-color: transparent;\n",
              "    border-bottom-color: var(--fill-color);\n",
              "    animation:\n",
              "      spin 1s steps(1) infinite;\n",
              "  }\n",
              "\n",
              "  @keyframes spin {\n",
              "    0% {\n",
              "      border-color: transparent;\n",
              "      border-bottom-color: var(--fill-color);\n",
              "      border-left-color: var(--fill-color);\n",
              "    }\n",
              "    20% {\n",
              "      border-color: transparent;\n",
              "      border-left-color: var(--fill-color);\n",
              "      border-top-color: var(--fill-color);\n",
              "    }\n",
              "    30% {\n",
              "      border-color: transparent;\n",
              "      border-left-color: var(--fill-color);\n",
              "      border-top-color: var(--fill-color);\n",
              "      border-right-color: var(--fill-color);\n",
              "    }\n",
              "    40% {\n",
              "      border-color: transparent;\n",
              "      border-right-color: var(--fill-color);\n",
              "      border-top-color: var(--fill-color);\n",
              "    }\n",
              "    60% {\n",
              "      border-color: transparent;\n",
              "      border-right-color: var(--fill-color);\n",
              "    }\n",
              "    80% {\n",
              "      border-color: transparent;\n",
              "      border-right-color: var(--fill-color);\n",
              "      border-bottom-color: var(--fill-color);\n",
              "    }\n",
              "    90% {\n",
              "      border-color: transparent;\n",
              "      border-bottom-color: var(--fill-color);\n",
              "    }\n",
              "  }\n",
              "</style>\n",
              "\n",
              "  <script>\n",
              "    async function quickchart(key) {\n",
              "      const quickchartButtonEl =\n",
              "        document.querySelector('#' + key + ' button');\n",
              "      quickchartButtonEl.disabled = true;  // To prevent multiple clicks.\n",
              "      quickchartButtonEl.classList.add('colab-df-spinner');\n",
              "      try {\n",
              "        const charts = await google.colab.kernel.invokeFunction(\n",
              "            'suggestCharts', [key], {});\n",
              "      } catch (error) {\n",
              "        console.error('Error during call to suggestCharts:', error);\n",
              "      }\n",
              "      quickchartButtonEl.classList.remove('colab-df-spinner');\n",
              "      quickchartButtonEl.classList.add('colab-df-quickchart-complete');\n",
              "    }\n",
              "    (() => {\n",
              "      let quickchartButtonEl =\n",
              "        document.querySelector('#df-001a3cf3-a5ed-41fa-a6a8-38048bea8933 button');\n",
              "      quickchartButtonEl.style.display =\n",
              "        google.colab.kernel.accessAllowed ? 'block' : 'none';\n",
              "    })();\n",
              "  </script>\n",
              "</div>\n",
              "    </div>\n",
              "  </div>\n"
            ],
            "application/vnd.google.colaboratory.intrinsic+json": {
              "type": "dataframe",
              "variable_name": "missing_data",
              "summary": "{\n  \"name\": \"missing_data\",\n  \"rows\": 19,\n  \"fields\": [\n    {\n      \"column\": \"NaN_count\",\n      \"properties\": {\n        \"dtype\": \"number\",\n        \"std\": 19418,\n        \"min\": 0,\n        \"max\": 72060,\n        \"num_unique_values\": 6,\n        \"samples\": [\n          72060,\n          37869,\n          0\n        ],\n        \"semantic_type\": \"\",\n        \"description\": \"\"\n      }\n    },\n    {\n      \"column\": \"NaN_percentage\",\n      \"properties\": {\n        \"dtype\": \"number\",\n        \"std\": 0.05226609059095904,\n        \"min\": 0.0,\n        \"max\": 0.19395577183953833,\n        \"num_unique_values\": 6,\n        \"samples\": [\n          0.19395577183953833,\n          0.10192771473482483,\n          0.0\n        ],\n        \"semantic_type\": \"\",\n        \"description\": \"\"\n      }\n    }\n  ]\n}"
            }
          },
          "metadata": {},
          "execution_count": 14
        }
      ],
      "source": [
        "# Mendapatkan jumlah missing value tiap kolom\n",
        "# dan mengurutkan dari yang terbesar ke terkecil\n",
        "missing = autos.isna().sum().sort_values(ascending = False)\n",
        "# construct a dataframe consists of NaN count and NaN percentage from the dataset\n",
        "missing_data = pd.DataFrame({'NaN_count': missing, 'NaN_percentage': missing / len(autos)}).sort_values(by = 'NaN_percentage', ascending = False)\n",
        "\n",
        "# print the missing value information\n",
        "missing_data"
      ]
    },
    {
      "cell_type": "code",
      "execution_count": 15,
      "metadata": {
        "colab": {
          "base_uri": "https://localhost:8080/",
          "height": 143
        },
        "id": "qd9bE0r2m8yF",
        "outputId": "00d9473f-683c-4493-fac9-ff3b1b949ba7"
      },
      "outputs": [
        {
          "output_type": "execute_result",
          "data": {
            "text/plain": [
              "  unrepaired_damage vehicle_type fuel_type  model    gearbox\n",
              "0               NaN          NaN    benzin   golf    manuell\n",
              "1                ja        coupe    diesel    NaN    manuell\n",
              "2               NaN          suv    diesel  grand  automatik"
            ],
            "text/html": [
              "\n",
              "  <div id=\"df-e1abced3-0286-4836-ac8c-6e6cd1ac12af\" class=\"colab-df-container\">\n",
              "    <div>\n",
              "<style scoped>\n",
              "    .dataframe tbody tr th:only-of-type {\n",
              "        vertical-align: middle;\n",
              "    }\n",
              "\n",
              "    .dataframe tbody tr th {\n",
              "        vertical-align: top;\n",
              "    }\n",
              "\n",
              "    .dataframe thead th {\n",
              "        text-align: right;\n",
              "    }\n",
              "</style>\n",
              "<table border=\"1\" class=\"dataframe\">\n",
              "  <thead>\n",
              "    <tr style=\"text-align: right;\">\n",
              "      <th></th>\n",
              "      <th>unrepaired_damage</th>\n",
              "      <th>vehicle_type</th>\n",
              "      <th>fuel_type</th>\n",
              "      <th>model</th>\n",
              "      <th>gearbox</th>\n",
              "    </tr>\n",
              "  </thead>\n",
              "  <tbody>\n",
              "    <tr>\n",
              "      <th>0</th>\n",
              "      <td>NaN</td>\n",
              "      <td>NaN</td>\n",
              "      <td>benzin</td>\n",
              "      <td>golf</td>\n",
              "      <td>manuell</td>\n",
              "    </tr>\n",
              "    <tr>\n",
              "      <th>1</th>\n",
              "      <td>ja</td>\n",
              "      <td>coupe</td>\n",
              "      <td>diesel</td>\n",
              "      <td>NaN</td>\n",
              "      <td>manuell</td>\n",
              "    </tr>\n",
              "    <tr>\n",
              "      <th>2</th>\n",
              "      <td>NaN</td>\n",
              "      <td>suv</td>\n",
              "      <td>diesel</td>\n",
              "      <td>grand</td>\n",
              "      <td>automatik</td>\n",
              "    </tr>\n",
              "  </tbody>\n",
              "</table>\n",
              "</div>\n",
              "    <div class=\"colab-df-buttons\">\n",
              "\n",
              "  <div class=\"colab-df-container\">\n",
              "    <button class=\"colab-df-convert\" onclick=\"convertToInteractive('df-e1abced3-0286-4836-ac8c-6e6cd1ac12af')\"\n",
              "            title=\"Convert this dataframe to an interactive table.\"\n",
              "            style=\"display:none;\">\n",
              "\n",
              "  <svg xmlns=\"http://www.w3.org/2000/svg\" height=\"24px\" viewBox=\"0 -960 960 960\">\n",
              "    <path d=\"M120-120v-720h720v720H120Zm60-500h600v-160H180v160Zm220 220h160v-160H400v160Zm0 220h160v-160H400v160ZM180-400h160v-160H180v160Zm440 0h160v-160H620v160ZM180-180h160v-160H180v160Zm440 0h160v-160H620v160Z\"/>\n",
              "  </svg>\n",
              "    </button>\n",
              "\n",
              "  <style>\n",
              "    .colab-df-container {\n",
              "      display:flex;\n",
              "      gap: 12px;\n",
              "    }\n",
              "\n",
              "    .colab-df-convert {\n",
              "      background-color: #E8F0FE;\n",
              "      border: none;\n",
              "      border-radius: 50%;\n",
              "      cursor: pointer;\n",
              "      display: none;\n",
              "      fill: #1967D2;\n",
              "      height: 32px;\n",
              "      padding: 0 0 0 0;\n",
              "      width: 32px;\n",
              "    }\n",
              "\n",
              "    .colab-df-convert:hover {\n",
              "      background-color: #E2EBFA;\n",
              "      box-shadow: 0px 1px 2px rgba(60, 64, 67, 0.3), 0px 1px 3px 1px rgba(60, 64, 67, 0.15);\n",
              "      fill: #174EA6;\n",
              "    }\n",
              "\n",
              "    .colab-df-buttons div {\n",
              "      margin-bottom: 4px;\n",
              "    }\n",
              "\n",
              "    [theme=dark] .colab-df-convert {\n",
              "      background-color: #3B4455;\n",
              "      fill: #D2E3FC;\n",
              "    }\n",
              "\n",
              "    [theme=dark] .colab-df-convert:hover {\n",
              "      background-color: #434B5C;\n",
              "      box-shadow: 0px 1px 3px 1px rgba(0, 0, 0, 0.15);\n",
              "      filter: drop-shadow(0px 1px 2px rgba(0, 0, 0, 0.3));\n",
              "      fill: #FFFFFF;\n",
              "    }\n",
              "  </style>\n",
              "\n",
              "    <script>\n",
              "      const buttonEl =\n",
              "        document.querySelector('#df-e1abced3-0286-4836-ac8c-6e6cd1ac12af button.colab-df-convert');\n",
              "      buttonEl.style.display =\n",
              "        google.colab.kernel.accessAllowed ? 'block' : 'none';\n",
              "\n",
              "      async function convertToInteractive(key) {\n",
              "        const element = document.querySelector('#df-e1abced3-0286-4836-ac8c-6e6cd1ac12af');\n",
              "        const dataTable =\n",
              "          await google.colab.kernel.invokeFunction('convertToInteractive',\n",
              "                                                    [key], {});\n",
              "        if (!dataTable) return;\n",
              "\n",
              "        const docLinkHtml = 'Like what you see? Visit the ' +\n",
              "          '<a target=\"_blank\" href=https://colab.research.google.com/notebooks/data_table.ipynb>data table notebook</a>'\n",
              "          + ' to learn more about interactive tables.';\n",
              "        element.innerHTML = '';\n",
              "        dataTable['output_type'] = 'display_data';\n",
              "        await google.colab.output.renderOutput(dataTable, element);\n",
              "        const docLink = document.createElement('div');\n",
              "        docLink.innerHTML = docLinkHtml;\n",
              "        element.appendChild(docLink);\n",
              "      }\n",
              "    </script>\n",
              "  </div>\n",
              "\n",
              "\n",
              "<div id=\"df-6713b956-70b4-41a3-b9e2-eba2e144eb21\">\n",
              "  <button class=\"colab-df-quickchart\" onclick=\"quickchart('df-6713b956-70b4-41a3-b9e2-eba2e144eb21')\"\n",
              "            title=\"Suggest charts\"\n",
              "            style=\"display:none;\">\n",
              "\n",
              "<svg xmlns=\"http://www.w3.org/2000/svg\" height=\"24px\"viewBox=\"0 0 24 24\"\n",
              "     width=\"24px\">\n",
              "    <g>\n",
              "        <path d=\"M19 3H5c-1.1 0-2 .9-2 2v14c0 1.1.9 2 2 2h14c1.1 0 2-.9 2-2V5c0-1.1-.9-2-2-2zM9 17H7v-7h2v7zm4 0h-2V7h2v10zm4 0h-2v-4h2v4z\"/>\n",
              "    </g>\n",
              "</svg>\n",
              "  </button>\n",
              "\n",
              "<style>\n",
              "  .colab-df-quickchart {\n",
              "      --bg-color: #E8F0FE;\n",
              "      --fill-color: #1967D2;\n",
              "      --hover-bg-color: #E2EBFA;\n",
              "      --hover-fill-color: #174EA6;\n",
              "      --disabled-fill-color: #AAA;\n",
              "      --disabled-bg-color: #DDD;\n",
              "  }\n",
              "\n",
              "  [theme=dark] .colab-df-quickchart {\n",
              "      --bg-color: #3B4455;\n",
              "      --fill-color: #D2E3FC;\n",
              "      --hover-bg-color: #434B5C;\n",
              "      --hover-fill-color: #FFFFFF;\n",
              "      --disabled-bg-color: #3B4455;\n",
              "      --disabled-fill-color: #666;\n",
              "  }\n",
              "\n",
              "  .colab-df-quickchart {\n",
              "    background-color: var(--bg-color);\n",
              "    border: none;\n",
              "    border-radius: 50%;\n",
              "    cursor: pointer;\n",
              "    display: none;\n",
              "    fill: var(--fill-color);\n",
              "    height: 32px;\n",
              "    padding: 0;\n",
              "    width: 32px;\n",
              "  }\n",
              "\n",
              "  .colab-df-quickchart:hover {\n",
              "    background-color: var(--hover-bg-color);\n",
              "    box-shadow: 0 1px 2px rgba(60, 64, 67, 0.3), 0 1px 3px 1px rgba(60, 64, 67, 0.15);\n",
              "    fill: var(--button-hover-fill-color);\n",
              "  }\n",
              "\n",
              "  .colab-df-quickchart-complete:disabled,\n",
              "  .colab-df-quickchart-complete:disabled:hover {\n",
              "    background-color: var(--disabled-bg-color);\n",
              "    fill: var(--disabled-fill-color);\n",
              "    box-shadow: none;\n",
              "  }\n",
              "\n",
              "  .colab-df-spinner {\n",
              "    border: 2px solid var(--fill-color);\n",
              "    border-color: transparent;\n",
              "    border-bottom-color: var(--fill-color);\n",
              "    animation:\n",
              "      spin 1s steps(1) infinite;\n",
              "  }\n",
              "\n",
              "  @keyframes spin {\n",
              "    0% {\n",
              "      border-color: transparent;\n",
              "      border-bottom-color: var(--fill-color);\n",
              "      border-left-color: var(--fill-color);\n",
              "    }\n",
              "    20% {\n",
              "      border-color: transparent;\n",
              "      border-left-color: var(--fill-color);\n",
              "      border-top-color: var(--fill-color);\n",
              "    }\n",
              "    30% {\n",
              "      border-color: transparent;\n",
              "      border-left-color: var(--fill-color);\n",
              "      border-top-color: var(--fill-color);\n",
              "      border-right-color: var(--fill-color);\n",
              "    }\n",
              "    40% {\n",
              "      border-color: transparent;\n",
              "      border-right-color: var(--fill-color);\n",
              "      border-top-color: var(--fill-color);\n",
              "    }\n",
              "    60% {\n",
              "      border-color: transparent;\n",
              "      border-right-color: var(--fill-color);\n",
              "    }\n",
              "    80% {\n",
              "      border-color: transparent;\n",
              "      border-right-color: var(--fill-color);\n",
              "      border-bottom-color: var(--fill-color);\n",
              "    }\n",
              "    90% {\n",
              "      border-color: transparent;\n",
              "      border-bottom-color: var(--fill-color);\n",
              "    }\n",
              "  }\n",
              "</style>\n",
              "\n",
              "  <script>\n",
              "    async function quickchart(key) {\n",
              "      const quickchartButtonEl =\n",
              "        document.querySelector('#' + key + ' button');\n",
              "      quickchartButtonEl.disabled = true;  // To prevent multiple clicks.\n",
              "      quickchartButtonEl.classList.add('colab-df-spinner');\n",
              "      try {\n",
              "        const charts = await google.colab.kernel.invokeFunction(\n",
              "            'suggestCharts', [key], {});\n",
              "      } catch (error) {\n",
              "        console.error('Error during call to suggestCharts:', error);\n",
              "      }\n",
              "      quickchartButtonEl.classList.remove('colab-df-spinner');\n",
              "      quickchartButtonEl.classList.add('colab-df-quickchart-complete');\n",
              "    }\n",
              "    (() => {\n",
              "      let quickchartButtonEl =\n",
              "        document.querySelector('#df-6713b956-70b4-41a3-b9e2-eba2e144eb21 button');\n",
              "      quickchartButtonEl.style.display =\n",
              "        google.colab.kernel.accessAllowed ? 'block' : 'none';\n",
              "    })();\n",
              "  </script>\n",
              "</div>\n",
              "    </div>\n",
              "  </div>\n"
            ],
            "application/vnd.google.colaboratory.intrinsic+json": {
              "type": "dataframe",
              "summary": "{\n  \"name\": \"       \\\"gearbox\\\"]]\",\n  \"rows\": 3,\n  \"fields\": [\n    {\n      \"column\": \"unrepaired_damage\",\n      \"properties\": {\n        \"dtype\": \"category\",\n        \"num_unique_values\": 1,\n        \"samples\": [\n          \"ja\"\n        ],\n        \"semantic_type\": \"\",\n        \"description\": \"\"\n      }\n    },\n    {\n      \"column\": \"vehicle_type\",\n      \"properties\": {\n        \"dtype\": \"string\",\n        \"num_unique_values\": 2,\n        \"samples\": [\n          \"suv\"\n        ],\n        \"semantic_type\": \"\",\n        \"description\": \"\"\n      }\n    },\n    {\n      \"column\": \"fuel_type\",\n      \"properties\": {\n        \"dtype\": \"string\",\n        \"num_unique_values\": 2,\n        \"samples\": [\n          \"diesel\"\n        ],\n        \"semantic_type\": \"\",\n        \"description\": \"\"\n      }\n    },\n    {\n      \"column\": \"model\",\n      \"properties\": {\n        \"dtype\": \"string\",\n        \"num_unique_values\": 2,\n        \"samples\": [\n          \"grand\"\n        ],\n        \"semantic_type\": \"\",\n        \"description\": \"\"\n      }\n    },\n    {\n      \"column\": \"gearbox\",\n      \"properties\": {\n        \"dtype\": \"string\",\n        \"num_unique_values\": 2,\n        \"samples\": [\n          \"automatik\"\n        ],\n        \"semantic_type\": \"\",\n        \"description\": \"\"\n      }\n    }\n  ]\n}"
            }
          },
          "metadata": {},
          "execution_count": 15
        }
      ],
      "source": [
        "#data teratas kolom yang memiliki nan\n",
        "autos[[\"unrepaired_damage\",\n",
        "       \"vehicle_type\",\n",
        "       \"fuel_type\",\n",
        "       \"model\",\n",
        "       \"gearbox\"]].head(3)"
      ]
    },
    {
      "cell_type": "code",
      "execution_count": 16,
      "metadata": {
        "colab": {
          "base_uri": "https://localhost:8080/"
        },
        "id": "uXefhRK6nV9y",
        "outputId": "7af984a3-8972-413b-f794-2e00f7552170"
      },
      "outputs": [
        {
          "output_type": "stream",
          "name": "stdout",
          "text": [
            "<class 'pandas.core.frame.DataFrame'>\n",
            "RangeIndex: 371528 entries, 0 to 371527\n",
            "Data columns (total 5 columns):\n",
            " #   Column             Non-Null Count   Dtype \n",
            "---  ------             --------------   ----- \n",
            " 0   unrepaired_damage  299468 non-null  object\n",
            " 1   vehicle_type       333659 non-null  object\n",
            " 2   fuel_type          338142 non-null  object\n",
            " 3   model              351044 non-null  object\n",
            " 4   gearbox            351319 non-null  object\n",
            "dtypes: object(5)\n",
            "memory usage: 14.2+ MB\n"
          ]
        }
      ],
      "source": [
        "# cek info data yang memiliki missing value\n",
        "autos[[\"unrepaired_damage\",\n",
        "       \"vehicle_type\",\n",
        "       \"fuel_type\",\n",
        "       \"model\",\n",
        "       \"gearbox\"]].info()"
      ]
    },
    {
      "cell_type": "markdown",
      "metadata": {
        "id": "xgHcztYRoCbt"
      },
      "source": [
        "- kolom unrepaired_damage : kita ubah nilai \"NaN\" menjadi \"other\"\n",
        "- kolom vehicle_type : kita ubah nilai \"NaN\" menjadi \"other\"\n",
        "- kolom fuel_type : kita ubah nilai \"NaN\" menjadi \"other\"\n",
        "- kolom model : kita ubah nilai \"NaN\" menjadi \"other\"\n",
        "- kolom gearbox : kita ubah nilai \"NaN\" menjadi \"not-exist\""
      ]
    },
    {
      "cell_type": "markdown",
      "metadata": {
        "id": "dYw9BVY8ycPN"
      },
      "source": [
        "## Handle missing value"
      ]
    },
    {
      "cell_type": "markdown",
      "metadata": {
        "id": "tyNip4sMO-SN"
      },
      "source": [
        "handle missing value pada kolom unrepaired_damage"
      ]
    },
    {
      "cell_type": "code",
      "execution_count": 17,
      "metadata": {
        "colab": {
          "base_uri": "https://localhost:8080/"
        },
        "id": "Gfz40mC7MBLO",
        "outputId": "50d97966-263f-4aa0-fd86-cee89d327967"
      },
      "outputs": [
        {
          "output_type": "execute_result",
          "data": {
            "text/plain": [
              "array(['other', 'ja', 'nein'], dtype=object)"
            ]
          },
          "metadata": {},
          "execution_count": 17
        }
      ],
      "source": [
        "# Mengganti nilai yang hilang dengan \"other\"\n",
        "autos.unrepaired_damage.fillna('other', inplace=True)\n",
        "\n",
        "# Menampilkan DataFrame setelah mengganti nilai yang hilang\n",
        "autos.unrepaired_damage.unique()"
      ]
    },
    {
      "cell_type": "markdown",
      "metadata": {
        "id": "AVESXEWTQtOP"
      },
      "source": [
        "handle missing value pada kolom vehicle_type\n",
        "\n"
      ]
    },
    {
      "cell_type": "code",
      "execution_count": 18,
      "metadata": {
        "colab": {
          "base_uri": "https://localhost:8080/"
        },
        "id": "4_5GWRg3yykc",
        "outputId": "58a80cd0-bfdc-4ce3-ea43-0786d1580df1"
      },
      "outputs": [
        {
          "output_type": "execute_result",
          "data": {
            "text/plain": [
              "array(['other', 'coupe', 'suv', 'kleinwagen', 'limousine', 'cabrio',\n",
              "       'bus', 'kombi', 'andere'], dtype=object)"
            ]
          },
          "metadata": {},
          "execution_count": 18
        }
      ],
      "source": [
        "# Mengganti nilai yang hilang dengan \"other\"\n",
        "autos.vehicle_type.fillna('other', inplace=True)\n",
        "\n",
        "# Menampilkan DataFrame setelah mengganti nilai yang hilang\n",
        "autos.vehicle_type.unique()"
      ]
    },
    {
      "cell_type": "markdown",
      "metadata": {
        "id": "7uc46fRQT-tL"
      },
      "source": [
        "handle missing value pada kolom fuel_type"
      ]
    },
    {
      "cell_type": "code",
      "execution_count": 19,
      "metadata": {
        "colab": {
          "base_uri": "https://localhost:8080/"
        },
        "id": "YM7i-PJyT-FE",
        "outputId": "9d99c423-3dd8-4f2f-ed69-03c03a91456b"
      },
      "outputs": [
        {
          "output_type": "execute_result",
          "data": {
            "text/plain": [
              "array(['benzin', 'diesel', 'other', 'lpg', 'andere', 'hybrid', 'cng',\n",
              "       'elektro'], dtype=object)"
            ]
          },
          "metadata": {},
          "execution_count": 19
        }
      ],
      "source": [
        "# Mengganti nilai yang hilang dengan \"other\"\n",
        "autos.fuel_type.fillna('other', inplace=True)\n",
        "\n",
        "# Menampilkan DataFrame setelah mengganti nilai yang hilang\n",
        "autos.fuel_type.unique()"
      ]
    },
    {
      "cell_type": "markdown",
      "metadata": {
        "id": "3N7WRZ08U3JJ"
      },
      "source": [
        "handle missing value pada kolom model"
      ]
    },
    {
      "cell_type": "code",
      "execution_count": 20,
      "metadata": {
        "colab": {
          "base_uri": "https://localhost:8080/"
        },
        "id": "k2IhWt--UbR7",
        "outputId": "4ecb4dbc-bd9b-45ca-fe7c-18ef1211b0d0"
      },
      "outputs": [
        {
          "output_type": "execute_result",
          "data": {
            "text/plain": [
              "0                golf\n",
              "1               other\n",
              "2               grand\n",
              "3                golf\n",
              "4               fabia\n",
              "             ...     \n",
              "371523          other\n",
              "371524         fortwo\n",
              "371525    transporter\n",
              "371526           golf\n",
              "371527        m_reihe\n",
              "Name: model, Length: 371528, dtype: object"
            ]
          },
          "metadata": {},
          "execution_count": 20
        }
      ],
      "source": [
        "# Mengganti nilai yang hilang dengan \"other\"\n",
        "autos.model.fillna('other', inplace=True)\n",
        "\n",
        "# Menampilkan DataFrame setelah mengganti nilai yang hilang\n",
        "autos.model"
      ]
    },
    {
      "cell_type": "markdown",
      "metadata": {
        "id": "yINFXPo1Vkfq"
      },
      "source": [
        "handle missing value pada kolom gearbox\n"
      ]
    },
    {
      "cell_type": "code",
      "execution_count": 21,
      "metadata": {
        "colab": {
          "base_uri": "https://localhost:8080/"
        },
        "id": "Ar0sY1d1Vo77",
        "outputId": "aef377af-eca2-47f9-c9cf-905975d37855"
      },
      "outputs": [
        {
          "output_type": "execute_result",
          "data": {
            "text/plain": [
              "array(['manuell', 'automatik', 'not-exist'], dtype=object)"
            ]
          },
          "metadata": {},
          "execution_count": 21
        }
      ],
      "source": [
        "# Mengganti nilai yang hilang dengan \"not-exist\"\n",
        "autos.gearbox.fillna('not-exist', inplace=True)\n",
        "\n",
        "# Menampilkan DataFrame setelah mengganti nilai yang hilang\n",
        "autos.gearbox.unique()"
      ]
    },
    {
      "cell_type": "markdown",
      "metadata": {
        "id": "rIiIljdifZ1x"
      },
      "source": [
        "Cek Kembali Jumlah Missing Value"
      ]
    },
    {
      "cell_type": "code",
      "execution_count": 22,
      "metadata": {
        "colab": {
          "base_uri": "https://localhost:8080/",
          "height": 645
        },
        "id": "RQJ8xjwQfWZW",
        "outputId": "791984a4-2c7b-41e0-fba8-56dd3eb915d9"
      },
      "outputs": [
        {
          "output_type": "execute_result",
          "data": {
            "text/plain": [
              "                    NaN_count  NaN_percentage\n",
              "date_crawled                0             0.0\n",
              "name                        0             0.0\n",
              "seller                      0             0.0\n",
              "offer_type                  0             0.0\n",
              "price                       0             0.0\n",
              "abtest                      0             0.0\n",
              "vehicle_type                0             0.0\n",
              "registration_year           0             0.0\n",
              "gearbox                     0             0.0\n",
              "power_ps                    0             0.0\n",
              "model                       0             0.0\n",
              "kilometer                   0             0.0\n",
              "registration_month          0             0.0\n",
              "fuel_type                   0             0.0\n",
              "brand                       0             0.0\n",
              "unrepaired_damage           0             0.0\n",
              "ad_created                  0             0.0\n",
              "postal_code                 0             0.0\n",
              "last_seen                   0             0.0"
            ],
            "text/html": [
              "\n",
              "  <div id=\"df-1d908c7b-1ff8-4375-942f-f6e0a2832b71\" class=\"colab-df-container\">\n",
              "    <div>\n",
              "<style scoped>\n",
              "    .dataframe tbody tr th:only-of-type {\n",
              "        vertical-align: middle;\n",
              "    }\n",
              "\n",
              "    .dataframe tbody tr th {\n",
              "        vertical-align: top;\n",
              "    }\n",
              "\n",
              "    .dataframe thead th {\n",
              "        text-align: right;\n",
              "    }\n",
              "</style>\n",
              "<table border=\"1\" class=\"dataframe\">\n",
              "  <thead>\n",
              "    <tr style=\"text-align: right;\">\n",
              "      <th></th>\n",
              "      <th>NaN_count</th>\n",
              "      <th>NaN_percentage</th>\n",
              "    </tr>\n",
              "  </thead>\n",
              "  <tbody>\n",
              "    <tr>\n",
              "      <th>date_crawled</th>\n",
              "      <td>0</td>\n",
              "      <td>0.0</td>\n",
              "    </tr>\n",
              "    <tr>\n",
              "      <th>name</th>\n",
              "      <td>0</td>\n",
              "      <td>0.0</td>\n",
              "    </tr>\n",
              "    <tr>\n",
              "      <th>seller</th>\n",
              "      <td>0</td>\n",
              "      <td>0.0</td>\n",
              "    </tr>\n",
              "    <tr>\n",
              "      <th>offer_type</th>\n",
              "      <td>0</td>\n",
              "      <td>0.0</td>\n",
              "    </tr>\n",
              "    <tr>\n",
              "      <th>price</th>\n",
              "      <td>0</td>\n",
              "      <td>0.0</td>\n",
              "    </tr>\n",
              "    <tr>\n",
              "      <th>abtest</th>\n",
              "      <td>0</td>\n",
              "      <td>0.0</td>\n",
              "    </tr>\n",
              "    <tr>\n",
              "      <th>vehicle_type</th>\n",
              "      <td>0</td>\n",
              "      <td>0.0</td>\n",
              "    </tr>\n",
              "    <tr>\n",
              "      <th>registration_year</th>\n",
              "      <td>0</td>\n",
              "      <td>0.0</td>\n",
              "    </tr>\n",
              "    <tr>\n",
              "      <th>gearbox</th>\n",
              "      <td>0</td>\n",
              "      <td>0.0</td>\n",
              "    </tr>\n",
              "    <tr>\n",
              "      <th>power_ps</th>\n",
              "      <td>0</td>\n",
              "      <td>0.0</td>\n",
              "    </tr>\n",
              "    <tr>\n",
              "      <th>model</th>\n",
              "      <td>0</td>\n",
              "      <td>0.0</td>\n",
              "    </tr>\n",
              "    <tr>\n",
              "      <th>kilometer</th>\n",
              "      <td>0</td>\n",
              "      <td>0.0</td>\n",
              "    </tr>\n",
              "    <tr>\n",
              "      <th>registration_month</th>\n",
              "      <td>0</td>\n",
              "      <td>0.0</td>\n",
              "    </tr>\n",
              "    <tr>\n",
              "      <th>fuel_type</th>\n",
              "      <td>0</td>\n",
              "      <td>0.0</td>\n",
              "    </tr>\n",
              "    <tr>\n",
              "      <th>brand</th>\n",
              "      <td>0</td>\n",
              "      <td>0.0</td>\n",
              "    </tr>\n",
              "    <tr>\n",
              "      <th>unrepaired_damage</th>\n",
              "      <td>0</td>\n",
              "      <td>0.0</td>\n",
              "    </tr>\n",
              "    <tr>\n",
              "      <th>ad_created</th>\n",
              "      <td>0</td>\n",
              "      <td>0.0</td>\n",
              "    </tr>\n",
              "    <tr>\n",
              "      <th>postal_code</th>\n",
              "      <td>0</td>\n",
              "      <td>0.0</td>\n",
              "    </tr>\n",
              "    <tr>\n",
              "      <th>last_seen</th>\n",
              "      <td>0</td>\n",
              "      <td>0.0</td>\n",
              "    </tr>\n",
              "  </tbody>\n",
              "</table>\n",
              "</div>\n",
              "    <div class=\"colab-df-buttons\">\n",
              "\n",
              "  <div class=\"colab-df-container\">\n",
              "    <button class=\"colab-df-convert\" onclick=\"convertToInteractive('df-1d908c7b-1ff8-4375-942f-f6e0a2832b71')\"\n",
              "            title=\"Convert this dataframe to an interactive table.\"\n",
              "            style=\"display:none;\">\n",
              "\n",
              "  <svg xmlns=\"http://www.w3.org/2000/svg\" height=\"24px\" viewBox=\"0 -960 960 960\">\n",
              "    <path d=\"M120-120v-720h720v720H120Zm60-500h600v-160H180v160Zm220 220h160v-160H400v160Zm0 220h160v-160H400v160ZM180-400h160v-160H180v160Zm440 0h160v-160H620v160ZM180-180h160v-160H180v160Zm440 0h160v-160H620v160Z\"/>\n",
              "  </svg>\n",
              "    </button>\n",
              "\n",
              "  <style>\n",
              "    .colab-df-container {\n",
              "      display:flex;\n",
              "      gap: 12px;\n",
              "    }\n",
              "\n",
              "    .colab-df-convert {\n",
              "      background-color: #E8F0FE;\n",
              "      border: none;\n",
              "      border-radius: 50%;\n",
              "      cursor: pointer;\n",
              "      display: none;\n",
              "      fill: #1967D2;\n",
              "      height: 32px;\n",
              "      padding: 0 0 0 0;\n",
              "      width: 32px;\n",
              "    }\n",
              "\n",
              "    .colab-df-convert:hover {\n",
              "      background-color: #E2EBFA;\n",
              "      box-shadow: 0px 1px 2px rgba(60, 64, 67, 0.3), 0px 1px 3px 1px rgba(60, 64, 67, 0.15);\n",
              "      fill: #174EA6;\n",
              "    }\n",
              "\n",
              "    .colab-df-buttons div {\n",
              "      margin-bottom: 4px;\n",
              "    }\n",
              "\n",
              "    [theme=dark] .colab-df-convert {\n",
              "      background-color: #3B4455;\n",
              "      fill: #D2E3FC;\n",
              "    }\n",
              "\n",
              "    [theme=dark] .colab-df-convert:hover {\n",
              "      background-color: #434B5C;\n",
              "      box-shadow: 0px 1px 3px 1px rgba(0, 0, 0, 0.15);\n",
              "      filter: drop-shadow(0px 1px 2px rgba(0, 0, 0, 0.3));\n",
              "      fill: #FFFFFF;\n",
              "    }\n",
              "  </style>\n",
              "\n",
              "    <script>\n",
              "      const buttonEl =\n",
              "        document.querySelector('#df-1d908c7b-1ff8-4375-942f-f6e0a2832b71 button.colab-df-convert');\n",
              "      buttonEl.style.display =\n",
              "        google.colab.kernel.accessAllowed ? 'block' : 'none';\n",
              "\n",
              "      async function convertToInteractive(key) {\n",
              "        const element = document.querySelector('#df-1d908c7b-1ff8-4375-942f-f6e0a2832b71');\n",
              "        const dataTable =\n",
              "          await google.colab.kernel.invokeFunction('convertToInteractive',\n",
              "                                                    [key], {});\n",
              "        if (!dataTable) return;\n",
              "\n",
              "        const docLinkHtml = 'Like what you see? Visit the ' +\n",
              "          '<a target=\"_blank\" href=https://colab.research.google.com/notebooks/data_table.ipynb>data table notebook</a>'\n",
              "          + ' to learn more about interactive tables.';\n",
              "        element.innerHTML = '';\n",
              "        dataTable['output_type'] = 'display_data';\n",
              "        await google.colab.output.renderOutput(dataTable, element);\n",
              "        const docLink = document.createElement('div');\n",
              "        docLink.innerHTML = docLinkHtml;\n",
              "        element.appendChild(docLink);\n",
              "      }\n",
              "    </script>\n",
              "  </div>\n",
              "\n",
              "\n",
              "<div id=\"df-77982ac4-3bd9-4a76-892f-827893521b51\">\n",
              "  <button class=\"colab-df-quickchart\" onclick=\"quickchart('df-77982ac4-3bd9-4a76-892f-827893521b51')\"\n",
              "            title=\"Suggest charts\"\n",
              "            style=\"display:none;\">\n",
              "\n",
              "<svg xmlns=\"http://www.w3.org/2000/svg\" height=\"24px\"viewBox=\"0 0 24 24\"\n",
              "     width=\"24px\">\n",
              "    <g>\n",
              "        <path d=\"M19 3H5c-1.1 0-2 .9-2 2v14c0 1.1.9 2 2 2h14c1.1 0 2-.9 2-2V5c0-1.1-.9-2-2-2zM9 17H7v-7h2v7zm4 0h-2V7h2v10zm4 0h-2v-4h2v4z\"/>\n",
              "    </g>\n",
              "</svg>\n",
              "  </button>\n",
              "\n",
              "<style>\n",
              "  .colab-df-quickchart {\n",
              "      --bg-color: #E8F0FE;\n",
              "      --fill-color: #1967D2;\n",
              "      --hover-bg-color: #E2EBFA;\n",
              "      --hover-fill-color: #174EA6;\n",
              "      --disabled-fill-color: #AAA;\n",
              "      --disabled-bg-color: #DDD;\n",
              "  }\n",
              "\n",
              "  [theme=dark] .colab-df-quickchart {\n",
              "      --bg-color: #3B4455;\n",
              "      --fill-color: #D2E3FC;\n",
              "      --hover-bg-color: #434B5C;\n",
              "      --hover-fill-color: #FFFFFF;\n",
              "      --disabled-bg-color: #3B4455;\n",
              "      --disabled-fill-color: #666;\n",
              "  }\n",
              "\n",
              "  .colab-df-quickchart {\n",
              "    background-color: var(--bg-color);\n",
              "    border: none;\n",
              "    border-radius: 50%;\n",
              "    cursor: pointer;\n",
              "    display: none;\n",
              "    fill: var(--fill-color);\n",
              "    height: 32px;\n",
              "    padding: 0;\n",
              "    width: 32px;\n",
              "  }\n",
              "\n",
              "  .colab-df-quickchart:hover {\n",
              "    background-color: var(--hover-bg-color);\n",
              "    box-shadow: 0 1px 2px rgba(60, 64, 67, 0.3), 0 1px 3px 1px rgba(60, 64, 67, 0.15);\n",
              "    fill: var(--button-hover-fill-color);\n",
              "  }\n",
              "\n",
              "  .colab-df-quickchart-complete:disabled,\n",
              "  .colab-df-quickchart-complete:disabled:hover {\n",
              "    background-color: var(--disabled-bg-color);\n",
              "    fill: var(--disabled-fill-color);\n",
              "    box-shadow: none;\n",
              "  }\n",
              "\n",
              "  .colab-df-spinner {\n",
              "    border: 2px solid var(--fill-color);\n",
              "    border-color: transparent;\n",
              "    border-bottom-color: var(--fill-color);\n",
              "    animation:\n",
              "      spin 1s steps(1) infinite;\n",
              "  }\n",
              "\n",
              "  @keyframes spin {\n",
              "    0% {\n",
              "      border-color: transparent;\n",
              "      border-bottom-color: var(--fill-color);\n",
              "      border-left-color: var(--fill-color);\n",
              "    }\n",
              "    20% {\n",
              "      border-color: transparent;\n",
              "      border-left-color: var(--fill-color);\n",
              "      border-top-color: var(--fill-color);\n",
              "    }\n",
              "    30% {\n",
              "      border-color: transparent;\n",
              "      border-left-color: var(--fill-color);\n",
              "      border-top-color: var(--fill-color);\n",
              "      border-right-color: var(--fill-color);\n",
              "    }\n",
              "    40% {\n",
              "      border-color: transparent;\n",
              "      border-right-color: var(--fill-color);\n",
              "      border-top-color: var(--fill-color);\n",
              "    }\n",
              "    60% {\n",
              "      border-color: transparent;\n",
              "      border-right-color: var(--fill-color);\n",
              "    }\n",
              "    80% {\n",
              "      border-color: transparent;\n",
              "      border-right-color: var(--fill-color);\n",
              "      border-bottom-color: var(--fill-color);\n",
              "    }\n",
              "    90% {\n",
              "      border-color: transparent;\n",
              "      border-bottom-color: var(--fill-color);\n",
              "    }\n",
              "  }\n",
              "</style>\n",
              "\n",
              "  <script>\n",
              "    async function quickchart(key) {\n",
              "      const quickchartButtonEl =\n",
              "        document.querySelector('#' + key + ' button');\n",
              "      quickchartButtonEl.disabled = true;  // To prevent multiple clicks.\n",
              "      quickchartButtonEl.classList.add('colab-df-spinner');\n",
              "      try {\n",
              "        const charts = await google.colab.kernel.invokeFunction(\n",
              "            'suggestCharts', [key], {});\n",
              "      } catch (error) {\n",
              "        console.error('Error during call to suggestCharts:', error);\n",
              "      }\n",
              "      quickchartButtonEl.classList.remove('colab-df-spinner');\n",
              "      quickchartButtonEl.classList.add('colab-df-quickchart-complete');\n",
              "    }\n",
              "    (() => {\n",
              "      let quickchartButtonEl =\n",
              "        document.querySelector('#df-77982ac4-3bd9-4a76-892f-827893521b51 button');\n",
              "      quickchartButtonEl.style.display =\n",
              "        google.colab.kernel.accessAllowed ? 'block' : 'none';\n",
              "    })();\n",
              "  </script>\n",
              "</div>\n",
              "    </div>\n",
              "  </div>\n"
            ],
            "application/vnd.google.colaboratory.intrinsic+json": {
              "type": "dataframe",
              "variable_name": "missing_data",
              "summary": "{\n  \"name\": \"missing_data\",\n  \"rows\": 19,\n  \"fields\": [\n    {\n      \"column\": \"NaN_count\",\n      \"properties\": {\n        \"dtype\": \"number\",\n        \"std\": 0,\n        \"min\": 0,\n        \"max\": 0,\n        \"num_unique_values\": 1,\n        \"samples\": [\n          0\n        ],\n        \"semantic_type\": \"\",\n        \"description\": \"\"\n      }\n    },\n    {\n      \"column\": \"NaN_percentage\",\n      \"properties\": {\n        \"dtype\": \"number\",\n        \"std\": 0.0,\n        \"min\": 0.0,\n        \"max\": 0.0,\n        \"num_unique_values\": 1,\n        \"samples\": [\n          0.0\n        ],\n        \"semantic_type\": \"\",\n        \"description\": \"\"\n      }\n    }\n  ]\n}"
            }
          },
          "metadata": {},
          "execution_count": 22
        }
      ],
      "source": [
        "# Mendapatkan jumlah missing value tiap kolom dan mengurutkan dari yang terbesar ke terkecil\n",
        "missing = autos.isna().sum().sort_values(ascending = False)\n",
        "# construct a dataframe consists of NaN count and NaN percentage from the dataset\n",
        "missing_data = pd.DataFrame({'NaN_count': missing, 'NaN_percentage': missing / len(autos)}).sort_values(by = 'NaN_percentage', ascending = False)\n",
        "\n",
        "# print the missing value information\n",
        "missing_data"
      ]
    },
    {
      "cell_type": "markdown",
      "metadata": {
        "id": "Sr6QCXSC20UR"
      },
      "source": [
        "## Check Duplicated of Data"
      ]
    },
    {
      "cell_type": "code",
      "execution_count": 23,
      "metadata": {
        "colab": {
          "base_uri": "https://localhost:8080/",
          "height": 334
        },
        "id": "LmuWopV82baL",
        "outputId": "7876fedf-551d-492d-f4f7-dffb1b2e9384"
      },
      "outputs": [
        {
          "output_type": "execute_result",
          "data": {
            "text/plain": [
              "              date_crawled                                          name  \\\n",
              "179448 2016-03-08 18:42:48  Mercedes_Benz_CLK_Coupe_230_Kompressor_Sport   \n",
              "242556 2016-03-28 00:56:10                                  Suzuki_Ignis   \n",
              "270719 2016-04-03 09:01:15                    Mercedes_Benz_CLK_320_W209   \n",
              "341474 2016-03-18 18:46:15    Volkswagen_Passat_Variant_1.9_TDI_Highline   \n",
              "\n",
              "        seller offer_type  price   abtest vehicle_type  registration_year  \\\n",
              "179448  privat    Angebot   1799     test        coupe               1999   \n",
              "242556  privat    Angebot   1000  control   kleinwagen               2002   \n",
              "270719  privat    Angebot   4699     test        coupe               2003   \n",
              "341474  privat    Angebot   1999  control        kombi               2001   \n",
              "\n",
              "          gearbox  power_ps   model  kilometer  registration_month fuel_type  \\\n",
              "179448  automatik       193     clk      20000                   7    benzin   \n",
              "242556    manuell        83  andere     150000                   1    benzin   \n",
              "270719  automatik       218     clk     125000                   6    benzin   \n",
              "341474    manuell       131  passat     150000                   7    diesel   \n",
              "\n",
              "                brand unrepaired_damage ad_created  postal_code  \\\n",
              "179448  mercedes_benz              nein 2016-03-08        89518   \n",
              "242556         suzuki              nein 2016-03-28        66589   \n",
              "270719  mercedes_benz                ja 2016-04-03        75196   \n",
              "341474     volkswagen              nein 2016-03-18        36391   \n",
              "\n",
              "                 last_seen  \n",
              "179448 2016-03-09 09:46:57  \n",
              "242556 2016-03-28 08:46:21  \n",
              "270719 2016-04-07 09:44:54  \n",
              "341474 2016-03-18 18:46:15  "
            ],
            "text/html": [
              "\n",
              "  <div id=\"df-d889ca4f-76b6-408a-9193-a6fc255ebcc7\" class=\"colab-df-container\">\n",
              "    <div>\n",
              "<style scoped>\n",
              "    .dataframe tbody tr th:only-of-type {\n",
              "        vertical-align: middle;\n",
              "    }\n",
              "\n",
              "    .dataframe tbody tr th {\n",
              "        vertical-align: top;\n",
              "    }\n",
              "\n",
              "    .dataframe thead th {\n",
              "        text-align: right;\n",
              "    }\n",
              "</style>\n",
              "<table border=\"1\" class=\"dataframe\">\n",
              "  <thead>\n",
              "    <tr style=\"text-align: right;\">\n",
              "      <th></th>\n",
              "      <th>date_crawled</th>\n",
              "      <th>name</th>\n",
              "      <th>seller</th>\n",
              "      <th>offer_type</th>\n",
              "      <th>price</th>\n",
              "      <th>abtest</th>\n",
              "      <th>vehicle_type</th>\n",
              "      <th>registration_year</th>\n",
              "      <th>gearbox</th>\n",
              "      <th>power_ps</th>\n",
              "      <th>model</th>\n",
              "      <th>kilometer</th>\n",
              "      <th>registration_month</th>\n",
              "      <th>fuel_type</th>\n",
              "      <th>brand</th>\n",
              "      <th>unrepaired_damage</th>\n",
              "      <th>ad_created</th>\n",
              "      <th>postal_code</th>\n",
              "      <th>last_seen</th>\n",
              "    </tr>\n",
              "  </thead>\n",
              "  <tbody>\n",
              "    <tr>\n",
              "      <th>179448</th>\n",
              "      <td>2016-03-08 18:42:48</td>\n",
              "      <td>Mercedes_Benz_CLK_Coupe_230_Kompressor_Sport</td>\n",
              "      <td>privat</td>\n",
              "      <td>Angebot</td>\n",
              "      <td>1799</td>\n",
              "      <td>test</td>\n",
              "      <td>coupe</td>\n",
              "      <td>1999</td>\n",
              "      <td>automatik</td>\n",
              "      <td>193</td>\n",
              "      <td>clk</td>\n",
              "      <td>20000</td>\n",
              "      <td>7</td>\n",
              "      <td>benzin</td>\n",
              "      <td>mercedes_benz</td>\n",
              "      <td>nein</td>\n",
              "      <td>2016-03-08</td>\n",
              "      <td>89518</td>\n",
              "      <td>2016-03-09 09:46:57</td>\n",
              "    </tr>\n",
              "    <tr>\n",
              "      <th>242556</th>\n",
              "      <td>2016-03-28 00:56:10</td>\n",
              "      <td>Suzuki_Ignis</td>\n",
              "      <td>privat</td>\n",
              "      <td>Angebot</td>\n",
              "      <td>1000</td>\n",
              "      <td>control</td>\n",
              "      <td>kleinwagen</td>\n",
              "      <td>2002</td>\n",
              "      <td>manuell</td>\n",
              "      <td>83</td>\n",
              "      <td>andere</td>\n",
              "      <td>150000</td>\n",
              "      <td>1</td>\n",
              "      <td>benzin</td>\n",
              "      <td>suzuki</td>\n",
              "      <td>nein</td>\n",
              "      <td>2016-03-28</td>\n",
              "      <td>66589</td>\n",
              "      <td>2016-03-28 08:46:21</td>\n",
              "    </tr>\n",
              "    <tr>\n",
              "      <th>270719</th>\n",
              "      <td>2016-04-03 09:01:15</td>\n",
              "      <td>Mercedes_Benz_CLK_320_W209</td>\n",
              "      <td>privat</td>\n",
              "      <td>Angebot</td>\n",
              "      <td>4699</td>\n",
              "      <td>test</td>\n",
              "      <td>coupe</td>\n",
              "      <td>2003</td>\n",
              "      <td>automatik</td>\n",
              "      <td>218</td>\n",
              "      <td>clk</td>\n",
              "      <td>125000</td>\n",
              "      <td>6</td>\n",
              "      <td>benzin</td>\n",
              "      <td>mercedes_benz</td>\n",
              "      <td>ja</td>\n",
              "      <td>2016-04-03</td>\n",
              "      <td>75196</td>\n",
              "      <td>2016-04-07 09:44:54</td>\n",
              "    </tr>\n",
              "    <tr>\n",
              "      <th>341474</th>\n",
              "      <td>2016-03-18 18:46:15</td>\n",
              "      <td>Volkswagen_Passat_Variant_1.9_TDI_Highline</td>\n",
              "      <td>privat</td>\n",
              "      <td>Angebot</td>\n",
              "      <td>1999</td>\n",
              "      <td>control</td>\n",
              "      <td>kombi</td>\n",
              "      <td>2001</td>\n",
              "      <td>manuell</td>\n",
              "      <td>131</td>\n",
              "      <td>passat</td>\n",
              "      <td>150000</td>\n",
              "      <td>7</td>\n",
              "      <td>diesel</td>\n",
              "      <td>volkswagen</td>\n",
              "      <td>nein</td>\n",
              "      <td>2016-03-18</td>\n",
              "      <td>36391</td>\n",
              "      <td>2016-03-18 18:46:15</td>\n",
              "    </tr>\n",
              "  </tbody>\n",
              "</table>\n",
              "</div>\n",
              "    <div class=\"colab-df-buttons\">\n",
              "\n",
              "  <div class=\"colab-df-container\">\n",
              "    <button class=\"colab-df-convert\" onclick=\"convertToInteractive('df-d889ca4f-76b6-408a-9193-a6fc255ebcc7')\"\n",
              "            title=\"Convert this dataframe to an interactive table.\"\n",
              "            style=\"display:none;\">\n",
              "\n",
              "  <svg xmlns=\"http://www.w3.org/2000/svg\" height=\"24px\" viewBox=\"0 -960 960 960\">\n",
              "    <path d=\"M120-120v-720h720v720H120Zm60-500h600v-160H180v160Zm220 220h160v-160H400v160Zm0 220h160v-160H400v160ZM180-400h160v-160H180v160Zm440 0h160v-160H620v160ZM180-180h160v-160H180v160Zm440 0h160v-160H620v160Z\"/>\n",
              "  </svg>\n",
              "    </button>\n",
              "\n",
              "  <style>\n",
              "    .colab-df-container {\n",
              "      display:flex;\n",
              "      gap: 12px;\n",
              "    }\n",
              "\n",
              "    .colab-df-convert {\n",
              "      background-color: #E8F0FE;\n",
              "      border: none;\n",
              "      border-radius: 50%;\n",
              "      cursor: pointer;\n",
              "      display: none;\n",
              "      fill: #1967D2;\n",
              "      height: 32px;\n",
              "      padding: 0 0 0 0;\n",
              "      width: 32px;\n",
              "    }\n",
              "\n",
              "    .colab-df-convert:hover {\n",
              "      background-color: #E2EBFA;\n",
              "      box-shadow: 0px 1px 2px rgba(60, 64, 67, 0.3), 0px 1px 3px 1px rgba(60, 64, 67, 0.15);\n",
              "      fill: #174EA6;\n",
              "    }\n",
              "\n",
              "    .colab-df-buttons div {\n",
              "      margin-bottom: 4px;\n",
              "    }\n",
              "\n",
              "    [theme=dark] .colab-df-convert {\n",
              "      background-color: #3B4455;\n",
              "      fill: #D2E3FC;\n",
              "    }\n",
              "\n",
              "    [theme=dark] .colab-df-convert:hover {\n",
              "      background-color: #434B5C;\n",
              "      box-shadow: 0px 1px 3px 1px rgba(0, 0, 0, 0.15);\n",
              "      filter: drop-shadow(0px 1px 2px rgba(0, 0, 0, 0.3));\n",
              "      fill: #FFFFFF;\n",
              "    }\n",
              "  </style>\n",
              "\n",
              "    <script>\n",
              "      const buttonEl =\n",
              "        document.querySelector('#df-d889ca4f-76b6-408a-9193-a6fc255ebcc7 button.colab-df-convert');\n",
              "      buttonEl.style.display =\n",
              "        google.colab.kernel.accessAllowed ? 'block' : 'none';\n",
              "\n",
              "      async function convertToInteractive(key) {\n",
              "        const element = document.querySelector('#df-d889ca4f-76b6-408a-9193-a6fc255ebcc7');\n",
              "        const dataTable =\n",
              "          await google.colab.kernel.invokeFunction('convertToInteractive',\n",
              "                                                    [key], {});\n",
              "        if (!dataTable) return;\n",
              "\n",
              "        const docLinkHtml = 'Like what you see? Visit the ' +\n",
              "          '<a target=\"_blank\" href=https://colab.research.google.com/notebooks/data_table.ipynb>data table notebook</a>'\n",
              "          + ' to learn more about interactive tables.';\n",
              "        element.innerHTML = '';\n",
              "        dataTable['output_type'] = 'display_data';\n",
              "        await google.colab.output.renderOutput(dataTable, element);\n",
              "        const docLink = document.createElement('div');\n",
              "        docLink.innerHTML = docLinkHtml;\n",
              "        element.appendChild(docLink);\n",
              "      }\n",
              "    </script>\n",
              "  </div>\n",
              "\n",
              "\n",
              "<div id=\"df-21418140-724f-48e8-8a6d-00b82eec7af3\">\n",
              "  <button class=\"colab-df-quickchart\" onclick=\"quickchart('df-21418140-724f-48e8-8a6d-00b82eec7af3')\"\n",
              "            title=\"Suggest charts\"\n",
              "            style=\"display:none;\">\n",
              "\n",
              "<svg xmlns=\"http://www.w3.org/2000/svg\" height=\"24px\"viewBox=\"0 0 24 24\"\n",
              "     width=\"24px\">\n",
              "    <g>\n",
              "        <path d=\"M19 3H5c-1.1 0-2 .9-2 2v14c0 1.1.9 2 2 2h14c1.1 0 2-.9 2-2V5c0-1.1-.9-2-2-2zM9 17H7v-7h2v7zm4 0h-2V7h2v10zm4 0h-2v-4h2v4z\"/>\n",
              "    </g>\n",
              "</svg>\n",
              "  </button>\n",
              "\n",
              "<style>\n",
              "  .colab-df-quickchart {\n",
              "      --bg-color: #E8F0FE;\n",
              "      --fill-color: #1967D2;\n",
              "      --hover-bg-color: #E2EBFA;\n",
              "      --hover-fill-color: #174EA6;\n",
              "      --disabled-fill-color: #AAA;\n",
              "      --disabled-bg-color: #DDD;\n",
              "  }\n",
              "\n",
              "  [theme=dark] .colab-df-quickchart {\n",
              "      --bg-color: #3B4455;\n",
              "      --fill-color: #D2E3FC;\n",
              "      --hover-bg-color: #434B5C;\n",
              "      --hover-fill-color: #FFFFFF;\n",
              "      --disabled-bg-color: #3B4455;\n",
              "      --disabled-fill-color: #666;\n",
              "  }\n",
              "\n",
              "  .colab-df-quickchart {\n",
              "    background-color: var(--bg-color);\n",
              "    border: none;\n",
              "    border-radius: 50%;\n",
              "    cursor: pointer;\n",
              "    display: none;\n",
              "    fill: var(--fill-color);\n",
              "    height: 32px;\n",
              "    padding: 0;\n",
              "    width: 32px;\n",
              "  }\n",
              "\n",
              "  .colab-df-quickchart:hover {\n",
              "    background-color: var(--hover-bg-color);\n",
              "    box-shadow: 0 1px 2px rgba(60, 64, 67, 0.3), 0 1px 3px 1px rgba(60, 64, 67, 0.15);\n",
              "    fill: var(--button-hover-fill-color);\n",
              "  }\n",
              "\n",
              "  .colab-df-quickchart-complete:disabled,\n",
              "  .colab-df-quickchart-complete:disabled:hover {\n",
              "    background-color: var(--disabled-bg-color);\n",
              "    fill: var(--disabled-fill-color);\n",
              "    box-shadow: none;\n",
              "  }\n",
              "\n",
              "  .colab-df-spinner {\n",
              "    border: 2px solid var(--fill-color);\n",
              "    border-color: transparent;\n",
              "    border-bottom-color: var(--fill-color);\n",
              "    animation:\n",
              "      spin 1s steps(1) infinite;\n",
              "  }\n",
              "\n",
              "  @keyframes spin {\n",
              "    0% {\n",
              "      border-color: transparent;\n",
              "      border-bottom-color: var(--fill-color);\n",
              "      border-left-color: var(--fill-color);\n",
              "    }\n",
              "    20% {\n",
              "      border-color: transparent;\n",
              "      border-left-color: var(--fill-color);\n",
              "      border-top-color: var(--fill-color);\n",
              "    }\n",
              "    30% {\n",
              "      border-color: transparent;\n",
              "      border-left-color: var(--fill-color);\n",
              "      border-top-color: var(--fill-color);\n",
              "      border-right-color: var(--fill-color);\n",
              "    }\n",
              "    40% {\n",
              "      border-color: transparent;\n",
              "      border-right-color: var(--fill-color);\n",
              "      border-top-color: var(--fill-color);\n",
              "    }\n",
              "    60% {\n",
              "      border-color: transparent;\n",
              "      border-right-color: var(--fill-color);\n",
              "    }\n",
              "    80% {\n",
              "      border-color: transparent;\n",
              "      border-right-color: var(--fill-color);\n",
              "      border-bottom-color: var(--fill-color);\n",
              "    }\n",
              "    90% {\n",
              "      border-color: transparent;\n",
              "      border-bottom-color: var(--fill-color);\n",
              "    }\n",
              "  }\n",
              "</style>\n",
              "\n",
              "  <script>\n",
              "    async function quickchart(key) {\n",
              "      const quickchartButtonEl =\n",
              "        document.querySelector('#' + key + ' button');\n",
              "      quickchartButtonEl.disabled = true;  // To prevent multiple clicks.\n",
              "      quickchartButtonEl.classList.add('colab-df-spinner');\n",
              "      try {\n",
              "        const charts = await google.colab.kernel.invokeFunction(\n",
              "            'suggestCharts', [key], {});\n",
              "      } catch (error) {\n",
              "        console.error('Error during call to suggestCharts:', error);\n",
              "      }\n",
              "      quickchartButtonEl.classList.remove('colab-df-spinner');\n",
              "      quickchartButtonEl.classList.add('colab-df-quickchart-complete');\n",
              "    }\n",
              "    (() => {\n",
              "      let quickchartButtonEl =\n",
              "        document.querySelector('#df-21418140-724f-48e8-8a6d-00b82eec7af3 button');\n",
              "      quickchartButtonEl.style.display =\n",
              "        google.colab.kernel.accessAllowed ? 'block' : 'none';\n",
              "    })();\n",
              "  </script>\n",
              "</div>\n",
              "    </div>\n",
              "  </div>\n"
            ],
            "application/vnd.google.colaboratory.intrinsic+json": {
              "type": "dataframe",
              "summary": "{\n  \"name\": \"autos[autos\",\n  \"rows\": 4,\n  \"fields\": [\n    {\n      \"column\": \"date_crawled\",\n      \"properties\": {\n        \"dtype\": \"date\",\n        \"min\": \"2016-03-08 18:42:48\",\n        \"max\": \"2016-04-03 09:01:15\",\n        \"num_unique_values\": 4,\n        \"samples\": [\n          \"2016-03-28 00:56:10\",\n          \"2016-03-18 18:46:15\",\n          \"2016-03-08 18:42:48\"\n        ],\n        \"semantic_type\": \"\",\n        \"description\": \"\"\n      }\n    },\n    {\n      \"column\": \"name\",\n      \"properties\": {\n        \"dtype\": \"string\",\n        \"num_unique_values\": 4,\n        \"samples\": [\n          \"Suzuki_Ignis\",\n          \"Volkswagen_Passat_Variant_1.9_TDI_Highline\",\n          \"Mercedes_Benz_CLK_Coupe_230_Kompressor_Sport\"\n        ],\n        \"semantic_type\": \"\",\n        \"description\": \"\"\n      }\n    },\n    {\n      \"column\": \"seller\",\n      \"properties\": {\n        \"dtype\": \"category\",\n        \"num_unique_values\": 1,\n        \"samples\": [\n          \"privat\"\n        ],\n        \"semantic_type\": \"\",\n        \"description\": \"\"\n      }\n    },\n    {\n      \"column\": \"offer_type\",\n      \"properties\": {\n        \"dtype\": \"category\",\n        \"num_unique_values\": 1,\n        \"samples\": [\n          \"Angebot\"\n        ],\n        \"semantic_type\": \"\",\n        \"description\": \"\"\n      }\n    },\n    {\n      \"column\": \"price\",\n      \"properties\": {\n        \"dtype\": \"number\",\n        \"std\": 1608,\n        \"min\": 1000,\n        \"max\": 4699,\n        \"num_unique_values\": 4,\n        \"samples\": [\n          1000\n        ],\n        \"semantic_type\": \"\",\n        \"description\": \"\"\n      }\n    },\n    {\n      \"column\": \"abtest\",\n      \"properties\": {\n        \"dtype\": \"string\",\n        \"num_unique_values\": 2,\n        \"samples\": [\n          \"control\"\n        ],\n        \"semantic_type\": \"\",\n        \"description\": \"\"\n      }\n    },\n    {\n      \"column\": \"vehicle_type\",\n      \"properties\": {\n        \"dtype\": \"string\",\n        \"num_unique_values\": 3,\n        \"samples\": [\n          \"coupe\"\n        ],\n        \"semantic_type\": \"\",\n        \"description\": \"\"\n      }\n    },\n    {\n      \"column\": \"registration_year\",\n      \"properties\": {\n        \"dtype\": \"number\",\n        \"std\": 1,\n        \"min\": 1999,\n        \"max\": 2003,\n        \"num_unique_values\": 4,\n        \"samples\": [\n          2002\n        ],\n        \"semantic_type\": \"\",\n        \"description\": \"\"\n      }\n    },\n    {\n      \"column\": \"gearbox\",\n      \"properties\": {\n        \"dtype\": \"string\",\n        \"num_unique_values\": 2,\n        \"samples\": [\n          \"manuell\"\n        ],\n        \"semantic_type\": \"\",\n        \"description\": \"\"\n      }\n    },\n    {\n      \"column\": \"power_ps\",\n      \"properties\": {\n        \"dtype\": \"number\",\n        \"std\": 61,\n        \"min\": 83,\n        \"max\": 218,\n        \"num_unique_values\": 4,\n        \"samples\": [\n          83\n        ],\n        \"semantic_type\": \"\",\n        \"description\": \"\"\n      }\n    },\n    {\n      \"column\": \"model\",\n      \"properties\": {\n        \"dtype\": \"string\",\n        \"num_unique_values\": 3,\n        \"samples\": [\n          \"clk\"\n        ],\n        \"semantic_type\": \"\",\n        \"description\": \"\"\n      }\n    },\n    {\n      \"column\": \"kilometer\",\n      \"properties\": {\n        \"dtype\": \"number\",\n        \"std\": 61964,\n        \"min\": 20000,\n        \"max\": 150000,\n        \"num_unique_values\": 3,\n        \"samples\": [\n          20000\n        ],\n        \"semantic_type\": \"\",\n        \"description\": \"\"\n      }\n    },\n    {\n      \"column\": \"registration_month\",\n      \"properties\": {\n        \"dtype\": \"number\",\n        \"std\": 2,\n        \"min\": 1,\n        \"max\": 7,\n        \"num_unique_values\": 3,\n        \"samples\": [\n          7\n        ],\n        \"semantic_type\": \"\",\n        \"description\": \"\"\n      }\n    },\n    {\n      \"column\": \"fuel_type\",\n      \"properties\": {\n        \"dtype\": \"string\",\n        \"num_unique_values\": 2,\n        \"samples\": [\n          \"diesel\"\n        ],\n        \"semantic_type\": \"\",\n        \"description\": \"\"\n      }\n    },\n    {\n      \"column\": \"brand\",\n      \"properties\": {\n        \"dtype\": \"string\",\n        \"num_unique_values\": 3,\n        \"samples\": [\n          \"mercedes_benz\"\n        ],\n        \"semantic_type\": \"\",\n        \"description\": \"\"\n      }\n    },\n    {\n      \"column\": \"unrepaired_damage\",\n      \"properties\": {\n        \"dtype\": \"string\",\n        \"num_unique_values\": 2,\n        \"samples\": [\n          \"ja\"\n        ],\n        \"semantic_type\": \"\",\n        \"description\": \"\"\n      }\n    },\n    {\n      \"column\": \"ad_created\",\n      \"properties\": {\n        \"dtype\": \"date\",\n        \"min\": \"2016-03-08 00:00:00\",\n        \"max\": \"2016-04-03 00:00:00\",\n        \"num_unique_values\": 4,\n        \"samples\": [\n          \"2016-03-28 00:00:00\"\n        ],\n        \"semantic_type\": \"\",\n        \"description\": \"\"\n      }\n    },\n    {\n      \"column\": \"postal_code\",\n      \"properties\": {\n        \"dtype\": \"number\",\n        \"std\": 22444,\n        \"min\": 36391,\n        \"max\": 89518,\n        \"num_unique_values\": 4,\n        \"samples\": [\n          66589\n        ],\n        \"semantic_type\": \"\",\n        \"description\": \"\"\n      }\n    },\n    {\n      \"column\": \"last_seen\",\n      \"properties\": {\n        \"dtype\": \"date\",\n        \"min\": \"2016-03-09 09:46:57\",\n        \"max\": \"2016-04-07 09:44:54\",\n        \"num_unique_values\": 4,\n        \"samples\": [\n          \"2016-03-28 08:46:21\"\n        ],\n        \"semantic_type\": \"\",\n        \"description\": \"\"\n      }\n    }\n  ]\n}"
            }
          },
          "metadata": {},
          "execution_count": 23
        }
      ],
      "source": [
        "# cek jika terdapat data duplikat\n",
        "autos[autos.duplicated()]"
      ]
    },
    {
      "cell_type": "code",
      "execution_count": 24,
      "metadata": {
        "colab": {
          "base_uri": "https://localhost:8080/"
        },
        "id": "QqtywqRL4mK1",
        "outputId": "2e8c7c3f-500a-40b7-b8b4-1be6bcd4ab75"
      },
      "outputs": [
        {
          "output_type": "execute_result",
          "data": {
            "text/plain": [
              "4"
            ]
          },
          "metadata": {},
          "execution_count": 24
        }
      ],
      "source": [
        "# menampilkan jumlah data yang duplikat\n",
        "autos.duplicated().sum()"
      ]
    },
    {
      "cell_type": "markdown",
      "source": [
        "terdapat 4 data duplikat\n",
        "\n",
        "## Handle Duplicated of Data"
      ],
      "metadata": {
        "id": "KdocKb-Cuj_U"
      }
    },
    {
      "cell_type": "code",
      "source": [
        "# Menghapus baris duplikat dari DataFrame 'autos' dan mempertahankan baris pertama\n",
        "autos = autos.drop_duplicates(keep='first')"
      ],
      "metadata": {
        "id": "C7-4IIL3uwjH"
      },
      "execution_count": 25,
      "outputs": []
    },
    {
      "cell_type": "code",
      "source": [
        "# cek kembali data\n",
        "autos.duplicated().sum()"
      ],
      "metadata": {
        "colab": {
          "base_uri": "https://localhost:8080/"
        },
        "id": "FtaN97S3x_lI",
        "outputId": "b130eca8-c5a2-492b-aefd-4de980b6f67b"
      },
      "execution_count": 28,
      "outputs": [
        {
          "output_type": "execute_result",
          "data": {
            "text/plain": [
              "0"
            ]
          },
          "metadata": {},
          "execution_count": 28
        }
      ]
    },
    {
      "cell_type": "markdown",
      "metadata": {
        "id": "MSaYPrT98xi-"
      },
      "source": [
        "## Check Inconsistence and Handle it"
      ]
    },
    {
      "cell_type": "code",
      "execution_count": 29,
      "metadata": {
        "colab": {
          "base_uri": "https://localhost:8080/"
        },
        "id": "gMJbEu_OAAG_",
        "outputId": "b2b01c81-6701-4c53-ab84-41f8ae6b79fc"
      },
      "outputs": [
        {
          "output_type": "execute_result",
          "data": {
            "text/plain": [
              "array(['privat', 'gewerblich'], dtype=object)"
            ]
          },
          "metadata": {},
          "execution_count": 29
        }
      ],
      "source": [
        "# cek kolom seller\n",
        "autos.seller.unique()"
      ]
    },
    {
      "cell_type": "markdown",
      "metadata": {
        "id": "snwQV4eFArMb"
      },
      "source": [
        "Data kolom seller ditemukan konsisten, namun kita ingin mengubah nama dengan bahasa Jerman dengan nama yang mudah dipahami"
      ]
    },
    {
      "cell_type": "code",
      "execution_count": 30,
      "metadata": {
        "colab": {
          "base_uri": "https://localhost:8080/"
        },
        "id": "pJxnfyKFAe7J",
        "outputId": "934de00c-e648-42a5-d67f-ae816d3a5407"
      },
      "outputs": [
        {
          "output_type": "execute_result",
          "data": {
            "text/plain": [
              "array(['private', 'commercial'], dtype=object)"
            ]
          },
          "metadata": {},
          "execution_count": 30
        }
      ],
      "source": [
        "# mengganti isi kolom seller menjadi mudah dipahami\n",
        "autos.seller = autos.seller.replace({'privat':'private',\n",
        "                                     'gewerblich':'commercial'})\n",
        "autos.seller.unique()"
      ]
    },
    {
      "cell_type": "code",
      "execution_count": 31,
      "metadata": {
        "colab": {
          "base_uri": "https://localhost:8080/"
        },
        "id": "h0IQWa5SBVYs",
        "outputId": "80b7bf7a-2de3-4733-f2ce-133b35054972"
      },
      "outputs": [
        {
          "output_type": "execute_result",
          "data": {
            "text/plain": [
              "array(['Angebot', 'Gesuch'], dtype=object)"
            ]
          },
          "metadata": {},
          "execution_count": 31
        }
      ],
      "source": [
        "# cek kolom offer type\n",
        "autos.offer_type.unique()"
      ]
    },
    {
      "cell_type": "markdown",
      "metadata": {
        "id": "99Rg8XElCcuT"
      },
      "source": [
        "Data kolom offer_type ditemukan konsisten, namun kita ingin mengubah nama dengan bahasa Jerman dengan nama yang mudah dipahami"
      ]
    },
    {
      "cell_type": "code",
      "execution_count": 32,
      "metadata": {
        "colab": {
          "base_uri": "https://localhost:8080/"
        },
        "id": "bu6-_-1C-cB3",
        "outputId": "bebc6917-6688-45e6-f5fe-f450fd4e8493"
      },
      "outputs": [
        {
          "output_type": "execute_result",
          "data": {
            "text/plain": [
              "array(['Request', 'Offer'], dtype=object)"
            ]
          },
          "metadata": {},
          "execution_count": 32
        }
      ],
      "source": [
        "# mengganti isi kolom offer_type menjadi mudah dipahami\n",
        "autos.offer_type = autos.offer_type.replace({'Angebot':'Request',\n",
        "                                             'Gesuch':'Offer'})\n",
        "autos.offer_type.unique()"
      ]
    },
    {
      "cell_type": "code",
      "execution_count": 33,
      "metadata": {
        "colab": {
          "base_uri": "https://localhost:8080/"
        },
        "id": "1QOe9V3yBKod",
        "outputId": "aaf8f0fd-25e0-4d5c-8659-f413058701c0"
      },
      "outputs": [
        {
          "output_type": "execute_result",
          "data": {
            "text/plain": [
              "array(['manuell', 'automatik', 'not-exist'], dtype=object)"
            ]
          },
          "metadata": {},
          "execution_count": 33
        }
      ],
      "source": [
        "# cek kolom gearbox\n",
        "autos.gearbox.unique()"
      ]
    },
    {
      "cell_type": "markdown",
      "metadata": {
        "id": "J53QgupGCD4V"
      },
      "source": [
        "Data kolom gearbox ditemukan konsisten, namun kita ingin mengubah nama dengan bahasa Jerman dengan nama yang mudah dipahami"
      ]
    },
    {
      "cell_type": "code",
      "execution_count": 34,
      "metadata": {
        "colab": {
          "base_uri": "https://localhost:8080/"
        },
        "id": "X162ExleCItX",
        "outputId": "8c13bcf8-c172-444d-f857-a4c169df49ba"
      },
      "outputs": [
        {
          "output_type": "execute_result",
          "data": {
            "text/plain": [
              "array(['manual', 'automatic', 'not-exist'], dtype=object)"
            ]
          },
          "metadata": {},
          "execution_count": 34
        }
      ],
      "source": [
        "# mengganti isi kolom gearbox menjadi mudah dipahami\n",
        "autos.gearbox = autos.gearbox.replace({'manuell':'manual',\n",
        "                                       'automatik':'automatic',\n",
        "                                       'not-exist':'not-exist'})\n",
        "autos.gearbox.unique()"
      ]
    },
    {
      "cell_type": "code",
      "execution_count": 35,
      "metadata": {
        "colab": {
          "base_uri": "https://localhost:8080/"
        },
        "id": "vq5-DW0yEgr1",
        "outputId": "cffc0766-5354-418b-f355-138dc0ffb872"
      },
      "outputs": [
        {
          "output_type": "execute_result",
          "data": {
            "text/plain": [
              "array(['benzin', 'diesel', 'other', 'lpg', 'andere', 'hybrid', 'cng',\n",
              "       'elektro'], dtype=object)"
            ]
          },
          "metadata": {},
          "execution_count": 35
        }
      ],
      "source": [
        "# cek kolom fuel_type\n",
        "autos.fuel_type.unique()"
      ]
    },
    {
      "cell_type": "markdown",
      "metadata": {
        "id": "Qe3hGhnHE-mo"
      },
      "source": [
        "Data kolom fuel_type ditemukan konsisten, namun kita ingin mengubah nama dengan bahasa Jerman dengan nama yang mudah dipahami"
      ]
    },
    {
      "cell_type": "code",
      "execution_count": 36,
      "metadata": {
        "colab": {
          "base_uri": "https://localhost:8080/"
        },
        "id": "gwUqQOaJFEWl",
        "outputId": "5c91da8c-8f48-4ae1-bda3-a209542db51f"
      },
      "outputs": [
        {
          "output_type": "execute_result",
          "data": {
            "text/plain": [
              "array(['gasoline', 'automatic', 'other', 'lpg', 'andere', 'hybrid', 'cng',\n",
              "       'electric'], dtype=object)"
            ]
          },
          "metadata": {},
          "execution_count": 36
        }
      ],
      "source": [
        "# mengganti isi kolom gearbox menjadi mudah dipahami\n",
        "autos.fuel_type = autos.fuel_type.replace({'benzin':'gasoline',\n",
        "                                           'diesel':'automatic',\n",
        "                                           'elektro':'electric'})\n",
        "autos.fuel_type.unique()"
      ]
    },
    {
      "cell_type": "code",
      "execution_count": 37,
      "metadata": {
        "colab": {
          "base_uri": "https://localhost:8080/"
        },
        "id": "NPlNsRHZE-Hq",
        "outputId": "d588898c-05ea-4f01-9d08-644868ea7d53"
      },
      "outputs": [
        {
          "output_type": "execute_result",
          "data": {
            "text/plain": [
              "array(['other', 'ja', 'nein'], dtype=object)"
            ]
          },
          "metadata": {},
          "execution_count": 37
        }
      ],
      "source": [
        "# cek kolom unrepaired_damage\n",
        "autos.unrepaired_damage.unique()"
      ]
    },
    {
      "cell_type": "markdown",
      "metadata": {
        "id": "sQ1NGoalHe8m"
      },
      "source": [
        "Data kolom unrepaired_damage ditemukan konsisten, namun kita ingin mengubah nama dengan bahasa Jerman dengan nama yang mudah dipahami"
      ]
    },
    {
      "cell_type": "code",
      "execution_count": 38,
      "metadata": {
        "colab": {
          "base_uri": "https://localhost:8080/"
        },
        "id": "KOYgbqHG-vKz",
        "outputId": "ecdc155b-f93b-4098-c6c3-746da6dc17ad"
      },
      "outputs": [
        {
          "output_type": "execute_result",
          "data": {
            "text/plain": [
              "array(['other', 'yes', 'no'], dtype=object)"
            ]
          },
          "metadata": {},
          "execution_count": 38
        }
      ],
      "source": [
        "# mengganti isi kolom unrepaired_damage menjadi mudah dipahami\n",
        "autos.unrepaired_damage = autos.unrepaired_damage.replace({'ja':'yes',\n",
        "                                                           'nein':'no'})\n",
        "autos.unrepaired_damage.unique()"
      ]
    },
    {
      "cell_type": "markdown",
      "metadata": {
        "id": "gUuCNGNXD55B"
      },
      "source": [
        "ditemukan baris tahun yang tidak sesuai dengan tahun sekarang yaitu 2024 dan juga ditemukan tahun yang kurang dari tahun ditemukan mobil pertama kali yaitu tahun 1878 oleh Karl Benz"
      ]
    },
    {
      "cell_type": "code",
      "execution_count": 39,
      "metadata": {
        "colab": {
          "base_uri": "https://localhost:8080/"
        },
        "id": "3gIgwuCsIHrz",
        "outputId": "328af222-9d0c-42ff-8a52-a5540a0b71c0"
      },
      "outputs": [
        {
          "output_type": "execute_result",
          "data": {
            "text/plain": [
              "array([1993, 2011, 2004, 2001, 2008, 1995, 1980, 2014, 1998, 2005, 1910,\n",
              "       2016, 2007, 2009, 2002, 2018, 1997, 1990, 2017, 1981, 2003, 1994,\n",
              "       1991, 1984, 2006, 1999, 2012, 2010, 2000, 1992, 2013, 1996, 1985,\n",
              "       1989, 2015, 1968, 1982, 1976, 1983, 1959, 1973, 1111, 1969, 1971,\n",
              "       1987, 1986, 1988, 1967, 1970, 1965, 1945, 1925, 1974, 1979, 1955,\n",
              "       1978, 1972, 1977, 1961, 1963, 1964, 1960, 1966, 1975, 1937, 1936,\n",
              "       5000, 1954, 1958, 9999, 1956, 3200, 1000, 1933, 1941, 1962, 8888,\n",
              "       1500, 2200, 4100, 1929, 1951, 1957, 1940, 3000, 2066, 1949, 2019,\n",
              "       1800, 1953, 1935, 1234, 8000, 5300, 9000, 2900, 6000, 5900, 5911,\n",
              "       1400, 1950, 4000, 1948, 1952, 1200, 8500, 1932, 1255, 1927, 1923,\n",
              "       1931, 3700, 3800, 4800, 1942, 7000, 1911, 6500, 2290, 2500, 1930,\n",
              "       1001, 6200, 9450, 1944, 1943, 1947, 1934, 1938, 1688, 2800, 1253,\n",
              "       1928, 7500, 1919, 5555, 7777, 5600, 1600, 1939, 2222, 1039, 9996,\n",
              "       1300, 8455, 1915, 4500, 1920, 1602, 7800, 9229, 1946, 7100, 8200,\n",
              "       3500])"
            ]
          },
          "metadata": {},
          "execution_count": 39
        }
      ],
      "source": [
        "# cek kolom registration_year\n",
        "autos.registration_year.unique()"
      ]
    },
    {
      "cell_type": "code",
      "execution_count": 40,
      "metadata": {
        "colab": {
          "base_uri": "https://localhost:8080/"
        },
        "id": "gJfIAcQ3KWIg",
        "outputId": "8bcfe531-57b7-453d-f960-0374f3e023bf"
      },
      "outputs": [
        {
          "output_type": "execute_result",
          "data": {
            "text/plain": [
              "count    371524.000000\n",
              "mean       2004.578033\n",
              "std          92.867097\n",
              "min        1000.000000\n",
              "25%        1999.000000\n",
              "50%        2003.000000\n",
              "75%        2008.000000\n",
              "max        9999.000000\n",
              "Name: registration_year, dtype: float64"
            ]
          },
          "metadata": {},
          "execution_count": 40
        }
      ],
      "source": [
        "# cek deskripsi dari komom registration_year\n",
        "autos.registration_year.describe()"
      ]
    },
    {
      "cell_type": "markdown",
      "metadata": {
        "id": "dbXtmxTFIlWw"
      },
      "source": [
        "ditemukan data kolom tahun registrasi memiliki nilai yang tidak realistis.\n",
        "\n",
        "tidak sesuai dengan tahun terakhir dataset dibuat, yaitu tahun 2016.\n",
        "Dan juga ditemukan tahun yang kurang dari tahun ditemukan mobil pertama kali yaitu tahun 1878 oleh Karl Benz"
      ]
    },
    {
      "cell_type": "code",
      "execution_count": 41,
      "metadata": {
        "colab": {
          "base_uri": "https://localhost:8080/"
        },
        "id": "8ni-MUIZLlNU",
        "outputId": "7415397d-aebf-4ea4-f731-ffb0edb540d6"
      },
      "outputs": [
        {
          "output_type": "execute_result",
          "data": {
            "text/plain": [
              "0         1993\n",
              "1         2011\n",
              "2         2004\n",
              "3         2001\n",
              "4         2008\n",
              "          ... \n",
              "371523    2005\n",
              "371524    2000\n",
              "371525    1996\n",
              "371526    2002\n",
              "371527    2013\n",
              "Name: registration_year, Length: 356776, dtype: int64"
            ]
          },
          "metadata": {},
          "execution_count": 41
        }
      ],
      "source": [
        "# drop baris yang memiliki tahun dibawaah 1878 dan tahun diatas 2016\n",
        "autos = autos[(autos.registration_year >= 1878) & (autos.registration_year <= 2016)]\n",
        "\n",
        "autos.registration_year"
      ]
    },
    {
      "cell_type": "code",
      "execution_count": 42,
      "metadata": {
        "colab": {
          "base_uri": "https://localhost:8080/"
        },
        "id": "6Rh8OL64aKOH",
        "outputId": "72ec8da0-009f-43e2-f422-e15062787e5b"
      },
      "outputs": [
        {
          "output_type": "execute_result",
          "data": {
            "text/plain": [
              "array([ 0,  5,  8,  6,  7, 10, 12, 11,  2,  3,  1,  4,  9])"
            ]
          },
          "metadata": {},
          "execution_count": 42
        }
      ],
      "source": [
        "# cek kolom registration_month\n",
        "autos.registration_month.unique()"
      ]
    },
    {
      "cell_type": "markdown",
      "metadata": {
        "id": "zpHxJMx_aJbe"
      },
      "source": [
        "kita akan mengubah data bulan menjadi 1 - 12, lalu ubah menjadi Jan-Dec"
      ]
    },
    {
      "cell_type": "code",
      "execution_count": 43,
      "metadata": {
        "colab": {
          "base_uri": "https://localhost:8080/"
        },
        "id": "wFR0NT-havJ0",
        "outputId": "31e5d69a-8b5f-4272-efc9-3da7c031c12a"
      },
      "outputs": [
        {
          "output_type": "execute_result",
          "data": {
            "text/plain": [
              "array(['Jan', 'May', 'Aug', 'Jun', 'Jul', 'Oct', 'Dec', 'Nov', 'Feb',\n",
              "       'Mar', 'Apr', 'Sep'], dtype=object)"
            ]
          },
          "metadata": {},
          "execution_count": 43
        }
      ],
      "source": [
        "#mengubah nilai bulan\n",
        "autos.registration_month.replace([0,12],[1,12],inplace=True)\n",
        "\n",
        "#mengubah nilai bulan dari 1-12 menjadi Jan - Des\n",
        "months = [\"Jan\", \"Feb\", \"Mar\" ,\"Apr\", \"May\", \"Jun\", \"Jul\", \"Aug\", \"Sep\", \"Oct\", \"Nov\", \"Dec\"]\n",
        "\n",
        "#mengubah nilai bulan dari 1-12 menjadi Jan - Des\n",
        "autos.registration_month.replace([1,2,3,4,5,6,7,8,9,10,11, 12],months,inplace=True)\n",
        "\n",
        "# cek kolom registration_month kembali\n",
        "autos.registration_month.unique()"
      ]
    },
    {
      "cell_type": "markdown",
      "metadata": {
        "id": "ouT7QU8vygyv"
      },
      "source": [
        "## Check Outlier\n",
        "\n",
        "- Outlier biasanya terdapat pada kolom bertipe numeric.\n",
        "- Pada kasus kali ini, kita akan mengidentifikasi outlier pada kolom price.\n",
        "- Kita dapat menampilkan sebaran data price menggunakan boxplot"
      ]
    },
    {
      "cell_type": "code",
      "execution_count": 44,
      "metadata": {
        "colab": {
          "base_uri": "https://localhost:8080/",
          "height": 430
        },
        "id": "oEMmMMQOI_ZA",
        "outputId": "2b370e82-466a-405e-9740-0704444dc37e"
      },
      "outputs": [
        {
          "output_type": "display_data",
          "data": {
            "text/plain": [
              "<Figure size 1000x600 with 1 Axes>"
            ],
            "image/png": "[encoded data removed]"
          },
          "metadata": {}
        }
      ],
      "source": [
        "# Buat figure & axes\n",
        "fig, ax = plt.subplots(figsize=(10, 6))\n",
        "\n",
        "# Buat boxplot untuk kolom \"price\"\n",
        "sns.boxplot(data=autos,\n",
        "            x=\"price\",\n",
        "            ax=ax)\n",
        "\n",
        "# Tampilkan plot\n",
        "plt.show()"
      ]
    },
    {
      "cell_type": "markdown",
      "metadata": {
        "id": "bnLf_dsTKHDG"
      },
      "source": [
        "kita cek dulu statistik deskripsinya"
      ]
    },
    {
      "cell_type": "code",
      "execution_count": 45,
      "metadata": {
        "colab": {
          "base_uri": "https://localhost:8080/"
        },
        "id": "zFngnuetJyev",
        "outputId": "6e378b36-1974-4a30-b1a6-1d78e7a2478c"
      },
      "outputs": [
        {
          "output_type": "execute_result",
          "data": {
            "text/plain": [
              "count    3.567760e+05\n",
              "mean     1.742374e+04\n",
              "std      3.657309e+06\n",
              "min      0.000000e+00\n",
              "25%      1.150000e+03\n",
              "50%      2.999000e+03\n",
              "75%      7.400000e+03\n",
              "max      2.147484e+09\n",
              "Name: price, dtype: float64"
            ]
          },
          "metadata": {},
          "execution_count": 45
        }
      ],
      "source": [
        "# cek statistik deskriptif\n",
        "autos.price.describe()"
      ]
    },
    {
      "cell_type": "markdown",
      "metadata": {
        "id": "sRlFkkXWLZvs"
      },
      "source": [
        " cek kemunculan harga paling tinggi pada kolom price"
      ]
    },
    {
      "cell_type": "code",
      "execution_count": 46,
      "metadata": {
        "colab": {
          "base_uri": "https://localhost:8080/"
        },
        "id": "_o5Xlx2R4oXY",
        "outputId": "63cf365f-553b-4791-cda5-75c134fa8cb5"
      },
      "outputs": [
        {
          "output_type": "execute_result",
          "data": {
            "text/plain": [
              "2147483647     1\n",
              "99999999      14\n",
              "99000000       1\n",
              "74185296       1\n",
              "32545461       1\n",
              "Name: price, dtype: int64"
            ]
          },
          "metadata": {},
          "execution_count": 46
        }
      ],
      "source": [
        "# cek harga paling tinggi\n",
        "autos.price.value_counts().sort_index(ascending=False).head()"
      ]
    },
    {
      "cell_type": "markdown",
      "metadata": {
        "id": "GjkrpALNQdbb"
      },
      "source": [
        "hapus outlier harga yang memiliki nilai > 9999999 karena harga tersebut tidak menjadikan harga serius yang ditawarkan"
      ]
    },
    {
      "cell_type": "code",
      "execution_count": 47,
      "metadata": {
        "colab": {
          "base_uri": "https://localhost:8080/"
        },
        "id": "_JJdeL3FPm4X",
        "outputId": "fbd07858-fe8b-4fe1-80fb-75d0374f5538"
      },
      "outputs": [
        {
          "output_type": "execute_result",
          "data": {
            "text/plain": [
              "3895000    1\n",
              "3890000    1\n",
              "Name: price, dtype: int64"
            ]
          },
          "metadata": {},
          "execution_count": 47
        }
      ],
      "source": [
        "# Menghapus baris yang memiliki nilai lebih dari 9999999 di kolom 'price'\n",
        "autos = autos.loc[autos.price < 9999999]\n",
        "# cek harga kembali\n",
        "autos.price.value_counts().sort_index(ascending=False).head(2)"
      ]
    },
    {
      "cell_type": "code",
      "execution_count": 48,
      "metadata": {
        "colab": {
          "base_uri": "https://localhost:8080/"
        },
        "id": "tMmCWECLUtuQ",
        "outputId": "fd59af14-37fa-4b86-f42a-6e200a4c8c2c"
      },
      "outputs": [
        {
          "output_type": "execute_result",
          "data": {
            "text/plain": [
              "4        1\n",
              "3        7\n",
              "2       11\n",
              "1     1119\n",
              "0    10014\n",
              "Name: price, dtype: int64"
            ]
          },
          "metadata": {},
          "execution_count": 48
        }
      ],
      "source": [
        "#cek harga yang memiliki nilai 0\n",
        "autos.price.value_counts().sort_index(ascending=False).tail()"
      ]
    },
    {
      "cell_type": "markdown",
      "metadata": {
        "id": "4RT2GFsEYiMW"
      },
      "source": [
        "ternyata terdapat kemunculan harga 0 sebanyak 10014. kita cek dulu berapa presentasenya"
      ]
    },
    {
      "cell_type": "code",
      "execution_count": 52,
      "metadata": {
        "colab": {
          "base_uri": "https://localhost:8080/"
        },
        "id": "seamSsMcYVCa",
        "outputId": "3543cbde-ea8e-4dd1-a204-96209ed9cacb"
      },
      "outputs": [
        {
          "output_type": "stream",
          "name": "stdout",
          "text": [
            "Persentase nilai 0 dalam kolom 'price': 2.81%\n"
          ]
        }
      ],
      "source": [
        "# Hitung jumlah nilai 0 dalam kolom tertentu\n",
        "jumlah_nilai_0 = (autos.price.values == 0).sum()\n",
        "\n",
        "# Hitung jumlah total baris\n",
        "jumlah_total_baris = autos.shape[0]\n",
        "\n",
        "# Hitung persentase nilai 0\n",
        "persentase_nilai_0 = (jumlah_nilai_0 / jumlah_total_baris) * 100\n",
        "\n",
        "print(f\"Persentase nilai 0 dalam kolom 'price': {persentase_nilai_0:.2f}%\")"
      ]
    },
    {
      "cell_type": "markdown",
      "metadata": {
        "id": "-lLO3HZ5Y_Q7"
      },
      "source": [
        "Ternyata nilai harga pada kolom price yang bernilai 0.0 berjumlah\n",
        "2.81% dari total seluruh data. maka solusinya adalah dengan\n",
        "menghapus semua data yang bernilai 0\n",
        "\n"
      ]
    },
    {
      "cell_type": "code",
      "execution_count": 53,
      "metadata": {
        "colab": {
          "base_uri": "https://localhost:8080/"
        },
        "id": "HxVFpRuzZDPu",
        "outputId": "547b61c2-1711-4dbe-9e23-0aedf4f7f93a"
      },
      "outputs": [
        {
          "output_type": "execute_result",
          "data": {
            "text/plain": [
              "5      26\n",
              "4       1\n",
              "3       7\n",
              "2      11\n",
              "1    1119\n",
              "Name: price, dtype: int64"
            ]
          },
          "metadata": {},
          "execution_count": 53
        }
      ],
      "source": [
        "# Menghapus baris yang memiliki nilai 0.0 di kolom 'price'\n",
        "autos = autos[autos.price != 0.0]\n",
        "\n",
        "#cek kembali data kolom price\n",
        "autos.price.value_counts().sort_index(ascending=False).tail()"
      ]
    },
    {
      "cell_type": "code",
      "execution_count": 54,
      "metadata": {
        "colab": {
          "base_uri": "https://localhost:8080/",
          "height": 562
        },
        "id": "eLCVj5k2TEqC",
        "outputId": "323e06f0-0490-4837-cb98-3f1f1ff2330b"
      },
      "outputs": [
        {
          "output_type": "display_data",
          "data": {
            "text/plain": [
              "<Figure size 1000x600 with 1 Axes>"
            ],
            "image/png": "[encoded data removed]"
          },
          "metadata": {}
        }
      ],
      "source": [
        "# Buat figure & axes\n",
        "fig, ax = plt.subplots(figsize=(10, 6))\n",
        "\n",
        "# Buat boxplot untuk kolom \"price\"\n",
        "sns.boxplot(data=autos,\n",
        "            x=\"price\",\n",
        "            ax=ax)\n",
        "\n",
        "# Tampilkan plot\n",
        "plt.show()"
      ]
    },
    {
      "cell_type": "markdown",
      "source": [
        "outlier setidaknya berkurang, namun kita harus menyelidiki lebih lanjut untuk menangani outlier"
      ],
      "metadata": {
        "id": "jQ6WdDI3-Ik4"
      }
    },
    {
      "cell_type": "code",
      "source": [
        "# cek statistik deskriptif kembali\n",
        "autos.price.describe()"
      ],
      "metadata": {
        "colab": {
          "base_uri": "https://localhost:8080/"
        },
        "id": "qx0LxMtU0mF6",
        "outputId": "d3e498c0-04a5-461e-8932-92bf1dfb8d13"
      },
      "execution_count": 59,
      "outputs": [
        {
          "output_type": "execute_result",
          "data": {
            "text/plain": [
              "count    3.467160e+05\n",
              "mean     6.158943e+03\n",
              "std      1.828427e+04\n",
              "min      1.000000e+00\n",
              "25%      1.250000e+03\n",
              "50%      3.150000e+03\n",
              "75%      7.500000e+03\n",
              "max      3.895000e+06\n",
              "Name: price, dtype: float64"
            ]
          },
          "metadata": {},
          "execution_count": 59
        }
      ]
    },
    {
      "cell_type": "code",
      "source": [
        "# Cari Q1 & Q3\n",
        "Q1 = autos.price.quantile(0.25)\n",
        "Q3 = autos.price.quantile(0.75)\n",
        "\n",
        "print(f\"Q1 : {Q1:.2f}\")\n",
        "print(f\"Q3 : {Q3:.2f}\")"
      ],
      "metadata": {
        "colab": {
          "base_uri": "https://localhost:8080/"
        },
        "id": "XVK5fNgN9PqK",
        "outputId": "1ca23fb5-01c0-4b5d-e5c0-61b2617aafe7"
      },
      "execution_count": 62,
      "outputs": [
        {
          "output_type": "stream",
          "name": "stdout",
          "text": [
            "Q1 : 1250.00\n",
            "Q3 : 7500.00\n"
          ]
        }
      ]
    },
    {
      "cell_type": "code",
      "source": [
        "# Cari IQR & BATAS MAXIMUM\n",
        "IQR = Q3 - Q1\n",
        "max_bound = Q3 + 1.5*IQR\n",
        "\n",
        "print(f\"IQR : {IQR:.2f}\")\n",
        "print(f\"Maximum Boundary : {max_bound:.2f}\")"
      ],
      "metadata": {
        "colab": {
          "base_uri": "https://localhost:8080/"
        },
        "id": "LaDG0Ams9TXA",
        "outputId": "88bc7db1-d96b-4c6a-d7d4-8dbd3aa14354"
      },
      "execution_count": 63,
      "outputs": [
        {
          "output_type": "stream",
          "name": "stdout",
          "text": [
            "IQR : 6250.00\n",
            "Maximum Boundary : 16875.00\n"
          ]
        }
      ]
    },
    {
      "cell_type": "code",
      "source": [
        "# Filter data tanpa outlier\n",
        "autos = autos[autos[\"price\"] < max_bound]"
      ],
      "metadata": {
        "id": "afXXKmf39XPm"
      },
      "execution_count": 64,
      "outputs": []
    },
    {
      "cell_type": "code",
      "source": [
        "# Buat figure & axes\n",
        "fig, ax = plt.subplots(figsize = (10, 6))\n",
        "\n",
        "# Buat histogram plot price\n",
        "sns.histplot(data = autos,\n",
        "             x = \"price\",\n",
        "             bins = 100,\n",
        "             ax = ax)\n",
        "\n",
        "plt.show()"
      ],
      "metadata": {
        "colab": {
          "base_uri": "https://localhost:8080/",
          "height": 391
        },
        "id": "yzPHjmM39g8T",
        "outputId": "b16216c7-674b-427f-d371-6c48b7a7e049"
      },
      "execution_count": 66,
      "outputs": [
        {
          "output_type": "display_data",
          "data": {
            "text/plain": [
              "<Figure size 1000x600 with 1 Axes>"
            ],
            "image/png": "[encoded data removed]"
          },
          "metadata": {}
        }
      ]
    },
    {
      "cell_type": "code",
      "source": [
        "# Validasi hasil filter\n",
        "autos[\"price\"].describe()"
      ],
      "metadata": {
        "colab": {
          "base_uri": "https://localhost:8080/"
        },
        "id": "Sgu55eUn-ABV",
        "outputId": "d4137891-b430-4c30-8d6f-b70973d838b5"
      },
      "execution_count": 67,
      "outputs": [
        {
          "output_type": "execute_result",
          "data": {
            "text/plain": [
              "count    320760.000000\n",
              "mean       4219.965482\n",
              "std        3966.895356\n",
              "min           1.000000\n",
              "25%        1199.000000\n",
              "50%        2800.000000\n",
              "75%        6200.000000\n",
              "max       16870.000000\n",
              "Name: price, dtype: float64"
            ]
          },
          "metadata": {},
          "execution_count": 67
        }
      ]
    },
    {
      "cell_type": "markdown",
      "source": [
        "Terlihat Q3 dan nilai maximum masih berbeda jauh\n",
        "Outlier telah belum sepenuhnya dihilangkan.\n",
        "kita coba sekali lagi"
      ],
      "metadata": {
        "id": "c14iTgdN-vxb"
      }
    },
    {
      "cell_type": "code",
      "source": [
        "# Cari Q1 & Q3\n",
        "Q1 = autos.price.quantile(0.25)\n",
        "Q3 = autos.price.quantile(0.75)\n",
        "\n",
        "print(f\"Q1 : {Q1:.2f}\")\n",
        "print(f\"Q3 : {Q3:.2f}\")"
      ],
      "metadata": {
        "colab": {
          "base_uri": "https://localhost:8080/"
        },
        "id": "hI6hxr94-7k-",
        "outputId": "b4932db5-88d7-49bb-eee3-b44326f5ebb6"
      },
      "execution_count": 68,
      "outputs": [
        {
          "output_type": "stream",
          "name": "stdout",
          "text": [
            "Q1 : 1199.00\n",
            "Q3 : 6200.00\n"
          ]
        }
      ]
    },
    {
      "cell_type": "code",
      "source": [
        "# Cari IQR & BATAS MAXIMUM\n",
        "IQR = Q3 - Q1\n",
        "max_bound = Q3 + 1.5*IQR\n",
        "\n",
        "print(f\"IQR : {IQR:.2f}\")\n",
        "print(f\"Maximum Boundary : {max_bound:.2f}\")"
      ],
      "metadata": {
        "colab": {
          "base_uri": "https://localhost:8080/"
        },
        "id": "pxBFk5lm_F3b",
        "outputId": "273e0e99-58bb-413f-d9ca-18eff789c118"
      },
      "execution_count": 69,
      "outputs": [
        {
          "output_type": "stream",
          "name": "stdout",
          "text": [
            "IQR : 5001.00\n",
            "Maximum Boundary : 13701.50\n"
          ]
        }
      ]
    },
    {
      "cell_type": "code",
      "source": [
        "# Filter data tanpa outlier\n",
        "autos = autos[autos[\"price\"] < max_bound]"
      ],
      "metadata": {
        "id": "Mb3dboCn_LIG"
      },
      "execution_count": 70,
      "outputs": []
    },
    {
      "cell_type": "code",
      "source": [
        "# Validasi hasil filter\n",
        "autos[\"price\"].describe()"
      ],
      "metadata": {
        "colab": {
          "base_uri": "https://localhost:8080/"
        },
        "id": "PCL1ZRnQ_Mlg",
        "outputId": "cd13dbe6-9dbe-4d98-e23d-8cb9d2cfcd9c"
      },
      "execution_count": 71,
      "outputs": [
        {
          "output_type": "execute_result",
          "data": {
            "text/plain": [
              "count    307837.000000\n",
              "mean       3762.720449\n",
              "std        3342.770053\n",
              "min           1.000000\n",
              "25%        1100.000000\n",
              "50%        2600.000000\n",
              "75%        5600.000000\n",
              "max       13700.000000\n",
              "Name: price, dtype: float64"
            ]
          },
          "metadata": {},
          "execution_count": 71
        }
      ]
    },
    {
      "cell_type": "code",
      "source": [
        "# Buat figure & axes\n",
        "fig, ax = plt.subplots(figsize = (10, 6))\n",
        "\n",
        "# Buat histogram plot price\n",
        "sns.histplot(data = autos,\n",
        "             x = \"price\",\n",
        "             bins = 100,\n",
        "             ax = ax)\n",
        "\n",
        "plt.show()"
      ],
      "metadata": {
        "colab": {
          "base_uri": "https://localhost:8080/",
          "height": 396
        },
        "id": "pdXzjcQA_YTy",
        "outputId": "f08fa7c1-f6e8-4f80-e9b6-47e68de649cf"
      },
      "execution_count": 72,
      "outputs": [
        {
          "output_type": "display_data",
          "data": {
            "text/plain": [
              "<Figure size 1000x600 with 1 Axes>"
            ],
            "image/png": "[encoded data removed]"
          },
          "metadata": {}
        }
      ]
    },
    {
      "cell_type": "markdown",
      "source": [
        "ternyata distribusinya masih miring ke kanan kita coba melihat sebaran outlier dari 'price' berdasarkan 'vehicle_type'"
      ],
      "metadata": {
        "id": "sZNkNujoTTwB"
      }
    },
    {
      "cell_type": "code",
      "source": [
        "# Membuat boxplot\n",
        "plt.figure(figsize=(10, 6))  # Ukuran plot\n",
        "sns.boxplot(x='vehicle_type', y='price', data=autos)\n",
        "plt.title('Rentang Price base of Vehicle Type')\n",
        "plt.xlabel('Vehicle Type')\n",
        "plt.ylabel('Price')\n",
        "plt.xticks(rotation=45)  # Memutar label sumbu x agar mudah dibaca\n",
        "plt.grid(True)\n",
        "plt.show()"
      ],
      "metadata": {
        "colab": {
          "base_uri": "https://localhost:8080/",
          "height": 450
        },
        "id": "BYWUVlBsYk1U",
        "outputId": "4b66decf-5a58-40ee-dcb5-187ef29c2f55"
      },
      "execution_count": 73,
      "outputs": [
        {
          "output_type": "display_data",
          "data": {
            "text/plain": [
              "<Figure size 1000x600 with 1 Axes>"
            ],
            "image/png": "[encoded data removed]"
          },
          "metadata": {}
        }
      ]
    },
    {
      "cell_type": "markdown",
      "source": [
        "ternyata terdapat outlier dari beberapa tipe mesin.\n",
        "kita akan mengubah harga berdasarkan IQR, kita cari tahu dulu IQR dari masing-masing tipe"
      ],
      "metadata": {
        "id": "C4WretUTjUzw"
      }
    },
    {
      "cell_type": "code",
      "source": [
        "# Menghitung IQR, Q1, dan Q3 dari price digroup berdasarkan vehicle_type\n",
        "result = autos.groupby('vehicle_type')['price'].describe(percentiles=[.25, .75])\n",
        "\n",
        "# Menghitung IQR\n",
        "result['IQR'] = result['75%'] - result['25%']\n",
        "\n",
        "# Menampilkan hasil\n",
        "result['IQR']"
      ],
      "metadata": {
        "colab": {
          "base_uri": "https://localhost:8080/"
        },
        "id": "e400IPLsj0mR",
        "outputId": "cd89db43-8f0a-4f31-8925-7e6abd8a1222"
      },
      "execution_count": 74,
      "outputs": [
        {
          "output_type": "execute_result",
          "data": {
            "text/plain": [
              "vehicle_type\n",
              "andere        3500.00\n",
              "bus           4790.00\n",
              "cabrio        5300.00\n",
              "coupe         5001.00\n",
              "kleinwagen    2710.00\n",
              "kombi         4920.00\n",
              "limousine     4699.00\n",
              "other         2099.00\n",
              "suv           6250.75\n",
              "Name: IQR, dtype: float64"
            ]
          },
          "metadata": {},
          "execution_count": 74
        }
      ]
    },
    {
      "cell_type": "code",
      "source": [
        "# Menghapus outlier sesuai dengan data IQR\n",
        "autos = autos[(autos.vehicle_type == 'andere') & (autos.price <= 3500) |\n",
        "              (autos.vehicle_type == 'bus') & (autos.price <= 4790) |\n",
        "              (autos.vehicle_type == 'cabrio') & (autos.price <= 5300) |\n",
        "              (autos.vehicle_type == 'coupe') & (autos.price <= 5001) |\n",
        "              (autos.vehicle_type == 'kleinwagen') & (autos.price <= 2710) |\n",
        "              (autos.vehicle_type == 'kombi') & (autos.price <= 4920) |\n",
        "              (autos.vehicle_type == 'limousine') & (autos.price <= 4699) |\n",
        "              (autos.vehicle_type == 'other') & (autos.price <= 2099) |\n",
        "              (autos.vehicle_type == 'suv') & (autos.price <= 6250)]"
      ],
      "metadata": {
        "id": "BRu8A_pqj7q8"
      },
      "execution_count": 75,
      "outputs": []
    },
    {
      "cell_type": "code",
      "source": [
        "# Membuat boxplot\n",
        "plt.figure(figsize=(10, 6))  # Ukuran plot\n",
        "sns.boxplot(x='vehicle_type', y='price', data=autos)\n",
        "plt.title('Rentang Price base of Vehicle Type')\n",
        "plt.xlabel('Vehicle Type')\n",
        "plt.ylabel('Price')\n",
        "plt.xticks(rotation=45)  # Memutar label sumbu x agar mudah dibaca\n",
        "plt.grid(True)\n",
        "plt.show()"
      ],
      "metadata": {
        "colab": {
          "base_uri": "https://localhost:8080/",
          "height": 455
        },
        "id": "DUjB49CikCCz",
        "outputId": "b241f3c2-ced6-4de8-c3a5-70ffeea60e43"
      },
      "execution_count": 76,
      "outputs": [
        {
          "output_type": "display_data",
          "data": {
            "text/plain": [
              "<Figure size 1000x600 with 1 Axes>"
            ],
            "image/png": "[encoded data removed]"
          },
          "metadata": {}
        }
      ]
    },
    {
      "cell_type": "markdown",
      "source": [
        "kita cek kembali data price"
      ],
      "metadata": {
        "id": "0grvxPl6kgtc"
      }
    },
    {
      "cell_type": "code",
      "source": [
        "# Buat figure & axes\n",
        "fig, ax = plt.subplots(figsize = (10, 6))\n",
        "\n",
        "# Buat histogram plot price\n",
        "sns.histplot(data = autos,\n",
        "             x = \"price\",\n",
        "             bins = 100,\n",
        "             ax = ax)\n",
        "\n",
        "plt.show()"
      ],
      "metadata": {
        "colab": {
          "base_uri": "https://localhost:8080/",
          "height": 397
        },
        "id": "2tHhISyXkeTK",
        "outputId": "06255d91-d287-458f-b004-8e0c5a4daee4"
      },
      "execution_count": 77,
      "outputs": [
        {
          "output_type": "display_data",
          "data": {
            "text/plain": [
              "<Figure size 1000x600 with 1 Axes>"
            ],
            "image/png": "[encoded data removed]"
          },
          "metadata": {}
        }
      ]
    },
    {
      "cell_type": "code",
      "source": [
        "autos.price.describe()"
      ],
      "metadata": {
        "colab": {
          "base_uri": "https://localhost:8080/"
        },
        "id": "4t8nElhelmbr",
        "outputId": "f9846d67-e143-47f9-f3f8-e5447f3dc985"
      },
      "execution_count": 79,
      "outputs": [
        {
          "output_type": "execute_result",
          "data": {
            "text/plain": [
              "count    201751.000000\n",
              "mean       1784.406357\n",
              "std        1251.990960\n",
              "min           1.000000\n",
              "25%         799.000000\n",
              "50%        1500.000000\n",
              "75%        2500.000000\n",
              "max        6250.000000\n",
              "Name: price, dtype: float64"
            ]
          },
          "metadata": {},
          "execution_count": 79
        }
      ]
    },
    {
      "cell_type": "markdown",
      "source": [
        "- Terlihat Q3 dan nilai maximum sudah tidak berbeda jauh\n",
        "- Outlier telah dihilangkan"
      ],
      "metadata": {
        "id": "y93BsvdomB6e"
      }
    },
    {
      "cell_type": "markdown",
      "metadata": {
        "id": "uj0ScFJQxYQ9"
      },
      "source": [
        "## Eksport Dataset"
      ]
    },
    {
      "cell_type": "code",
      "execution_count": 81,
      "metadata": {
        "id": "qBUoXJ_6xTj7"
      },
      "outputs": [],
      "source": [
        "#eksport dataset yang telah dicleaning\n",
        "autos.to_csv('autos_cleaned.csv', index=False)"
      ]
    }
  ],
  "metadata": {
    "colab": {
      "provenance": [],
      "authorship_tag": "ABX9TyOeoyE8RgCaG+UhQIiW48uH",
      "include_colab_link": true
    },
    "kernelspec": {
      "display_name": "Python 3",
      "name": "python3"
    },
    "language_info": {
      "name": "python"
    }
  },
  "nbformat": 4,
  "nbformat_minor": 0
}